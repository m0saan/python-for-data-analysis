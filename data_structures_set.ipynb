{
 "cells": [
  {
   "cell_type": "code",
   "execution_count": 1,
   "id": "45d012d0",
   "metadata": {},
   "outputs": [],
   "source": [
    "# set\n",
    "# A set is an unordered collection of unique elements.\n",
    "# You can think of them like dicts, but keys only, no values\n",
    "# A set can be created in two ways: via the set function or via a set literal with curly braces."
   ]
  },
  {
   "cell_type": "code",
   "execution_count": 2,
   "id": "63771d41",
   "metadata": {},
   "outputs": [
    {
     "data": {
      "text/plain": [
       "{1, 2, 3}"
      ]
     },
     "execution_count": 2,
     "metadata": {},
     "output_type": "execute_result"
    }
   ],
   "source": [
    "set([2, 2, 2, 1, 3, 3])"
   ]
  },
  {
   "cell_type": "code",
   "execution_count": 3,
   "id": "eb56ba2b",
   "metadata": {},
   "outputs": [
    {
     "data": {
      "text/plain": [
       "{1, 2, 3}"
      ]
     },
     "execution_count": 3,
     "metadata": {},
     "output_type": "execute_result"
    }
   ],
   "source": [
    "{2,2,2,1,3,3}"
   ]
  },
  {
   "cell_type": "code",
   "execution_count": 4,
   "id": "c4e5a9e2",
   "metadata": {},
   "outputs": [],
   "source": [
    "# Sets support mathematical set operations like union, intersection, difference,\n",
    "# and symmetric difference.\n",
    "\n",
    "a = {1, 2, 3, 4, 5}\n",
    "b = {3, 4, 5, 6, 7, 8}"
   ]
  },
  {
   "cell_type": "code",
   "execution_count": 7,
   "id": "93824137",
   "metadata": {},
   "outputs": [],
   "source": [
    "# The union of these two sets is the set of distinct elements occurring in either set.\n",
    "# This can be computed with either the union method or the | binary operator:"
   ]
  },
  {
   "cell_type": "code",
   "execution_count": 8,
   "id": "0dec267b",
   "metadata": {},
   "outputs": [
    {
     "data": {
      "text/plain": [
       "{1, 2, 3, 4, 5, 6, 7, 8}"
      ]
     },
     "execution_count": 8,
     "metadata": {},
     "output_type": "execute_result"
    }
   ],
   "source": [
    "a.union(b)"
   ]
  },
  {
   "cell_type": "code",
   "execution_count": 9,
   "id": "54c3d2f2",
   "metadata": {},
   "outputs": [
    {
     "data": {
      "text/plain": [
       "{1, 2, 3, 4, 5, 6, 7, 8}"
      ]
     },
     "execution_count": 9,
     "metadata": {},
     "output_type": "execute_result"
    }
   ],
   "source": [
    "a | b"
   ]
  },
  {
   "cell_type": "code",
   "execution_count": 10,
   "id": "808cf59b",
   "metadata": {},
   "outputs": [],
   "source": [
    "# The intersection contains the elements occurring in both sets.\n",
    "# The & operator or the intersection method can be used:"
   ]
  },
  {
   "cell_type": "code",
   "execution_count": 11,
   "id": "563ff73c",
   "metadata": {},
   "outputs": [
    {
     "data": {
      "text/plain": [
       "{3, 4, 5}"
      ]
     },
     "execution_count": 11,
     "metadata": {},
     "output_type": "execute_result"
    }
   ],
   "source": [
    "a.intersection(b)"
   ]
  },
  {
   "cell_type": "code",
   "execution_count": 12,
   "id": "a4eb82ae",
   "metadata": {},
   "outputs": [
    {
     "data": {
      "text/plain": [
       "{3, 4, 5}"
      ]
     },
     "execution_count": 12,
     "metadata": {},
     "output_type": "execute_result"
    }
   ],
   "source": [
    "a & b"
   ]
  },
  {
   "cell_type": "code",
   "execution_count": null,
   "id": "424f5c8b",
   "metadata": {},
   "outputs": [],
   "source": [
    "# You can also check if a set is a subset of (is contained in)\n",
    "# or a superset of (contains all elements of) another set:\n",
    "a_set = {1, 2, 3, 4, 5}\n"
   ]
  }
 ],
 "metadata": {
  "kernelspec": {
   "display_name": "Python 3",
   "language": "python",
   "name": "python3"
  },
  "language_info": {
   "codemirror_mode": {
    "name": "ipython",
    "version": 3
   },
   "file_extension": ".py",
   "mimetype": "text/x-python",
   "name": "python",
   "nbconvert_exporter": "python",
   "pygments_lexer": "ipython3",
   "version": "3.8.5"
  }
 },
 "nbformat": 4,
 "nbformat_minor": 5
}
