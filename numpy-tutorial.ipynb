{
 "cells": [
  {
   "cell_type": "code",
   "execution_count": 2,
   "id": "0708d55f",
   "metadata": {},
   "outputs": [],
   "source": [
    "# Importing numpy\n",
    "import numpy as np"
   ]
  },
  {
   "cell_type": "code",
   "execution_count": null,
   "id": "d803cf0b",
   "metadata": {},
   "outputs": [],
   "source": [
    "\n",
    "# Introducing NumPy Arrays\n"
   ]
  },
  {
   "cell_type": "code",
   "execution_count": 3,
   "id": "8e6d1491",
   "metadata": {},
   "outputs": [],
   "source": [
    "# Simple array creation\n",
    "a = np.array([0,1,2,3,4])"
   ]
  },
  {
   "cell_type": "code",
   "execution_count": 4,
   "id": "260a736b",
   "metadata": {},
   "outputs": [
    {
     "data": {
      "text/plain": [
       "numpy.ndarray"
      ]
     },
     "execution_count": 4,
     "metadata": {},
     "output_type": "execute_result"
    }
   ],
   "source": [
    "# Cheking the type\n",
    "type(a)"
   ]
  },
  {
   "cell_type": "code",
   "execution_count": 6,
   "id": "591faef8",
   "metadata": {},
   "outputs": [
    {
     "data": {
      "text/plain": [
       "dtype('int64')"
      ]
     },
     "execution_count": 6,
     "metadata": {},
     "output_type": "execute_result"
    }
   ],
   "source": [
    "# Numeric 'type' of elements\n",
    "a.dtype"
   ]
  },
  {
   "cell_type": "code",
   "execution_count": 7,
   "id": "ed524e1b",
   "metadata": {},
   "outputs": [
    {
     "data": {
      "text/plain": [
       "1"
      ]
     },
     "execution_count": 7,
     "metadata": {},
     "output_type": "execute_result"
    }
   ],
   "source": [
    "# Number of dimentions\n",
    "a.ndim"
   ]
  },
  {
   "cell_type": "code",
   "execution_count": 11,
   "id": "64ff3f0e",
   "metadata": {},
   "outputs": [
    {
     "data": {
      "text/plain": [
       "(5,)"
      ]
     },
     "execution_count": 11,
     "metadata": {},
     "output_type": "execute_result"
    }
   ],
   "source": [
    "# Array shape\n",
    "#  Shape returns a tuple\n",
    "# listing the length of the\n",
    "# array along each dimension.\n",
    "\n",
    "a.shape"
   ]
  },
  {
   "cell_type": "code",
   "execution_count": 12,
   "id": "20cf85be",
   "metadata": {},
   "outputs": [
    {
     "data": {
      "text/plain": [
       "5"
      ]
     },
     "execution_count": 12,
     "metadata": {},
     "output_type": "execute_result"
    }
   ],
   "source": [
    "# Get the number of elements in the array\n",
    "a.size"
   ]
  },
  {
   "cell_type": "code",
   "execution_count": 9,
   "id": "483b1473",
   "metadata": {},
   "outputs": [
    {
     "data": {
      "text/plain": [
       "8"
      ]
     },
     "execution_count": 9,
     "metadata": {},
     "output_type": "execute_result"
    }
   ],
   "source": [
    "# Bytes per elements.\n",
    "a.itemsize"
   ]
  },
  {
   "cell_type": "code",
   "execution_count": 10,
   "id": "c788a636",
   "metadata": {},
   "outputs": [
    {
     "data": {
      "text/plain": [
       "40"
      ]
     },
     "execution_count": 10,
     "metadata": {},
     "output_type": "execute_result"
    }
   ],
   "source": [
    "# Bytes of memory used\n",
    "# Return the number of bytes\n",
    "# used by the data portion of\n",
    "# the array.\n",
    "\n",
    "# a has 5 items each takes 8 bytes -> 40.\n",
    "\n",
    "a.nbytes"
   ]
  },
  {
   "cell_type": "code",
   "execution_count": 14,
   "id": "20c4b87a",
   "metadata": {},
   "outputs": [],
   "source": [
    "\n",
    "# Array Operations\n"
   ]
  },
  {
   "cell_type": "code",
   "execution_count": 15,
   "id": "827fc15c",
   "metadata": {},
   "outputs": [],
   "source": [
    "a = np.array([1, 2, 3, 4])\n",
    "b = np.array([2, 3, 4, 5])"
   ]
  },
  {
   "cell_type": "code",
   "execution_count": 16,
   "id": "f9cef1bc",
   "metadata": {},
   "outputs": [
    {
     "data": {
      "text/plain": [
       "array([3, 5, 7, 9])"
      ]
     },
     "execution_count": 16,
     "metadata": {},
     "output_type": "execute_result"
    }
   ],
   "source": [
    "# Addition\n",
    "a + b"
   ]
  },
  {
   "cell_type": "code",
   "execution_count": 17,
   "id": "5c8c2806",
   "metadata": {},
   "outputs": [
    {
     "data": {
      "text/plain": [
       "array([-1, -1, -1, -1])"
      ]
     },
     "execution_count": 17,
     "metadata": {},
     "output_type": "execute_result"
    }
   ],
   "source": [
    "# Subtraction\n",
    "a - b"
   ]
  },
  {
   "cell_type": "code",
   "execution_count": 18,
   "id": "b1812352",
   "metadata": {},
   "outputs": [
    {
     "data": {
      "text/plain": [
       "array([ 2,  6, 12, 20])"
      ]
     },
     "execution_count": 18,
     "metadata": {},
     "output_type": "execute_result"
    }
   ],
   "source": [
    "# Multiplication\n",
    "a * b"
   ]
  },
  {
   "cell_type": "code",
   "execution_count": 19,
   "id": "5aa2b04a",
   "metadata": {},
   "outputs": [
    {
     "data": {
      "text/plain": [
       "array([0.5       , 0.66666667, 0.75      , 0.8       ])"
      ]
     },
     "execution_count": 19,
     "metadata": {},
     "output_type": "execute_result"
    }
   ],
   "source": [
    "# Division\n",
    "a / b"
   ]
  },
  {
   "cell_type": "code",
   "execution_count": 20,
   "id": "012cc665",
   "metadata": {},
   "outputs": [
    {
     "data": {
      "text/plain": [
       "array([   1,    8,   81, 1024])"
      ]
     },
     "execution_count": 20,
     "metadata": {},
     "output_type": "execute_result"
    }
   ],
   "source": [
    "# Power\n",
    "a ** b"
   ]
  },
  {
   "cell_type": "code",
   "execution_count": 21,
   "id": "e219c0da",
   "metadata": {},
   "outputs": [],
   "source": [
    " # Math functions"
   ]
  },
  {
   "cell_type": "code",
   "execution_count": 23,
   "id": "560983ba",
   "metadata": {},
   "outputs": [],
   "source": [
    "# create array from 0. to 10.\n",
    "x = np.arange(11.)"
   ]
  },
  {
   "cell_type": "code",
   "execution_count": 24,
   "id": "80ed0bcd",
   "metadata": {},
   "outputs": [
    {
     "data": {
      "text/plain": [
       "array([ 0.,  1.,  2.,  3.,  4.,  5.,  6.,  7.,  8.,  9., 10.])"
      ]
     },
     "execution_count": 24,
     "metadata": {},
     "output_type": "execute_result"
    }
   ],
   "source": [
    "x"
   ]
  },
  {
   "cell_type": "code",
   "execution_count": 25,
   "id": "217c4555",
   "metadata": {},
   "outputs": [],
   "source": [
    "# multiply entire array by \n",
    "# scalar value\n",
    "c = (2 * np.pi) / 10."
   ]
  },
  {
   "cell_type": "code",
   "execution_count": 26,
   "id": "2820c620",
   "metadata": {},
   "outputs": [
    {
     "data": {
      "text/plain": [
       "array([0.        , 0.62831853, 1.25663706, 1.88495559, 2.51327412,\n",
       "       3.14159265, 3.76991118, 4.39822972, 5.02654825, 5.65486678,\n",
       "       6.28318531])"
      ]
     },
     "execution_count": 26,
     "metadata": {},
     "output_type": "execute_result"
    }
   ],
   "source": [
    "c * x"
   ]
  },
  {
   "cell_type": "code",
   "execution_count": 27,
   "id": "ea114809",
   "metadata": {},
   "outputs": [],
   "source": [
    "# in-place operations\n",
    "x *= c"
   ]
  },
  {
   "cell_type": "code",
   "execution_count": 28,
   "id": "5fbd8122",
   "metadata": {},
   "outputs": [
    {
     "data": {
      "text/plain": [
       "array([0.        , 0.62831853, 1.25663706, 1.88495559, 2.51327412,\n",
       "       3.14159265, 3.76991118, 4.39822972, 5.02654825, 5.65486678,\n",
       "       6.28318531])"
      ]
     },
     "execution_count": 28,
     "metadata": {},
     "output_type": "execute_result"
    }
   ],
   "source": [
    "x"
   ]
  },
  {
   "cell_type": "code",
   "execution_count": 29,
   "id": "62ea4477",
   "metadata": {},
   "outputs": [
    {
     "data": {
      "text/plain": [
       "array([ 0.00000000e+00,  5.87785252e-01,  9.51056516e-01,  9.51056516e-01,\n",
       "        5.87785252e-01,  1.22464680e-16, -5.87785252e-01, -9.51056516e-01,\n",
       "       -9.51056516e-01, -5.87785252e-01, -2.44929360e-16])"
      ]
     },
     "execution_count": 29,
     "metadata": {},
     "output_type": "execute_result"
    }
   ],
   "source": [
    "# apply functions to array\n",
    "np.sin(x)"
   ]
  },
  {
   "cell_type": "code",
   "execution_count": 30,
   "id": "1d9e7fd1",
   "metadata": {},
   "outputs": [],
   "source": [
    "# Setting Array Elements."
   ]
  },
  {
   "cell_type": "code",
   "execution_count": 31,
   "id": "24a3c1b6",
   "metadata": {},
   "outputs": [
    {
     "data": {
      "text/plain": [
       "1"
      ]
     },
     "execution_count": 31,
     "metadata": {},
     "output_type": "execute_result"
    }
   ],
   "source": [
    "# Array indexing\n",
    "a[0]"
   ]
  },
  {
   "cell_type": "code",
   "execution_count": 32,
   "id": "d93abbaa",
   "metadata": {},
   "outputs": [
    {
     "data": {
      "text/plain": [
       "array([1, 2, 3, 4])"
      ]
     },
     "execution_count": 32,
     "metadata": {},
     "output_type": "execute_result"
    }
   ],
   "source": [
    "a"
   ]
  },
  {
   "cell_type": "code",
   "execution_count": 33,
   "id": "a8817888",
   "metadata": {},
   "outputs": [],
   "source": [
    "# assigning a float into\n",
    "# an int32 array truncates\n",
    "# the decimal part\n",
    "a[0] = 10.6"
   ]
  },
  {
   "cell_type": "code",
   "execution_count": 34,
   "id": "c5368bed",
   "metadata": {},
   "outputs": [
    {
     "data": {
      "text/plain": [
       "array([10,  2,  3,  4])"
      ]
     },
     "execution_count": 34,
     "metadata": {},
     "output_type": "execute_result"
    }
   ],
   "source": [
    "a"
   ]
  },
  {
   "cell_type": "code",
   "execution_count": 35,
   "id": "5245f745",
   "metadata": {},
   "outputs": [],
   "source": [
    "# fill has the same behavior\n",
    "a.fill(-4.8)"
   ]
  },
  {
   "cell_type": "code",
   "execution_count": 36,
   "id": "1ab1fd54",
   "metadata": {},
   "outputs": [
    {
     "data": {
      "text/plain": [
       "array([-4, -4, -4, -4])"
      ]
     },
     "execution_count": 36,
     "metadata": {},
     "output_type": "execute_result"
    }
   ],
   "source": [
    "a"
   ]
  },
  {
   "cell_type": "code",
   "execution_count": 37,
   "id": "c1f0df1f",
   "metadata": {},
   "outputs": [],
   "source": [
    "# Multi-Dimentional Arrays "
   ]
  },
  {
   "cell_type": "code",
   "execution_count": 38,
   "id": "81071b19",
   "metadata": {},
   "outputs": [],
   "source": [
    "arr_2d = np.array([[0,1,2,3], [10,11,12,14]])"
   ]
  },
  {
   "cell_type": "code",
   "execution_count": 39,
   "id": "c5431ec2",
   "metadata": {},
   "outputs": [
    {
     "data": {
      "text/plain": [
       "array([[ 0,  1,  2,  3],\n",
       "       [10, 11, 12, 14]])"
      ]
     },
     "execution_count": 39,
     "metadata": {},
     "output_type": "execute_result"
    }
   ],
   "source": [
    "arr_2d"
   ]
  },
  {
   "cell_type": "code",
   "execution_count": 40,
   "id": "f5eba984",
   "metadata": {},
   "outputs": [
    {
     "data": {
      "text/plain": [
       "(2, 4)"
      ]
     },
     "execution_count": 40,
     "metadata": {},
     "output_type": "execute_result"
    }
   ],
   "source": [
    "arr_2d.shape"
   ]
  },
  {
   "cell_type": "code",
   "execution_count": 43,
   "id": "5b87c4be",
   "metadata": {
    "scrolled": true
   },
   "outputs": [
    {
     "data": {
      "text/plain": [
       "8"
      ]
     },
     "execution_count": 43,
     "metadata": {},
     "output_type": "execute_result"
    }
   ],
   "source": [
    " # Element count\n",
    "arr_2d.size"
   ]
  },
  {
   "cell_type": "code",
   "execution_count": 44,
   "id": "02dbb1d5",
   "metadata": {},
   "outputs": [
    {
     "data": {
      "text/plain": [
       "2"
      ]
     },
     "execution_count": 44,
     "metadata": {},
     "output_type": "execute_result"
    }
   ],
   "source": [
    "# Number of dimentions\n",
    "arr_2d.ndim"
   ]
  },
  {
   "cell_type": "code",
   "execution_count": 45,
   "id": "f8ac0dd8",
   "metadata": {},
   "outputs": [
    {
     "data": {
      "text/plain": [
       "0"
      ]
     },
     "execution_count": 45,
     "metadata": {},
     "output_type": "execute_result"
    }
   ],
   "source": [
    "# Get, Set Elements\n",
    "arr_2d[0, 0] # get the first item of the first array"
   ]
  },
  {
   "cell_type": "code",
   "execution_count": 46,
   "id": "9ef2e8e0",
   "metadata": {},
   "outputs": [
    {
     "data": {
      "text/plain": [
       "12"
      ]
     },
     "execution_count": 46,
     "metadata": {},
     "output_type": "execute_result"
    }
   ],
   "source": [
    "arr_2d[1,2] # get the third item of the second array\n",
    "# NOTE : Numpy has 0 indexed arrays."
   ]
  },
  {
   "cell_type": "code",
   "execution_count": 47,
   "id": "f25ce775",
   "metadata": {},
   "outputs": [],
   "source": [
    "arr_2d[1, 3] = -1"
   ]
  },
  {
   "cell_type": "code",
   "execution_count": 48,
   "id": "3c9684e8",
   "metadata": {},
   "outputs": [
    {
     "data": {
      "text/plain": [
       "array([[ 0,  1,  2,  3],\n",
       "       [10, 11, 12, -1]])"
      ]
     },
     "execution_count": 48,
     "metadata": {},
     "output_type": "execute_result"
    }
   ],
   "source": [
    "arr_2d"
   ]
  },
  {
   "cell_type": "code",
   "execution_count": 50,
   "id": "459c5bf1",
   "metadata": {},
   "outputs": [
    {
     "data": {
      "text/plain": [
       "array([10, 11, 12, -1])"
      ]
     },
     "execution_count": 50,
     "metadata": {},
     "output_type": "execute_result"
    }
   ],
   "source": [
    "arr_2d[1] # Get all the elements of the second array"
   ]
  },
  {
   "cell_type": "code",
   "execution_count": 51,
   "id": "bc899746",
   "metadata": {},
   "outputs": [],
   "source": [
    "\n",
    "# Indexing and Slicing\n"
   ]
  },
  {
   "cell_type": "code",
   "execution_count": 52,
   "id": "07a019b4",
   "metadata": {},
   "outputs": [
    {
     "data": {
      "text/plain": [
       "array([11, 12])"
      ]
     },
     "execution_count": 52,
     "metadata": {},
     "output_type": "execute_result"
    }
   ],
   "source": [
    "# Slicing\n",
    "# var[lower:upper:step]\n",
    "a = np.array([10,11,12,13,14])\n",
    "a[1:3]"
   ]
  },
  {
   "cell_type": "code",
   "execution_count": 53,
   "id": "4eb4772f",
   "metadata": {},
   "outputs": [
    {
     "data": {
      "text/plain": [
       "array([11, 12])"
      ]
     },
     "execution_count": 53,
     "metadata": {},
     "output_type": "execute_result"
    }
   ],
   "source": [
    "a[1:-2] # Negative indices work also"
   ]
  },
  {
   "cell_type": "code",
   "execution_count": 54,
   "id": "6d740700",
   "metadata": {},
   "outputs": [
    {
     "data": {
      "text/plain": [
       "array([11, 12])"
      ]
     },
     "execution_count": 54,
     "metadata": {},
     "output_type": "execute_result"
    }
   ],
   "source": [
    "a[-4:3]"
   ]
  },
  {
   "cell_type": "code",
   "execution_count": 55,
   "id": "41e76cdb",
   "metadata": {},
   "outputs": [],
   "source": [
    "# omitted boundaries are\n",
    "# assumed to be the beginning\n",
    "# (or end) of the list"
   ]
  },
  {
   "cell_type": "code",
   "execution_count": 56,
   "id": "e8498499",
   "metadata": {},
   "outputs": [
    {
     "data": {
      "text/plain": [
       "array([10, 11, 12])"
      ]
     },
     "execution_count": 56,
     "metadata": {},
     "output_type": "execute_result"
    }
   ],
   "source": [
    "a[:3] # Grab first 3 elements"
   ]
  },
  {
   "cell_type": "code",
   "execution_count": 58,
   "id": "2b276bb3",
   "metadata": {},
   "outputs": [
    {
     "data": {
      "text/plain": [
       "array([13, 14])"
      ]
     },
     "execution_count": 58,
     "metadata": {},
     "output_type": "execute_result"
    }
   ],
   "source": [
    "a[-2:] # Grab last 2 elements"
   ]
  },
  {
   "cell_type": "code",
   "execution_count": 59,
   "id": "cb967192",
   "metadata": {},
   "outputs": [
    {
     "data": {
      "text/plain": [
       "array([10, 12, 14])"
      ]
     },
     "execution_count": 59,
     "metadata": {},
     "output_type": "execute_result"
    }
   ],
   "source": [
    "a[::2] # every other element"
   ]
  },
  {
   "cell_type": "code",
   "execution_count": 60,
   "id": "fbc7c455",
   "metadata": {},
   "outputs": [],
   "source": [
    "# Array Slicin'\n",
    "# Slicing works much like\n",
    "# standard python slicing."
   ]
  },
  {
   "cell_type": "code",
   "execution_count": 71,
   "id": "2759d0c3",
   "metadata": {},
   "outputs": [
    {
     "data": {
      "text/plain": [
       "array([3, 4])"
      ]
     },
     "execution_count": 71,
     "metadata": {},
     "output_type": "execute_result"
    }
   ],
   "source": [
    "a = np.array([\n",
    "    [0,1,2,3,4,5],\n",
    "    [10,11,12,13,14,15],\n",
    "    [20,21,22,23,24,25],\n",
    "    [30,31,32,33,34,35],\n",
    "    [40,41,42,43,44,45],\n",
    "])\n",
    "a[0,3:5] # First row column 3->5 (5 not included.)"
   ]
  },
  {
   "cell_type": "code",
   "execution_count": 66,
   "id": "36cf808f",
   "metadata": {},
   "outputs": [
    {
     "data": {
      "text/plain": [
       "array([[24, 25],\n",
       "       [34, 35]])"
      ]
     },
     "execution_count": 66,
     "metadata": {},
     "output_type": "execute_result"
    }
   ],
   "source": [
    "a[2:, 4:] # Get all rows starting from row 2 and all columns starting\n",
    "          # from the fourth column"
   ]
  },
  {
   "cell_type": "code",
   "execution_count": 69,
   "id": "0ca9d7b7",
   "metadata": {},
   "outputs": [
    {
     "data": {
      "text/plain": [
       "array([ 2, 12, 22, 32])"
      ]
     },
     "execution_count": 69,
     "metadata": {},
     "output_type": "execute_result"
    }
   ],
   "source": [
    "a[:, 2] # All rows of column number 2."
   ]
  },
  {
   "cell_type": "code",
   "execution_count": 72,
   "id": "4c90155f",
   "metadata": {},
   "outputs": [
    {
     "data": {
      "text/plain": [
       "array([[20, 22, 24],\n",
       "       [40, 42, 44]])"
      ]
     },
     "execution_count": 72,
     "metadata": {},
     "output_type": "execute_result"
    }
   ],
   "source": [
    "a[2::2, ::2] # Strided are also possible"
   ]
  },
  {
   "cell_type": "code",
   "execution_count": 73,
   "id": "5a19d8ff",
   "metadata": {},
   "outputs": [],
   "source": [
    "# Slices are references to locations in memory\n",
    "# These memory locations can be used in assignment operations."
   ]
  },
  {
   "cell_type": "code",
   "execution_count": 78,
   "id": "09a62627",
   "metadata": {},
   "outputs": [
    {
     "data": {
      "text/plain": [
       "array([0, 1, 2, 3, 4])"
      ]
     },
     "execution_count": 78,
     "metadata": {},
     "output_type": "execute_result"
    }
   ],
   "source": [
    "a = np.array([0, 1, 2, 3, 4])\n",
    "# slicing the last two elements returns the data there\n",
    "a[-2:]\n",
    "a"
   ]
  },
  {
   "cell_type": "code",
   "execution_count": 77,
   "id": "72fbcc74",
   "metadata": {},
   "outputs": [
    {
     "data": {
      "text/plain": [
       "array([  0,   1,   2, -10, -20])"
      ]
     },
     "execution_count": 77,
     "metadata": {},
     "output_type": "execute_result"
    }
   ],
   "source": [
    "  # we can insert an iterable of length two\n",
    "a[-2:] = [-10, -20] # This is valid if they hae \n",
    "a"
   ]
  },
  {
   "cell_type": "code",
   "execution_count": 79,
   "id": "85fb8ce2",
   "metadata": {},
   "outputs": [
    {
     "data": {
      "text/plain": [
       "array([ 0,  1,  2, 99, 99])"
      ]
     },
     "execution_count": 79,
     "metadata": {},
     "output_type": "execute_result"
    }
   ],
   "source": [
    "# or a scalar value\n",
    "a[-2:] = 99\n",
    "a"
   ]
  },
  {
   "cell_type": "code",
   "execution_count": 81,
   "id": "11fc3731",
   "metadata": {},
   "outputs": [
    {
     "data": {
      "text/plain": [
       "array([[ 0,  1,  2,  3,  4],\n",
       "       [ 5,  6,  7,  8,  9],\n",
       "       [10, 11, 12, 13, 14],\n",
       "       [15, 16, 17, 18, 19],\n",
       "       [20, 21, 22, 23, 24]])"
      ]
     },
     "execution_count": 81,
     "metadata": {},
     "output_type": "execute_result"
    }
   ],
   "source": [
    "c = np.arange(25).reshape(5,5)\n",
    "c"
   ]
  },
  {
   "cell_type": "code",
   "execution_count": 82,
   "id": "9fa0319e",
   "metadata": {},
   "outputs": [
    {
     "data": {
      "text/plain": [
       "array([20, 21, 22, 23, 24])"
      ]
     },
     "execution_count": 82,
     "metadata": {},
     "output_type": "execute_result"
    }
   ],
   "source": [
    "c[-1]# get last row"
   ]
  },
  {
   "cell_type": "code",
   "execution_count": 85,
   "id": "95a405ae",
   "metadata": {},
   "outputs": [
    {
     "data": {
      "text/plain": [
       "array([[ 1,  3],\n",
       "       [ 6,  8],\n",
       "       [11, 13],\n",
       "       [16, 18],\n",
       "       [21, 23]])"
      ]
     },
     "execution_count": 85,
     "metadata": {},
     "output_type": "execute_result"
    }
   ],
   "source": [
    "c[:, 1::2]"
   ]
  },
  {
   "cell_type": "code",
   "execution_count": 88,
   "id": "89734371",
   "metadata": {},
   "outputs": [
    {
     "data": {
      "text/plain": [
       "array([[ 5,  7],\n",
       "       [15, 17]])"
      ]
     },
     "execution_count": 88,
     "metadata": {},
     "output_type": "execute_result"
    }
   ],
   "source": [
    "c[1::2, :-1:2]"
   ]
  },
  {
   "cell_type": "code",
   "execution_count": 92,
   "id": "efaedcee",
   "metadata": {},
   "outputs": [
    {
     "data": {
      "text/plain": [
       "array([[ 0,  1,  2,  3,  4],\n",
       "       [ 5,  6,  7,  8,  9],\n",
       "       [10, 11, 12, 13, 14],\n",
       "       [15, 16, 17, 18, 19],\n",
       "       [20, 21, 22, 23, 24]])"
      ]
     },
     "execution_count": 92,
     "metadata": {},
     "output_type": "execute_result"
    }
   ],
   "source": [
    "# If you wanna make a copy use copy()\n",
    "d = c.copy()\n",
    "d"
   ]
  },
  {
   "cell_type": "code",
   "execution_count": 94,
   "id": "138ca229",
   "metadata": {},
   "outputs": [
    {
     "data": {
      "text/plain": [
       "array([[  0, -10,   2,   3,   4],\n",
       "       [  5,   6,   7,   8,   9],\n",
       "       [ 10,  11,  12,  13,  14],\n",
       "       [ 15,  16,  17,  18,  19],\n",
       "       [ 20,  21,  22,  23,  24]])"
      ]
     },
     "execution_count": 94,
     "metadata": {},
     "output_type": "execute_result"
    }
   ],
   "source": [
    "d [0, 1] = -10\n",
    "d"
   ]
  },
  {
   "cell_type": "code",
   "execution_count": 96,
   "id": "ea111f05",
   "metadata": {},
   "outputs": [
    {
     "data": {
      "text/plain": [
       "array([[ 0,  1,  2,  3,  4],\n",
       "       [ 5,  6,  7,  8,  9],\n",
       "       [10, 11, 12, 13, 14],\n",
       "       [15, 16, 17, 18, 19],\n",
       "       [20, 21, 22, 23, 24]])"
      ]
     },
     "execution_count": 96,
     "metadata": {},
     "output_type": "execute_result"
    }
   ],
   "source": [
    "c # C is unchanged."
   ]
  },
  {
   "cell_type": "code",
   "execution_count": null,
   "id": "f12d62fe",
   "metadata": {},
   "outputs": [],
   "source": [
    "# Sliced Arrays And Shared Data."
   ]
  }
 ],
 "metadata": {
  "kernelspec": {
   "display_name": "Python 3",
   "language": "python",
   "name": "python3"
  },
  "language_info": {
   "codemirror_mode": {
    "name": "ipython",
    "version": 3
   },
   "file_extension": ".py",
   "mimetype": "text/x-python",
   "name": "python",
   "nbconvert_exporter": "python",
   "pygments_lexer": "ipython3",
   "version": "3.8.5"
  }
 },
 "nbformat": 4,
 "nbformat_minor": 5
}
