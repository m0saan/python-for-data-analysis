{
 "cells": [
  {
   "cell_type": "code",
   "execution_count": 1,
   "metadata": {},
   "outputs": [
    {
     "data": {
      "text/html": [
       "<style type=\"text/css\">\n",
       "    /*\n",
       "Author: Valerio Maggio < @leriomaggio >\n",
       "Code: https://github.com/leriomaggio/notexbook-jupyter-theme\n",
       "License: Apache License 2.0\n",
       "*/\n",
       "\n",
       "/*\n",
       "Author: Valerio Maggio < @leriomaggio >\n",
       "Code: https://github.com/leriomaggio/notexbook-jupyter-theme\n",
       "License: Apache License 2.0\n",
       "\n",
       " ======================================================\n",
       "                         FONTS\n",
       "\n",
       "    FONT WEIGHT MAP:\n",
       "    ----------------\n",
       "    100: Ultra Light\n",
       "    200: Thin\n",
       "    300: Light\n",
       "    400: Regular (normal)\n",
       "    500: Medium\n",
       "    600: Semi-bold\n",
       "    700: Bold\n",
       "    800: Heavy\n",
       "    900: Black\n",
       "\n",
       "    Font faces:\n",
       "        - ====================================|=======================\n",
       "        -              Scope                  | Font Family Name\n",
       "        - ====================================| ======================\n",
       "        - Markdown Display (Computer Modern)    (CMU Serif)\n",
       "        - Markdown Display monospace            (CMU Typewriter Text)\n",
       "        - Markdown Edit    monospace            (Hack)\n",
       "        - Source Code      monospace            (Fira Code)\n",
       "        - ====================================| =======================\n",
       "\n",
       " ======================================================  */\n",
       "\n",
       "/* Roboto Slab */\n",
       "@import url(\"https://fonts.googleapis.com/css2?family=Roboto+Slab:wght@100;200;300;400;500;600;700;800;900&display=swap\");\n",
       "/*md-display-computer-modern --> CMU Serif*/\n",
       "@import url(\"https://fonts.cdnfonts.com/css/cmu-serif?styles=30038,30039,30037,30036\");\n",
       "/*md-display-monospace --> CMU Typewriter Text*/\n",
       "@import url(\"https://fonts.cdnfonts.com/css/cmu-typewriter-text?styles=24833,24829,24830,24831,24832,24834\");\n",
       "/*code-monospace --> Fira Code*/\n",
       "@import url(\"https://fonts.googleapis.com/css2?family=Fira+Code:wght@300;400;500&display=swap\");\n",
       "/*md-edit-monospace --> Hack*/\n",
       "@import url(\"https://fonts.cdnfonts.com/css/hack?styles=20708,20707,20705,20706\");\n",
       "/*\n",
       "Author: Valerio Maggio < @leriomaggio >\n",
       "Code: https://github.com/leriomaggio/notexbook-jupyter-theme\n",
       "License: Apache License 2.0\n",
       "\n",
       "======================================================\n",
       "\n",
       "\n",
       "    ---------------------------------\n",
       "    Code Mirror - Code Cell Highlight\n",
       "    ---------------------------------\n",
       "\n",
       "    Define the Style for Code **and** Markdown editors (Themes)\n",
       "    Theme files are all located in the \"themes\" folder, and the\n",
       "    different styles for the Code and Markdown editors are\n",
       "    distinguished by a common prefix in the file names:\n",
       "\n",
       "        --> Code editors Themes: \"themes/code_*\"\n",
       "        --> Markdown Editor Themes: \"themes/md_*\"\n",
       "\n",
       "    Styles can be imported as separate CSS modules.\n",
       "\n",
       "    Current stylesheet (editor.css) defines the CSS rules\n",
       "    for notebook tags and classes. These rules are\n",
       "    all based to colors defined in external Theme files.\n",
       "\n",
       "    This would ease the definition of other custom CSS Editor themes\n",
       "*/\n",
       "\n",
       "/* Code Editor theme */\n",
       "\n",
       "    /*\n",
       "Author: Valerio Maggio < @leriomaggio >\n",
       "Code: https://github.com/leriomaggio/notexbook-jupyter-theme\n",
       "License: Apache License 2.0\n",
       "\n",
       " ======================================================\n",
       "\n",
       "The color palette is inspired by Light\n",
       " Material Design theme\n",
       "Repo: https://github.com/JonaDuran/Material-Light-Theme/\n",
       "*/\n",
       "\n",
       ":root {\n",
       "    /* Color Palette */\n",
       "    --ml-white: #ffffff;\n",
       "    --ml-light-white: #FAFAFA;\n",
       "    --ml-black: #24292E;\n",
       "    --ml-dark-blue : #01579B11;\n",
       "    --ml-dark-blue-2: #01579B22;\n",
       "    --ml-blue: #1565C0;\n",
       "    --ml-green: #2E7D32;\n",
       "    --ml-yellow: #A8601A;\n",
       "    --ml-cyan: #00838f;\n",
       "    --ml-magenta: #9C00B0;\n",
       "    --ml-red: #C0392B;\n",
       "    --ml-grey: #9E9E9E;\n",
       "    --ml-light-blue: #78909c;\n",
       "\n",
       "\n",
       "    /* Editor Theme */\n",
       "    --code-background-color: var(--ml-light-white);\n",
       "    --gutter-background: var(--ml-light-white);\n",
       "    --selection-background-color: var(--ml-dark-blue-2);\n",
       "    --line-numbers: var(--ml-grey);\n",
       "    --cursor: var(--ml-black);\n",
       "    --bracket: var(--ml-black);\n",
       "    --matching-bracket: var(--ml-blue);\n",
       "    --code-text-color: var(--ml-black);\n",
       "    --keywords: var(--ml-magenta);\n",
       "    --types: var(--ml-magenta);\n",
       "    --variables: var(--code-text-color);\n",
       "    --variables2: var(--ml-green);\n",
       "    --def: var(--ml-blue);\n",
       "    --property: var(--ml-blue);\n",
       "    --meta: var(--ml-light-blue);\n",
       "    --builtin: var(--ml-blue);\n",
       "    --attribute: var(--ml-blue);\n",
       "    --strings: var(--ml-yellow);\n",
       "    --strings2: var(--ml-grey);\n",
       "    --comments: var(--ml-grey);\n",
       "    --operator: var(--ml-magenta);\n",
       "    --numbers: var(--ml-red);\n",
       "    /* Dataframe */\n",
       "    --dataframe: var(--code-text-color);\n",
       "    --df-bg: var(--ml-light-white);\n",
       "    --df-thead: var(--ml-blue);\n",
       "    --df-thead-border: var(--ml-black);\n",
       "    --df-tr-hover: var(--selection-background-color);\n",
       "    --df-border: var(--ml-white);\n",
       "    --df-border-right: var(--ml-grey);\n",
       "    --df-th-bg: var(--ml-white);\n",
       "    /*ANSI Colours*/\n",
       "    --ansi-red: var(--ml-red);\n",
       "    --ansi-green: var(--ml-green);\n",
       "    --ansi-green-intense: var(--ml-grey);\n",
       "    --ansi-cyan: var(--ml-cyan);\n",
       "    --ansi-blue: var(--ml-blue);\n",
       "}\n",
       "\n",
       "\n",
       "\n",
       "/* Markdown Editor theme */\n",
       "\n",
       "    /*\n",
       "Author: Valerio Maggio < @leriomaggio >\n",
       "Code: https://github.com/leriomaggio/notexbook-jupyter-theme\n",
       "License: Apache License 2.0\n",
       "\n",
       " ======================================================\n",
       "\n",
       "    Custom Theme for Markdown Editor\n",
       "    based on Material Clear Theme.\n",
       "\n",
       " */\n",
       "\n",
       ":root {\n",
       "    /* Color Palette */\n",
       "    --md-ml-red: #C0392B;\n",
       "    --md-ml-yellow: #A8601A;\n",
       "    --md-ml-black: #24292E;\n",
       "    --md-ml-grey: #9E9E9E;\n",
       "    --md-ml-blue: #1565C0;\n",
       "    --md-ml-dark-blue: #01579B;\n",
       "    --md-ml-light-blue: #78909c;\n",
       "\n",
       "    /*  Editor Theme  */\n",
       "    --editor-text: var(--md-ml-black);\n",
       "    --header: var(--md-ml-dark-blue);\n",
       "    --quote: var(--md-ml-grey);\n",
       "    --link: var(--md-ml-blue);\n",
       "    --attribute: var(--md-ml-red);\n",
       "    --tag: var(--md-ml-yellow);\n",
       "    --string: var(--md-ml-yellow);\n",
       "    --delimiter: var(--md-ml-black);\n",
       "    --monospace: var(--md-ml-light-blue);\n",
       "}\n",
       "\n",
       "\n",
       "\n",
       "\n",
       "\n",
       "\n",
       "\n",
       "/*\n",
       "Author: Valerio Maggio < @leriomaggio >\n",
       "Code: https://github.com/leriomaggio/notexbook-jupyter-theme\n",
       "License: Apache License 2.0\n",
       "*/\n",
       "\n",
       "/*\n",
       "    =================\n",
       "    Code Editor Theme\n",
       "    =================\n",
       "*/\n",
       "div.output_error pre,\n",
       "div.output_result pre,\n",
       "div.output_stream pre {\n",
       "    color: var(--code-text-color) !important;\n",
       "}\n",
       "\n",
       ".cm-s-ipython.CodeMirror,\n",
       ".cm-s-jupyter.CodeMirror {\n",
       "    background: var(--code-background-color);\n",
       "    color: var(--code-text-color);\n",
       "}\n",
       "\n",
       ".cm-s-ipython div.CodeMirror-selected,\n",
       ".cm-s-jupyter div.CodeMirror-selected {\n",
       "    cursor: pointer;\n",
       "    background: var(--selection-background-color);\n",
       "}\n",
       "\n",
       ".cm-s-ipython .CodeMirror-gutters,\n",
       ".cm-s-jupyter .CodeMirror-gutters {\n",
       "    background: var(--gutter-background);\n",
       "    border-right: 0;\n",
       "}\n",
       "\n",
       ".cm-s-ipython .CodeMirror-linenumber,\n",
       ".cm-s-jupyter .CodeMirror-linenumber {\n",
       "    color: var(--line-numbers);\n",
       "}\n",
       "\n",
       ".cm-s-ipython .CodeMirror-cursor,\n",
       ".cm-s-jupyter .CodeMirror-cursor {\n",
       "    border-left: 1px solid var(--cursor) !important;\n",
       "}\n",
       "\n",
       ".cm-s-ipython span.cm-bracket,\n",
       ".cm-s-jupyter span.cm-bracket {\n",
       "    /*color: #828282;*/\n",
       "    color: var(--bracket);\n",
       "}\n",
       "\n",
       "span.CodeMirror-matchingbracket {\n",
       "    text-decoration: underline !important;\n",
       "    text-decoration-color: var(--matching-bracket) !important;\n",
       "    color: var(--matching-bracket) !important;\n",
       "}\n",
       "\n",
       ".cm-s-ipython span.cm-keyword,\n",
       ".cm-s-jupyter span.cm-keyword {\n",
       "    color: var(--keywords);\n",
       "    font-weight: 400;\n",
       "}\n",
       "\n",
       ".cm-s-ipython span.cm-variable,\n",
       ".cm-s-jupyter span.cm-variable {\n",
       "    color: var(--variables);\n",
       "}\n",
       "\n",
       ".cm-s-ipython span.cm-variable-2,\n",
       ".cm-s-jupyter span.cm-variable-2 {\n",
       "    color: var(--variables2);\n",
       "}\n",
       "\n",
       ".cm-s-ipython span.cm-def,\n",
       ".cm-s-jupyter span.cm-def {\n",
       "    color: var(--def);\n",
       "}\n",
       "\n",
       ".cm-s-ipython span.cm-property,\n",
       ".cm-s-jupyter span.cm-property {\n",
       "    color: var(--property);\n",
       "}\n",
       "\n",
       ".cm-s-ipython span.cm-meta,\n",
       ".cm-s-jupyter span.cm-meta {\n",
       "    color: var(--meta);\n",
       "}\n",
       "\n",
       ".cm-s-ipython span.cm-attribute,\n",
       ".cm-s-jupyter span.cm-attribute {\n",
       "    color: var(--attribute);\n",
       "}\n",
       "\n",
       ".cm-s-ipython span.cm-builtin,\n",
       ".cm-s-jupyter span.cm-builtin {\n",
       "    color: var(--builtin)\n",
       "}\n",
       "\n",
       ".cm-s-ipython span.cm-string,\n",
       ".cm-s-jupyter span.cm-string {\n",
       "    color: var(--strings);\n",
       "}\n",
       "\n",
       ".cm-s-ipython span.cm-string-2,\n",
       ".cm-s-jupyter span.cm-string-2 {\n",
       "    color: var(--strings2);\n",
       "}\n",
       "\n",
       ".cm-s-ipython span.cm-comment,\n",
       ".cm-s-jupyter span.cm-comment {\n",
       "    color: var(--comments);\n",
       "    font-style: normal;\n",
       "}\n",
       "\n",
       ".cm-s-ipython span.cm-operator,\n",
       ".cm-s-jupyter span.cm-operator {\n",
       "    color: var(--operator);\n",
       "    font-weight: 400;\n",
       "}\n",
       "\n",
       ".cm-s-ipython span.cm-number,\n",
       ".cm-s-jupyter span.cm-number {\n",
       "    color: var(--numbers);\n",
       "}\n",
       "\n",
       ".cm-s-ipython span.cm-type,\n",
       ".cm-s-jupyter span.cm-type {\n",
       "    color: var(--types);\n",
       "}\n",
       "\n",
       "/*\n",
       "==============================\n",
       "Markdown MathJax Customisation\n",
       "==============================\n",
       "*/\n",
       "\n",
       "/*This customisation only applies to Math Display showing the font bigger than normal*/\n",
       ".MathJax_Display {\n",
       "    font-size: 2rem;\n",
       "}\n",
       "\n",
       ".MathJax_Display .mjx-char {\n",
       "    font-family: var(--txbk-content-font-family) !important;\n",
       "}\n",
       "\n",
       ".MathJax_Display, .MathJax span {\n",
       "    color: var(--code-text-color);\n",
       "}\n",
       "\n",
       "a .MathJax span {\n",
       "    color: var(--link-color);\n",
       "}\n",
       "\n",
       "a:hover .MathJax span {\n",
       "    text-decoration: underline;\n",
       "    color: var(--link-color);\n",
       "}\n",
       "\n",
       ".MathJax span[style*=\"STIXMathJax_Normal\"],\n",
       ".MathJax span[style*=\"STIXMathJax_Normal-italic\"],\n",
       ".MathJax span[style*=\"STIXMathJax_Main\"],\n",
       ".MathJax span[style*=\"STIXMathJax_Variants\"] {\n",
       "    font-family: var(--txbk-content-font-family) !important;\n",
       "}\n",
       "\n",
       "\n",
       "/*\n",
       "    Pygments CSS (replacement) for HTML export\n",
       "    ===========================================\n",
       "\n",
       "    Original Pygments CSS rewrite thanks to @rubik\n",
       "    https://github.com/jupyter/nbconvert/issues/447#issuecomment-270766965\n",
       "*/\n",
       "\n",
       ".highlight .hll, div.highlight > pre {\n",
       "    background-color: var(--code-background-color);\n",
       "    color: var(--code-text-color);\n",
       "    font-family: var(--txbk-code-font-family);\n",
       "    font-size: var(--txbk-code-font-size);\n",
       "    line-height: var(--txbk-code-line-height);\n",
       "}\n",
       "\n",
       "/* Comment */\n",
       ".highlight .c {\n",
       "    color: var(--comments);\n",
       "}\n",
       "\n",
       "/* Error */\n",
       ".highlight .err {\n",
       "    color: #960050;\n",
       "    background-color: #1e0010;\n",
       "}\n",
       "\n",
       "/* Keyword */\n",
       ".highlight .k {\n",
       "    color: var(--keywords);\n",
       "    font-weight: 400;\n",
       "}\n",
       "\n",
       "/* Literal */\n",
       ".highlight .l {\n",
       "    color: var(--numbers);\n",
       "}\n",
       "\n",
       "/* Name */\n",
       ".highlight .n {\n",
       "    color: var(--code-text-color);\n",
       "}\n",
       "\n",
       "/* HACK:\n",
       "fix Interpreter mismatch pygments vs codemirror\n",
       "mpl.rcParams <- rcParams will be highlighted as property (as in codemirror)\n",
       "*/\n",
       ".highlight .o + .n {\n",
       "    color: var(--property);\n",
       "}\n",
       "\n",
       "/* Operator */\n",
       ".highlight .o {\n",
       "    color: var(--code-text-color);\n",
       "    font-weight: 400;\n",
       "}\n",
       "\n",
       "/* Punctuation */\n",
       ".highlight .p {\n",
       "    color: var(--code-text-color);\n",
       "}\n",
       "\n",
       "/* Comment.Multiline */\n",
       ".highlight .cm {\n",
       "    color: var(--comments);\n",
       "    font-style: normal;\n",
       "}\n",
       "\n",
       "/* Comment.Preproc */\n",
       ".highlight .cp {\n",
       "    color: var(--meta);\n",
       "    font-style: normal;\n",
       "}\n",
       "\n",
       ".highlight .cpf {\n",
       "    color: var(--meta);\n",
       "    font-style: normal;\n",
       "}\n",
       "\n",
       "/* Comment.Single */\n",
       ".highlight .c1 {\n",
       "    color: var(--comments);\n",
       "    font-style: normal;\n",
       "}\n",
       "\n",
       "/* Comment.Special */\n",
       ".highlight .cs {\n",
       "    color: var(--comments);\n",
       "    font-style: normal;\n",
       "}\n",
       "\n",
       "/* @ Generic.Deleted */\n",
       ".highlight .gd {\n",
       "    color: var(--red);\n",
       "}\n",
       "\n",
       "/* Generic.Emph */\n",
       ".highlight .ge {\n",
       "    font-style: italic\n",
       "}\n",
       "\n",
       "/* @ Generic.Inserted */\n",
       ".highlight .gi {\n",
       "    color: #a6e22e\n",
       "}\n",
       "\n",
       "/* Generic.Strong */\n",
       ".highlight .gs {\n",
       "    font-weight: 500 !important;\n",
       "}\n",
       "\n",
       "/* @ Generic.Subheading */\n",
       ".highlight .gu {\n",
       "    color: #75715e\n",
       "}\n",
       "\n",
       "/* */\n",
       "\n",
       "/* Keyword.Constant */\n",
       ".highlight .kc {\n",
       "    color: var(--keywords);\n",
       "    font-weight: 400;\n",
       "}\n",
       "\n",
       "/* Keyword.Declaration */\n",
       ".highlight .kd {\n",
       "    color: var(--keywords);\n",
       "    font-weight: 400;\n",
       "}\n",
       "\n",
       "/* Keyword.Namespace */\n",
       ".highlight .kn {\n",
       "    color: var(--keywords);\n",
       "    font-weight: 400;\n",
       "}\n",
       "\n",
       "/* Keyword.Pseudo */\n",
       ".highlight .kp {\n",
       "    color: var(--keywords);\n",
       "    font-weight: 400;\n",
       "}\n",
       "\n",
       "/* Keyword.Reserved */\n",
       ".highlight .kr {\n",
       "    color: var(--keywords);\n",
       "    font-weight: 400;\n",
       "}\n",
       "\n",
       "/* Keyword.Type */\n",
       ".highlight .kt {\n",
       "    color: var(--types);\n",
       "    font-weight: 400;\n",
       "}\n",
       "\n",
       "/* Literal.Date */\n",
       ".highlight .ld {\n",
       "    color: var(--numbers)\n",
       "}\n",
       "\n",
       "/* Literal.Number */\n",
       ".highlight .m {\n",
       "    color: var(--numbers);\n",
       "}\n",
       "\n",
       "/* Literal.String */\n",
       ".highlight .s {\n",
       "    color: var(--string);\n",
       "}\n",
       "\n",
       "/* Name.Attribute */\n",
       ".highlight .na {\n",
       "    color: var(--property);\n",
       "}\n",
       "\n",
       "/* Name.Builtin */\n",
       ".highlight .nb {\n",
       "    color: var(--builtin);\n",
       "}\n",
       "\n",
       "/* Name.Class */\n",
       ".highlight .nc {\n",
       "    color: var(--def);\n",
       "    font-weight: normal !important;\n",
       "}\n",
       "\n",
       "/* @ Name.Constant */\n",
       ".highlight .no {\n",
       "    color: var(--variables2);\n",
       "}\n",
       "\n",
       "/* Name.Decorator */\n",
       ".highlight .nd {\n",
       "    color: var(--builtin);\n",
       "}\n",
       "\n",
       "/* @ Name.Entity */\n",
       ".highlight .ni {\n",
       "    color: var(--variables2);\n",
       "}\n",
       "\n",
       "/* Name.Exception */\n",
       ".highlight .ne {\n",
       "    color: var(--code-text-color);\n",
       "    font-weight: normal !important;\n",
       "}\n",
       "\n",
       "/* Name.Function */\n",
       ".highlight .nf, .highlight .fm {\n",
       "    color: var(--def);\n",
       "}\n",
       "\n",
       "/* @ Name.Label */\n",
       ".highlight .nl {\n",
       "    color: var(--comments);\n",
       "}\n",
       "\n",
       "/* Name.Namespace */\n",
       ".highlight .nn {\n",
       "    color: var(--code-text-color);\n",
       "    font-weight: normal !important;\n",
       "}\n",
       "\n",
       "/* @ Name.Other */\n",
       ".highlight .nx {\n",
       "    color: var(--code-text-color);\n",
       "}\n",
       "\n",
       "/* @ Name.Property */\n",
       ".highlight .py {\n",
       "    color: var(--property);\n",
       "}\n",
       "\n",
       "/* @ Name.Tag */\n",
       ".highlight .nt {\n",
       "    color: var(--tag);\n",
       "}\n",
       "\n",
       "/* @ Name.Variable */\n",
       ".highlight .nv {\n",
       "    color:  var(--variables);\n",
       "}\n",
       "\n",
       "/* Operator.Word */\n",
       ".highlight .ow {\n",
       "    color: var(--operator);\n",
       "    font-weight: 400;\n",
       "}\n",
       "\n",
       "/* @ Text.Whitespace */\n",
       ".highlight .w {\n",
       "    color: var(--code-background-color);\n",
       "\n",
       "}\n",
       "\n",
       "/* Literal.Number.Bin */\n",
       "/* Literal.Number.Float */\n",
       "/* Literal.Number.Hex */\n",
       "/* Literal.Number.Integer */\n",
       "/* Literal.Number.Oct */\n",
       ".highlight .mb,\n",
       ".highlight .mf,\n",
       ".highlight .mh,\n",
       ".highlight .mi,\n",
       ".highlight .mo {\n",
       "    color: var(--numbers);\n",
       "}\n",
       "\n",
       "/* Literal.String.Backtick */\n",
       ".highlight .sb {\n",
       "    color: var(--strings2);\n",
       "}\n",
       "\n",
       ".highlight .sc,  /* Literal.String.Char */\n",
       ".highlight .sd,  /* Literal.String.Doc */\n",
       ".highlight .s2,  /* Literal.String.Double */\n",
       ".highlight .sh,  /* Literal.String.Heredoc */\n",
       ".highlight .si,  /* Literal.String.Interpol */\n",
       ".highlight .sx,  /* Literal.String.Other */\n",
       ".highlight .sr,  /* Literal.String.Regex */\n",
       ".highlight .s1,  /* Literal.String.Single */\n",
       ".highlight .ss  /* Literal.String.Symbol */\n",
       "{\n",
       "    color: var(--strings);\n",
       "    font-style: normal;\n",
       "}\n",
       "\n",
       "/* Literal.String.Escape */\n",
       ".highlight .se {\n",
       "    color: var(--red);\n",
       "}\n",
       "\n",
       "/* Name.Builtin.Pseudo */\n",
       ".highlight .bp {\n",
       "    color: var(--variables2);\n",
       "}\n",
       "\n",
       "/* Name.Variable.Class */\n",
       ".highlight .vc {\n",
       "    color: var(--variables);\n",
       "}\n",
       "\n",
       "/* Name.Variable.Global */\n",
       ".highlight .vg {\n",
       "    color: var(--variables2);\n",
       "}\n",
       "\n",
       "/* Name.Variable.Instance */\n",
       ".highlight .vi {\n",
       "    color: var(--code-text-color);\n",
       "}\n",
       "\n",
       "/* Literal.Number.Integer.Long */\n",
       ".highlight .il {\n",
       "    color: var(--numbers);\n",
       "}\n",
       "\n",
       "/*\n",
       "    Dataframe Colors\n",
       "    ----------------\n",
       "    Adapt Dataframe table to comply with the theme\n",
       "*/\n",
       "\n",
       "table.dataframe {\n",
       "    color: var(--dataframe) !important;\n",
       "}\n",
       "\n",
       "table.dataframe tbody tr th {\n",
       "    background-color: var(--df-bg);\n",
       "}\n",
       "\n",
       "table.dataframe tbody tr:hover {\n",
       "    background-color: var(--df-tr-hover);\n",
       "}\n",
       "\n",
       "table.dataframe td, table.dataframe th {\n",
       "    border: 1px solid var(--df-border);\n",
       "}\n",
       "\n",
       "table.dataframe > th:not(:empty) {\n",
       "    background-color: var(--df-th-bg);\n",
       "}\n",
       "\n",
       "table.dataframe tr:nth-child(2) th:empty,\n",
       "table.dataframe tr:nth-child(2) th:empty {\n",
       "    border-right: 1px dotted var(--df-border-right);\n",
       "}\n",
       "\n",
       "table.dataframe thead tr th:not(:empty) {\n",
       "    color: var(--df-thead);\n",
       "    border-bottom:  1px solid var(--df-thead-border);\n",
       "}\n",
       "\n",
       "/* =======================================\n",
       "              ANSI colors\n",
       "    (stdout / stderr color customisation)\n",
       "   =======================================\n",
       "*/\n",
       "\n",
       "span.ansi-green-fg {\n",
       "    color: var(--ansi-green) !important;\n",
       "}\n",
       "\n",
       "span.ansi-green-intense-fg{\n",
       "    color: var(--ansi-green-intense) !important;\n",
       "}\n",
       "\n",
       "span.ansi-red-fg {\n",
       "    color: var(--ansi-red) !important;\n",
       "}\n",
       "\n",
       "span.ansi-cyan-fg {\n",
       "    color: var(--ansi-cyan) !important;\n",
       "}\n",
       "\n",
       "span.ansi-blue-fg {\n",
       "    color: var(--ansi-blue) !important;\n",
       "}\n",
       "\n",
       "span.ansi-bold {\n",
       "    font-weight: 500 !important;\n",
       "}\n",
       "\n",
       "/* ----------------------------------- */\n",
       "\n",
       "/*\n",
       "    ======================\n",
       "    Markdown Editor Theme\n",
       "    ======================\n",
       "*/\n",
       "\n",
       "div.text_cell.unrendered pre {\n",
       "    color: var(--editor-text) !important;\n",
       "}\n",
       "\n",
       "span.cm-header {\n",
       "    color: var(--header) !important;\n",
       "    font-weight: 500;\n",
       "}\n",
       "\n",
       "span.cm-quote {\n",
       "    color: var(--quote) !important;\n",
       "}\n",
       "\n",
       "span.cm-string.cm-url {\n",
       "    color: var(--link) !important;\n",
       "}\n",
       "\n",
       "span.cm-string {\n",
       "   color: var(--strings) !important;\n",
       "}\n",
       "/* Sometimes useful in Mono code Highlighting*/\n",
       "span.cm-string-2 {\n",
       "    color: var(--strings2) !important;\n",
       "}\n",
       "\n",
       "span.cm-link {\n",
       "    color: var(--link) !important;\n",
       "}\n",
       "\n",
       "span.cm-attribute {\n",
       "    color: var(--attribute) !important;\n",
       "}\n",
       "\n",
       "span.cm-tag {\n",
       "    color: var(--tag) !important;\n",
       "}\n",
       "\n",
       "span.cm-delimiter {\n",
       "    color: var(--delimiter) !important;\n",
       "}\n",
       "\n",
       "span.cm-comment {\n",
       "    color: var(--comments) !important;\n",
       "}\n",
       "/*\n",
       "Author: Valerio Maggio < @leriomaggio >\n",
       "Code: https://github.com/leriomaggio/notexbook-jupyter-theme\n",
       "License: Apache License 2.0\n",
       "\n",
       "   ---------------------------------------\n",
       "    CODE CELL OUTPUT (DISPLAY MODE)\n",
       "\n",
       "    Pandas DataFrame - as HTML Table\n",
       "        (includes also HTML tables)\n",
       "\n",
       "\n",
       "   Note: This stylesheet does NOT include\n",
       "   any color nor background color for tables,\n",
       "   as those are assumed to be part of the\n",
       "   Coding colourisation theme.\n",
       "\n",
       "   ---------------------------------------\n",
       "*/\n",
       "table.dataframe {\n",
       "    border-collapse: collapse;\n",
       "    border: none;\n",
       "    margin-left: 20px !important;\n",
       "    font-size: var(--txbk-code-font-size) !important;\n",
       "}\n",
       "\n",
       "table.dataframe thead {\n",
       "    padding-bottom: 10px;\n",
       "}\n",
       "\n",
       "table.dataframe thead tr {\n",
       "    font-style: normal;\n",
       "    padding: 5px 10px;\n",
       "    border-bottom:  1px solid;\n",
       "    vertical-align: middle;\n",
       "    text-align: center;\n",
       "    empty-cells: hide;\n",
       "}\n",
       "\n",
       "table.dataframe thead tr th,\n",
       "table.dataframe thead tr:only-child th {\n",
       "    vertical-align: middle;\n",
       "    text-align: center;\n",
       "}\n",
       "\n",
       "table.dataframe tbody {\n",
       "    padding-top:  5px;\n",
       "}\n",
       "\n",
       "table.dataframe tbody tr {\n",
       "}\n",
       "\n",
       "table.dataframe tbody tr th {\n",
       "    text-align: left !important;\n",
       "    font-style: italic;\n",
       "    font-weight: normal;\n",
       "    margin-right: 5px;\n",
       "}\n",
       "\n",
       "table.dataframe tbody tr td {\n",
       "    padding-left: 1.0rem;\n",
       "    padding-right: 1.0rem;\n",
       "}\n",
       "\n",
       "table.dataframe tr {\n",
       "    border: none;\n",
       "}\n",
       "\n",
       "table.dataframe td,\n",
       "table.dataframe th {\n",
       "    padding-left: 0.25em;\n",
       "    padding-right: 0.25em;\n",
       "}\n",
       "\n",
       "table.dataframe > th:not(:empty) {\n",
       "    text-align: left;\n",
       "    padding: 0 10px;\n",
       "    font-style: italic\n",
       "}\n",
       "\n",
       "table.dataframe tr:nth-child(2) th:empty,\n",
       "table.dataframe tr:nth-child(2) th:empty {\n",
       "    border-left: none;\n",
       "}\n",
       "\n",
       "table.dataframe td {\n",
       "    padding: 0.375em 1em;\n",
       "}\n",
       "\n",
       "table.dataframe thead {\n",
       "\tpadding: 10px 0;\n",
       "\tfont-weight: bold;\n",
       "}\n",
       "\n",
       "table.dataframe thead tr th:not(:empty) {\n",
       "    text-align: left;\n",
       "    font-style: normal;\n",
       "    padding: 5px 10px;\n",
       "}\n",
       "\n",
       "/* Hacking Font-weight bold capped at 500 */\n",
       ".rendered_html th {\n",
       "    font-weight: 500 !important;\n",
       "}\n",
       ":root {\n",
       "    /* Jupyter Lab Integration (Light Theme) */\n",
       "\n",
       "    --jp-ui-font-family: var(--txbk-ui-font-family);\n",
       "    --jp-ui-font-color1: var(--txbk-ui-color);\n",
       "    --jp-ui-font-size1: var(--txbk-ui-font-size);\n",
       "\n",
       "    --jp-content-font-color1: var(--txbk-content-mono-color);\n",
       "    --jp-content-font-family: var(--txbk-content-font-family);\n",
       "    --jp-content-line-height: var(--txbk-content-line-height);\n",
       "    --jp-content-link-color: var(--link-color);\n",
       "    --jp-content-font-size: var(--txbk-content-font-size);\n",
       "    --jp-content-heading-font-weight: bold;\n",
       "    --jp-content-heading-line-height: 1;\n",
       "\n",
       "    --jp-layout-color3: #efefef;\n",
       "    --jp-notebook-multiselected-color: var(--txbk-multiselect-bgcolor);\n",
       "\n",
       "    --jp-code-font-size: var(--txbk-code-font-size);\n",
       "    --jp-code-line-height: var(--txbk-ui-mono-line-height);\n",
       "    --jp-code-padding: 5px;\n",
       "    --jp-code-font-family-default: var(--txbk-code-font-family);\n",
       "    --jp-code-font-family: var(--jp-code-font-family-default);\n",
       "    --jp-code-presentation-font-size: var(--txbk-ui-mono-font-size);\n",
       "\n",
       "    --jp-cell-prompt-font-family: var(--txbk-code-font-family);\n",
       "    --jp-cell-prompt-width: 80px;\n",
       "\n",
       "    --jp-cell-editor-border-color: transparent;\n",
       "\n",
       "    --jp-layout-color0: var(--code-background-color);\n",
       "    --jp-cell-prompt-not-active-font-color: #aba9a9;\n",
       "\n",
       "    --jp-cell-editor-background: var(--code-background-color);\n",
       "    --jp-cell-editor-active-background: var(--code-background-color);\n",
       "    --jp-cell-editor-active-border-color: var(--txbk-cell-edit-border-color);\n",
       "\n",
       "}\n",
       "\n",
       "/* ================\n",
       "    Jupyter Lab UI\n",
       "   ================\n",
       "*/\n",
       "\n",
       ".jp-DirListing-item.jp-mod-running .jp-DirListing-itemIcon:before {\n",
       "    color: var(--btn-danger);\n",
       "}\n",
       "\n",
       ".jp-DirListing-item.jp-mod-selected {\n",
       "    background-color: var(--texbook-blue);\n",
       "    color: white;\n",
       "}\n",
       "\n",
       "button.jp-RunningSessions-shutdownAll.jp-mod-styled {\n",
       "    color: var(--btn-warning)\n",
       "}\n",
       "\n",
       "button.jp-RunningSessions-shutdownAll.jp-mod-styled {\n",
       "    color: var(--btn-warning);\n",
       "}\n",
       "\n",
       ".jp-icon-warn0[fill] {\n",
       "    fill: var(--texbook-turquoise);\n",
       "}\n",
       "\n",
       "#jp-MainLogo .jp-icon-warn0[fill] {\n",
       "    /* Set default not to override logo colour */\n",
       "    fill: var(--jp-warn-color0);\n",
       "}\n",
       "\n",
       "/* Change Colour only of Icons on the left-hand side toolbar */\n",
       ".jp-SideBar.lm-TabBar.jp-mod-left .jp-icon3[fill] {\n",
       "    fill: var(--texbook-yellow);\n",
       "}\n",
       "\n",
       ".jp-SideBar.lm-TabBar.jp-mod-left.lm-TabBar-tab.lm-mod-current .jp-icon3[fill] {\n",
       "    fill: var(--texbook-orangex);\n",
       "}\n",
       "\n",
       "/*Kernel*/\n",
       "div.f14jk5uf[title=\"Kernel Busy\"] .jp-icon3[fill] {\n",
       "    fill: var(--kernel-busy);\n",
       "}\n",
       "\n",
       "div.f14jk5uf[title=\"Kernel Idle\"] .jp-icon3[fill] {\n",
       "    fill: var(--kernel-idle);\n",
       "}\n",
       "\n",
       "div.f14jk5uf[title=\"Kernel Unknown\"] .jp-icon3[fill],\n",
       "div.f14jk5uf[title=\"Kernel Restarting\"] .jp-icon3[fill] {\n",
       "    fill: var(--kernel-disconnected);\n",
       "}\n",
       "\n",
       "\n",
       "/* body class*/\n",
       "\n",
       "body[data-jp-theme-light=\"true\"]:not(.jp-Notebook) {\n",
       "    font-family: var(--jp-ui-font-family);\n",
       "    background: var(--jp-layout-color3) !important;\n",
       "    margin: 0;\n",
       "    padding: 0;\n",
       "    overflow: hidden;\n",
       "}\n",
       "\n",
       ".jp-Notebook {\n",
       "    background-color: var(--background-color) !important;\n",
       "    font-weight: 300;\n",
       "    color: var(--txbk-ui-color);\n",
       "    font-size: var(--txbk-ui-font-size);\n",
       "}\n",
       "\n",
       "\n",
       "/* -------------------------------------------------\n",
       "    HTML Cells output generics\n",
       "    (overriding default JupyterLab theme settings)\n",
       "   -------------------------------------------------\n",
       "*/\n",
       "\n",
       ".jp-RenderedHTMLCommon :not(pre) > code {\n",
       "    background-color: transparent !important;\n",
       "    padding: 0 0 !important;\n",
       "}\n",
       "\n",
       ".jp-RenderedHTMLCommon pre, .jp-RenderedHTMLCommon code {\n",
       "    background-color: transparent !important;\n",
       "}\n",
       "\n",
       ".jp-RenderedHTMLCommon p {\n",
       "    margin-bottom: 0;\n",
       "}\n",
       "\n",
       ".jp-RenderedHTMLCommon * + p {\n",
       "    margin-top: 1em;\n",
       "}\n",
       "\n",
       "\n",
       "/* ======================================\n",
       "    MARKDOWN CELLS DISPLAY MODE\n",
       "    (text_cell_render in Notebook HTML)\n",
       "   ======================================\n",
       "*/\n",
       "\n",
       ".jp-Notebook .jp-MarkdownCell .jp-RenderedHTMLCommon {\n",
       "    font-family: var(--txbk-content-font-family) !important;\n",
       "    font-size: var(--txbk-content-font-size) !important;\n",
       "    color: var(--txbk-content-color) !important;\n",
       "    font-kerning: auto;\n",
       "    text-align: justify !important;\n",
       "    display: block;\n",
       "    word-break: normal !important;\n",
       "    word-wrap: break-word !important;\n",
       "}\n",
       "\n",
       ".jp-Notebook .jp-MarkdownCell .jp-RenderedHTMLCommon a {\n",
       "    color: var(--link-color) !important;\n",
       "}\n",
       "\n",
       ".jp-Notebook .jp-MarkdownCell .jp-RenderedHTMLCommon h1,\n",
       ".jp-Notebook .jp-MarkdownCell .jp-RenderedHTMLCommon h2,\n",
       ".jp-Notebook .jp-MarkdownCell .jp-RenderedHTMLCommon h3,\n",
       ".jp-Notebook .jp-MarkdownCell .jp-RenderedHTMLCommon h4,\n",
       ".jp-Notebook .jp-MarkdownCell .jp-RenderedHTMLCommon h5,\n",
       ".jp-Notebook .jp-MarkdownCell .jp-RenderedHTMLCommon h6 {\n",
       "    font-family:  var(--txbk-content-font-family) !important;\n",
       "    font-style: normal !important;\n",
       "}\n",
       "\n",
       "/*  Font-sizes for Headers\n",
       "    ----------------------*/\n",
       ".jp-Notebook .jp-MarkdownCell .jp-RenderedHTMLCommon h1 {\n",
       "    font-size: 2.2em !important;\n",
       "    text-align: center !important;\n",
       "    padding-top:  3rem;\n",
       "    padding-bottom: 3rem;\n",
       "}\n",
       "\n",
       ".jp-Notebook .jp-MarkdownCell .jp-RenderedHTMLCommon h2 {\n",
       "    font-size: 1.9em !important;\n",
       "}\n",
       "\n",
       ".jp-Notebook .jp-MarkdownCell .jp-RenderedHTMLCommon h3 {\n",
       "    font-size: 1.7em !important;\n",
       "}\n",
       "\n",
       ".jp-Notebook .jp-MarkdownCell .jp-RenderedHTMLCommon h4 {\n",
       "    font-size: 1.5em !important;\n",
       "}\n",
       "\n",
       ".jp-Notebook .jp-MarkdownCell .jp-RenderedHTMLCommon h5 {\n",
       "    font-size: 1.3em !important;\n",
       "    border-bottom: 1px solid rgb(204, 204, 204);\n",
       "}\n",
       "\n",
       ".jp-Notebook .jp-MarkdownCell .jp-RenderedHTMLCommon h6 {\n",
       "    font-size: 1.1em !important;\n",
       "}\n",
       "\n",
       ".jp-Notebook .jp-MarkdownCell .jp-RenderedHTMLCommon p,\n",
       ".jp-Notebook .jp-MarkdownCell .jp-RenderedHTMLCommon pre,\n",
       ".jp-Notebook .jp-MarkdownCell .jp-RenderedHTMLCommon code {\n",
       "    font-size: 1em !important;\n",
       "}\n",
       "\n",
       ".jp-Notebook .jp-MarkdownCell .jp-RenderedHTMLCommon pre,\n",
       ".jp-Notebook .jp-MarkdownCell .jp-RenderedHTMLCommon code {\n",
       "    color: var(--txbk-content-mono-color);\n",
       "    font-family: var(--txbk-content-mono-font-family);\n",
       "}\n",
       "\n",
       "\n",
       "/* Monospace Code - no code syntax highlight*/\n",
       ".jp-Notebook .jp-MarkdownCell .jp-RenderedHTMLCommon pre {\n",
       "    /* hack: using code background colour here to allow for compatibility */\n",
       "    background-color: var(--code-background-color) !important;\n",
       "    font-family: var(--txbk-content-mono-font-family);\n",
       "}\n",
       "\n",
       ".jp-Notebook .jp-MarkdownCell .jp-RenderedHTMLCommon p {\n",
       "    line-height: var(--txbk-content-line-height);\n",
       "    text-align: justify !important;\n",
       "}\n",
       "\n",
       "/* Monospace inline rendered markdown */\n",
       ".jp-Notebook .jp-MarkdownCell .jp-RenderedHTMLCommon p code {\n",
       "    /*Re-defining variables for Mono using Code Editor's settings*/\n",
       "    font-size: var(--txbk-content-mono-font-size);\n",
       "    color: var(--txbk-content-mono-color);\n",
       "    font-family: var(--txbk-content-mono-font-family);\n",
       "}\n",
       "\n",
       ".jp-Notebook .jp-MarkdownCell .jp-RenderedHTMLCommon p strong code {\n",
       "    font-weight: bold !important;\n",
       "    color: var(--txbk-content-mono-color);\n",
       "}\n",
       "\n",
       ".jp-Notebook .jp-MarkdownCell .jp-RenderedHTMLCommon p em code {\n",
       "    font-style: italic !important;\n",
       "    color: var(--txbk-content-mono-color);\n",
       "}\n",
       "\n",
       ".jp-Notebook .jp-MarkdownCell .jp-RenderedHTMLCommon pre code {\n",
       "    padding: 1rem 1.5rem;\n",
       "    display: block;\n",
       "    color: var(--txbk-content-mono-color);\n",
       "    font-family: var(--txbk-content-mono-font-family);\n",
       "    word-wrap: break-word;\n",
       "    word-break: normal;\n",
       "    /* Important Override rules */\n",
       "    background-color: var(--txbk-content-mono-bgcolor) !important;\n",
       "    font-size: var(--txbk-content-mono-font-size) !important;\n",
       "}\n",
       "\n",
       ".jp-Notebook .jp-MarkdownCell .jp-RenderedHTMLCommon blockquote {\n",
       "    --txbk-ui-color: #6f6f6f;\n",
       "    margin: .2rem .2rem;\n",
       "    padding: .3rem .5rem;\n",
       "    border-left: .3rem solid #a7a7a7;\n",
       "    background-color: var(--txbk-content-mono-bgcolor);\n",
       "}\n",
       "\n",
       ".jp-Notebook .jp-MarkdownCell .jp-RenderedHTMLCommon blockquote:not(:first-child) {\n",
       "    margin: 2rem .2rem;\n",
       "}\n",
       "\n",
       ".jp-Notebook .jp-MarkdownCell .jp-RenderedHTMLCommon blockquote p {\n",
       "    padding: .2rem 1.5rem;\n",
       "}\n",
       "\n",
       ".jp-Notebook .jp-MarkdownCell .jp-RenderedHTMLCommon table {\n",
       "    font-size: var(--txbk-content-font-size) !important;\n",
       "    border-collapse: collapse;\n",
       "    border-spacing: 0;\n",
       "    overflow: auto;\n",
       "    break-inside: auto;\n",
       "    margin-top: 25px;\n",
       "    margin-bottom: 15px;\n",
       "}\n",
       "\n",
       ".jp-Notebook .jp-MarkdownCell .jp-RenderedHTMLCommon table thead {\n",
       "    display: table-header-group;\n",
       "    vertical-align: middle;\n",
       "    border-bottom: none;\n",
       "}\n",
       "\n",
       ".jp-Notebook .jp-MarkdownCell .jp-RenderedHTMLCommon table thead tr,\n",
       ".jp-Notebook .jp-MarkdownCell .jp-RenderedHTMLCommon table thead tr td,\n",
       ".jp-Notebook .jp-MarkdownCell .jp-RenderedHTMLCommon table tbody tr,\n",
       ".jp-Notebook .jp-MarkdownCell .jp-RenderedHTMLCommon table tbody tr th,\n",
       ".jp-Notebook .jp-MarkdownCell .jp-RenderedHTMLCommon table tbody tr td {\n",
       "    break-inside: avoid;\n",
       "    break-after: auto;\n",
       "    vertical-align: middle;\n",
       "    padding: 5px 5px;\n",
       "}\n",
       "\n",
       ".jp-Notebook .jp-MarkdownCell .jp-RenderedHTMLCommon table tr th {\n",
       "    border-bottom-width: 0;\n",
       "}\n",
       "\n",
       ".jp-Notebook .jp-MarkdownCell .jp-RenderedHTMLCommon ul,\n",
       ".jp-Notebook .jp-MarkdownCell .jp-RenderedHTMLCommon ol {\n",
       "    position: relative;\n",
       "    display: block;\n",
       "    margin-bottom: 0 !important;\n",
       "    line-height: var(--txbk-content-line-height);\n",
       "}\n",
       "\n",
       ".jp-Notebook .jp-MarkdownCell .jp-RenderedHTMLCommon ul {\n",
       "    list-style-type: disc;\n",
       "}\n",
       "\n",
       ".jp-Notebook .jp-MarkdownCell .jp-RenderedHTMLCommon ul li,\n",
       ".jp-Notebook .jp-MarkdownCell .jp-RenderedHTMLCommon ol li {\n",
       "    padding: .25em;\n",
       "}\n",
       "\n",
       ".jp-Notebook .jp-MarkdownCell .jp-RenderedHTMLCommon ul ul {\n",
       "    list-style-type: circle !important;\n",
       "}\n",
       "\n",
       ".jp-Notebook .jp-MarkdownCell .jp-RenderedHTMLCommon ul li > ul li a code,\n",
       ".jp-Notebook .jp-MarkdownCell .jp-RenderedHTMLCommon ul li > ol li a code,\n",
       ".jp-Notebook .jp-MarkdownCell .jp-RenderedHTMLCommon ol li > ul li a code,\n",
       ".jp-Notebook .jp-MarkdownCell .jp-RenderedHTMLCommon ol li > ol li a code {\n",
       "    color: var(--link-color);\n",
       "}\n",
       "\n",
       ".jp-Notebook .jp-MarkdownCell .jp-RenderedHTMLCommon ul ul ul {\n",
       "    list-style-type: square !important;\n",
       "}\n",
       "\n",
       ".jp-Notebook .jp-MarkdownCell .jp-RenderedHTMLCommon p > img:only-child,\n",
       ".jp-Notebook .jp-MarkdownCell .jp-RenderedHTMLCommon img:only-child {\n",
       "    display: block;\n",
       "    margin: auto;\n",
       "    max-width: 40%;\n",
       "}\n",
       "\n",
       ".jp-Notebook .jp-MarkdownCell .jp-RenderedHTMLCommon img {\n",
       "    max-width: 40%;\n",
       "}\n",
       "\n",
       "/* Img MaxW classes */\n",
       ".jp-Notebook .jp-MarkdownCell .jp-RenderedHTMLCommon img.maxw10,\n",
       ".jp-Notebook .jp-MarkdownCell .jp-RenderedHTMLCommon p > img.maxw10 {\n",
       "    max-width: 10% !important;\n",
       "}\n",
       "\n",
       ".jp-Notebook .jp-MarkdownCell .jp-RenderedHTMLCommon img.maxw15,\n",
       ".jp-Notebook .jp-MarkdownCell .jp-RenderedHTMLCommon p > img.maxw15 {\n",
       "    max-width: 15% !important;\n",
       "}\n",
       "\n",
       ".jp-Notebook .jp-MarkdownCell .jp-RenderedHTMLCommon img.maxw20,\n",
       ".jp-Notebook .jp-MarkdownCell .jp-RenderedHTMLCommon p > img.maxw20 {\n",
       "    max-width: 20% !important;\n",
       "}\n",
       "\n",
       ".jp-Notebook .jp-MarkdownCell .jp-RenderedHTMLCommon img.maxw25,\n",
       ".jp-Notebook .jp-MarkdownCell .jp-RenderedHTMLCommon p > img.maxw25 {\n",
       "    max-width: 25% !important;\n",
       "}\n",
       "\n",
       ".jp-Notebook .jp-MarkdownCell .jp-RenderedHTMLCommon img.maxw30,\n",
       ".jp-Notebook .jp-MarkdownCell .jp-RenderedHTMLCommon p > img.maxw30 {\n",
       "    max-width: 30% !important;\n",
       "}\n",
       "\n",
       ".jp-Notebook .jp-MarkdownCell .jp-RenderedHTMLCommon img.maxw35,\n",
       ".jp-Notebook .jp-MarkdownCell .jp-RenderedHTMLCommon p > img.maxw35 {\n",
       "    max-width: 35% !important;\n",
       "}\n",
       "\n",
       ".jp-Notebook .jp-MarkdownCell .jp-RenderedHTMLCommon img.maxw40,\n",
       ".jp-Notebook .jp-MarkdownCell .jp-RenderedHTMLCommon p > img.maxw40 {\n",
       "    max-width: 40% !important;\n",
       "}\n",
       "\n",
       ".jp-Notebook .jp-MarkdownCell .jp-RenderedHTMLCommon img.maxw45,\n",
       ".jp-Notebook .jp-MarkdownCell .jp-RenderedHTMLCommon p > img.maxw45 {\n",
       "    max-width: 45% !important;\n",
       "}\n",
       "\n",
       ".jp-Notebook .jp-MarkdownCell .jp-RenderedHTMLCommon img.maxw50,\n",
       ".jp-Notebook .jp-MarkdownCell .jp-RenderedHTMLCommon p > img.maxw50 {\n",
       "    max-width: 50% !important;\n",
       "}\n",
       "\n",
       ".jp-Notebook .jp-MarkdownCell .jp-RenderedHTMLCommon img.maxw55,\n",
       ".jp-Notebook .jp-MarkdownCell .jp-RenderedHTMLCommon p > img.maxw55 {\n",
       "    max-width: 55% !important;\n",
       "}\n",
       "\n",
       ".jp-Notebook .jp-MarkdownCell .jp-RenderedHTMLCommon img.maxw60,\n",
       ".jp-Notebook .jp-MarkdownCell .jp-RenderedHTMLCommon p > img.maxw60 {\n",
       "    max-width: 60% !important;\n",
       "}\n",
       "\n",
       ".jp-Notebook .jp-MarkdownCell .jp-RenderedHTMLCommon img.maxw65,\n",
       ".jp-Notebook .jp-MarkdownCell .jp-RenderedHTMLCommon p > img.maxw65 {\n",
       "    max-width: 65% !important;\n",
       "}\n",
       "\n",
       ".jp-Notebook .jp-MarkdownCell .jp-RenderedHTMLCommon img.maxw70,\n",
       ".jp-Notebook .jp-MarkdownCell .jp-RenderedHTMLCommon p > img.maxw70 {\n",
       "    max-width: 70% !important;\n",
       "}\n",
       "\n",
       ".jp-Notebook .jp-MarkdownCell .jp-RenderedHTMLCommon img.maxw75,\n",
       ".jp-Notebook .jp-MarkdownCell .jp-RenderedHTMLCommon p > img.maxw75 {\n",
       "    max-width: 75% !important;\n",
       "}\n",
       "\n",
       ".jp-Notebook .jp-MarkdownCell .jp-RenderedHTMLCommon img.maxw80,\n",
       ".jp-Notebook .jp-MarkdownCell .jp-RenderedHTMLCommon p > img.maxw80 {\n",
       "    max-width: 80% !important;\n",
       "}\n",
       "\n",
       ".jp-Notebook .jp-MarkdownCell .jp-RenderedHTMLCommon img.maxw85,\n",
       ".jp-Notebook .jp-MarkdownCell .jp-RenderedHTMLCommon p > img.maxw85 {\n",
       "    max-width: 85% !important;\n",
       "}\n",
       "\n",
       ".jp-Notebook .jp-MarkdownCell .jp-RenderedHTMLCommon img.maxw90,\n",
       ".jp-Notebook .jp-MarkdownCell .jp-RenderedHTMLCommon p > img.maxw90 {\n",
       "    max-width: 90% !important;\n",
       "}\n",
       "\n",
       ".jp-Notebook .jp-MarkdownCell .jp-RenderedHTMLCommon img.maxw95,\n",
       ".jp-Notebook .jp-MarkdownCell .jp-RenderedHTMLCommon p > img.maxw95 {\n",
       "    max-width: 95% !important;\n",
       "}\n",
       "\n",
       ".jp-Notebook .jp-MarkdownCell .jp-RenderedHTMLCommon img.maxw100,\n",
       ".jp-Notebook .jp-MarkdownCell .jp-RenderedHTMLCommon p > img.maxw100 {\n",
       "    max-width: 100% !important;\n",
       "}\n",
       "\n",
       "/* FIX Forcing monospace code to adhere with footnotes rules!*/\n",
       ".jp-Notebook .jp-MarkdownCell .jp-RenderedHTMLCommon p [id^='fn'] > code,\n",
       ".jp-Notebook .jp-MarkdownCell .jp-RenderedHTMLCommon p [class^='fn'] > code {\n",
       "    font-size: 1em !important;\n",
       "}\n",
       "\n",
       "/* Code Cell Render (HTML output) */\n",
       ".jp-CodeCell .jp-RenderedHTMLCommon {\n",
       "    color: var(--code-text-color);\n",
       "}\n",
       "\n",
       ".jp-Notebook .jp-CodeCell .jp-RenderedHTMLCommon p {\n",
       "    font-family: var(--txbk-code-font-family);\n",
       "    font-size: 1.4em;\n",
       "    font-weight: normal;\n",
       "}\n",
       "\n",
       ".jp-Notebook .jp-CodeCell .jp-RenderedHTMLCommon .nomono {\n",
       "    font-family: var(--txbk-content-font-family);\n",
       "    font-size: 1em;\n",
       "    margin-top: 0;\n",
       "}\n",
       "\n",
       ".jp-Notebook .jp-Cell:not(.jp-mod-dropTarget) {\n",
       "    background: transparent;\n",
       "    border: none;\n",
       "}\n",
       "\n",
       "/* Code Cell Editor */\n",
       "\n",
       ".jp-InputArea-editor {\n",
       "    background-color: var(--jp-cell-editor-active-background);\n",
       "}\n",
       "\n",
       ".jp-Notebook .jp-Cell .jp-InputArea-editor,\n",
       ".jp-Notebook .jp-MarkdownCell .jp-MarkdownOutput {\n",
       "    /* Set default LEFT border as transparent - to avoid change in paddings when selected */\n",
       "    border-left: 0.2rem dotted var(--txbk-cell-border-color);\n",
       "    box-shadow: none;\n",
       "    border-right: none;\n",
       "    border-top: none;\n",
       "    border-bottom: none;\n",
       "    overflow: hidden;\n",
       "}\n",
       "\n",
       ".jp-Notebook .jp-Cell .jp-Cell-inputWrapper {\n",
       "    /* Set default RIGHT border as transparent - to avoid change in paddings when selected */\n",
       "    border-right: 5px solid var(--txbk-cell-border-color);\n",
       "}\n",
       "\n",
       ".jp-Notebook .jp-Cell.jp-mod-active.jp-mod-selected:not(.jp-mod-multiSelected) .jp-InputArea-editor,\n",
       ".jp-Notebook.jp-mod-commandMode .jp-MarkdownCell.jp-mod-active.jp-mod-selected:not(.jp-mod-multiSelected) .jp-MarkdownOutput {\n",
       "    /* Force border redefinition to override default Jupyter theme rules */\n",
       "    border-left: 0.2rem dotted var(--txbk-cell-selected-border-left-color);\n",
       "    box-shadow: none;\n",
       "    border-right: none;\n",
       "    border-top: none;\n",
       "    border-bottom: none;\n",
       "    overflow: hidden;\n",
       "}\n",
       "\n",
       ".jp-Notebook.jp-mod-commandMode .jp-Cell.jp-mod-active.jp-mod-selected:not(.jp-mod-multiSelected) .jp-Cell-inputWrapper {\n",
       "    border-right-color: var(--txbk-cell-display-border-color);\n",
       "}\n",
       "\n",
       ".jp-Notebook.jp-mod-editMode .jp-Cell.jp-mod-active.jp-mod-selected:not(.jp-mod-multiSelected) .jp-Cell-inputWrapper {\n",
       "    border-right-color: var(--txbk-cell-edit-border-color);\n",
       "}\n",
       "\n",
       "/* Cell Multiple Selection */\n",
       ".jp-Notebook.jp-mod-commandMode .jp-Cell.jp-mod-selected:not(.jp-mod-active),\n",
       ".jp-Notebook.jp-mod-commandMode .jp-Cell.jp-mod-multiSelected {\n",
       "    border: 2px dashed var(--texbook-azure);\n",
       "    background: var(--txbk-multiselect-bgcolor);\n",
       "    margin-top: 10px;\n",
       "}\n",
       "\n",
       "/*\n",
       "    Overlay with Shadow for Code Cell Selected !\n",
       "    ============================================\n",
       "*/\n",
       "/* Overlay limited to CodeCells */\n",
       ".jp-Notebook .jp-CodeCell.jp-mod-selected {\n",
       "    border: none;\n",
       "    background: transparent;\n",
       "    box-shadow: 0 6px 18px #aaa;\n",
       "    z-index: 10;\n",
       "    top: -10px;\n",
       "    padding-top: 12px;\n",
       "    padding-bottom: 12px;\n",
       "    margin-top: 18px;\n",
       "    margin-bottom: 2px;\n",
       "}\n",
       "\n",
       ".jp-Notebook .jp-CodeCell.jp-mod-active.jp-mod-selected:before {\n",
       "    position: absolute;\n",
       "    display: none;\n",
       "    top: -1px;\n",
       "    left: -1px;\n",
       "    width: 0;\n",
       "    height: calc(100% + 2px);\n",
       "    content: '';\n",
       "    background: none;\n",
       "}\n",
       "\n",
       ".jp-Notebook .jp-Cell .jp-Collapser {\n",
       "    display: none !important;\n",
       "}\n",
       "\n",
       ".jp-Notebook .jp-CodeCell .jp-InputPrompt {\n",
       "    color: var(--texbook-light-grey) !important;\n",
       "    font-style: normal !important;\n",
       "    font-size: 1em;\n",
       "    opacity: 1 !important;\n",
       "    font-weight: normal;\n",
       "    min-width: 9.5ex;\n",
       "}\n",
       "\n",
       ".jp-OutputPrompt {\n",
       "    color: transparent !important;\n",
       "    min-width: 9.5ex;  /* Aligns with Input Prompt */\n",
       "}\n",
       "\n",
       ".jp-Notebook .jp-CodeCell .jp-InputPrompt bdi,\n",
       ".jp-Notebook .jp-CodeCell .jp-OutputPrompt  bdi {\n",
       "    line-height: 0;\n",
       "    font-size:0;\n",
       "    color: transparent;\n",
       "    left: -10000px;\n",
       "    content: \"\\21E2\";\n",
       "}\n",
       "\n",
       "/*.jp-Notebook .jp-CodeCell.jp-mod-active.jp-mod-selected:not(.jp-mod-multiSelected) .jp-InputPrompt:before {*/\n",
       ".jp-Notebook .jp-CodeCell.jp-mod-active.jp-mod-selected:not(.jp-mod-multiSelected) .jp-InputArea:before {\n",
       "    display: inline-block;\n",
       "    position: absolute;\n",
       "    content: \"\\279E\";\n",
       "    font-size: 1.75rem;\n",
       "    top: 4px;\n",
       "    width: 10px;\n",
       "    left: 0;\n",
       "    font-weight: bold !important;\n",
       "}\n",
       "\n",
       ".jp-Notebook.jp-mod-commandMode .jp-CodeCell.jp-mod-active.jp-mod-selected:not(.jp-mod-multiSelected) .jp-InputArea:before {\n",
       "    color: var(--txbk-cell-display-border-color);\n",
       "}\n",
       "\n",
       ".jp-Notebook.jp-mod-editMode .jp-CodeCell.jp-mod-active.jp-mod-selected:not(.jp-mod-multiSelected) .jp-InputArea:before {\n",
       "    color: var(--txbk-cell-edit-border-color);\n",
       "}\n",
       "\n",
       "/* =============\n",
       "   Code Editors\n",
       "   ============= */\n",
       "\n",
       ".jp-Notebook .jp-Cell .CodeMirror * {\n",
       "    line-height: var(--txbk-code-line-height);\n",
       "}\n",
       "\n",
       ".jp-Notebook .jp-CodeCell .CodeMirror * {\n",
       "    font-family: var(--txbk-code-font-family) !important;\n",
       "    font-size: var(--txbk-code-font-size) !important;\n",
       "}\n",
       "\n",
       ".jp-Notebook .jp-MarkdownCell .CodeMirror * {\n",
       "    font-family: var(--txbk-md-font-family) !important;\n",
       "    font-size: var(--txbk-md-font-size) !important;\n",
       "}\n",
       "\n",
       "/* Cell Output rendering (.output_area in Notebook HTML) */\n",
       "\n",
       ".jp-OutputArea-output.jp-RenderedText pre,\n",
       ".jp-OutputArea-output.jp-RenderedMarkdown p {\n",
       "    padding-bottom: 15px;\n",
       "    padding-top: 10px;\n",
       "}\n",
       "\n",
       ".jp-OutputArea-output.jp-RenderedMarkdown p {\n",
       "    font-size: var(--txbk-content-font-size);\n",
       "}\n",
       "\n",
       ".jp-OutputArea-output.jp-RenderedMarkdown pre code {\n",
       "    font-size: var(--txbk-content-mono-font-size);\n",
       "    font-family: var(--txbk-content-mono-font-family);\n",
       "    color: var(--txbk-content-mono-color);\n",
       "}\n",
       "\n",
       ".jp-OutputArea-output.jp-RenderedText pre {\n",
       "    --txbk-content-mono-font-family: var(--txbk-code-font-family);\n",
       "    font-size: var(--txbk-code-font-size);\n",
       "    font-weight: normal;\n",
       "    word-break: normal;\n",
       "    word-wrap: break-word;\n",
       "}\n",
       "\n",
       "/* Standard Error */\n",
       ".jp-RenderedText[data-mime-type='application/vnd.jupyter.stderr'] {\n",
       "    background: none !important;\n",
       "}\n",
       "/*\n",
       "Author: Valerio Maggio < @leriomaggio >\n",
       "Code: https://github.com/leriomaggio/notexbook-jupyter-theme\n",
       "License: Apache License 2.0\n",
       "*/\n",
       "\n",
       "/* HTML Export (Jupyter Light Theme)\n",
       "   ================================ */\n",
       "\n",
       "body.jp-Notebook .jp-CodeCell .jp-InputPrompt {\n",
       "    margin-top: 7px;\n",
       "    overflow: initial;\n",
       "}\n",
       "\n",
       "body.jp-Notebook .CodeMirror-linenumber {\n",
       "    --txbk-ui-mono-font-size: 10px !important;\n",
       "}\n",
       "\n",
       "body.jp-Notebook .jp-RenderedHTMLCommon.jp-MarkdownOutput p > img:only-child,\n",
       "body.jp-Notebook .jp-RenderedHTMLCommon.jp-MarkdownOutput img:only-child {\n",
       "    max-width: 30%;\n",
       "}\n",
       "\n",
       "body.jp-Notebook .jp-CodeCell .jp-InputPrompt {\n",
       "    font-size: var(--txbk-code-font-size);\n",
       "    padding-top: 4px;\n",
       "}\n",
       "\n",
       "/* ==================================================\n",
       "   IMPORTANT NOTE:\n",
       "   ALL markdown rules cells needs adapting because of\n",
       "   a different structure in exported HTML\n",
       "   ===================================================\n",
       "*/\n",
       "body.jp-Notebook .jp-Cell-inputWrapper .jp-RenderedHTMLCommon.jp-RenderedMarkdown.jp-MarkdownOutput {\n",
       "    font-family: var(--txbk-content-font-family) !important;\n",
       "    font-size: var(--txbk-content-font-size) !important;\n",
       "    color: var(--txbk-content-color) !important;\n",
       "    font-kerning: auto;\n",
       "    text-align: justify !important;\n",
       "    display: block;\n",
       "    word-break: normal !important;\n",
       "    word-wrap: break-word !important;\n",
       "}\n",
       "\n",
       "body.jp-Notebook .jp-Cell-inputWrapper .jp-RenderedHTMLCommon.jp-RenderedMarkdown.jp-MarkdownOutput  a {\n",
       "    color: var(--link-color) !important;\n",
       "}\n",
       "\n",
       "body.jp-Notebook .jp-Cell-inputWrapper .jp-RenderedHTMLCommon.jp-RenderedMarkdown.jp-MarkdownOutput  h1,\n",
       "body.jp-Notebook .jp-Cell-inputWrapper .jp-RenderedHTMLCommon.jp-RenderedMarkdown.jp-MarkdownOutput  h2,\n",
       "body.jp-Notebook .jp-Cell-inputWrapper .jp-RenderedHTMLCommon.jp-RenderedMarkdown.jp-MarkdownOutput  h3,\n",
       "body.jp-Notebook .jp-Cell-inputWrapper .jp-RenderedHTMLCommon.jp-RenderedMarkdown.jp-MarkdownOutput  h4,\n",
       "body.jp-Notebook .jp-Cell-inputWrapper .jp-RenderedHTMLCommon.jp-RenderedMarkdown.jp-MarkdownOutput  h5,\n",
       "body.jp-Notebook .jp-Cell-inputWrapper .jp-RenderedHTMLCommon.jp-RenderedMarkdown.jp-MarkdownOutput  h6 {\n",
       "    font-family:  var(--txbk-content-font-family) !important;\n",
       "    font-style: normal !important;\n",
       "}\n",
       "\n",
       "/*  Font-sizes for Headers\n",
       "    ----------------------*/\n",
       "body.jp-Notebook .jp-Cell-inputWrapper .jp-RenderedHTMLCommon.jp-RenderedMarkdown.jp-MarkdownOutput  h1 {\n",
       "    font-size: 2.2em !important;\n",
       "    text-align: center !important;\n",
       "    padding-top:  3rem;\n",
       "    padding-bottom: 3rem;\n",
       "}\n",
       "\n",
       "body.jp-Notebook .jp-Cell-inputWrapper .jp-RenderedHTMLCommon.jp-RenderedMarkdown.jp-MarkdownOutput  h2 {\n",
       "    font-size: 1.9em !important;\n",
       "}\n",
       "\n",
       "body.jp-Notebook .jp-Cell-inputWrapper .jp-RenderedHTMLCommon.jp-RenderedMarkdown.jp-MarkdownOutput  h3 {\n",
       "    font-size: 1.7em !important;\n",
       "}\n",
       "\n",
       "body.jp-Notebook .jp-Cell-inputWrapper .jp-RenderedHTMLCommon.jp-RenderedMarkdown.jp-MarkdownOutput  h4 {\n",
       "    font-size: 1.5em !important;\n",
       "}\n",
       "\n",
       "body.jp-Notebook .jp-Cell-inputWrapper .jp-RenderedHTMLCommon.jp-RenderedMarkdown.jp-MarkdownOutput  h5 {\n",
       "    font-size: 1.3em !important;\n",
       "    border-bottom: 1px solid rgb(204, 204, 204);\n",
       "}\n",
       "\n",
       "body.jp-Notebook .jp-Cell-inputWrapper .jp-RenderedHTMLCommon.jp-RenderedMarkdown.jp-MarkdownOutput  h6 {\n",
       "    font-size: 1.1em !important;\n",
       "}\n",
       "\n",
       "body.jp-Notebook .jp-Cell-inputWrapper .jp-RenderedHTMLCommon.jp-RenderedMarkdown.jp-MarkdownOutput  p,\n",
       "body.jp-Notebook .jp-Cell-inputWrapper .jp-RenderedHTMLCommon.jp-RenderedMarkdown.jp-MarkdownOutput  pre,\n",
       "body.jp-Notebook .jp-Cell-inputWrapper .jp-RenderedHTMLCommon.jp-RenderedMarkdown.jp-MarkdownOutput  code {\n",
       "    font-size: 1em !important;\n",
       "}\n",
       "\n",
       "body.jp-Notebook .jp-Cell-inputWrapper .jp-RenderedHTMLCommon.jp-RenderedMarkdown.jp-MarkdownOutput  pre,\n",
       "body.jp-Notebook .jp-Cell-inputWrapper .jp-RenderedHTMLCommon.jp-RenderedMarkdown.jp-MarkdownOutput  code {\n",
       "    color: var(--txbk-content-mono-color);\n",
       "}\n",
       "\n",
       "\n",
       "/* Monospace Code - no code syntax highlight*/\n",
       "body.jp-Notebook .jp-Cell-inputWrapper .jp-RenderedHTMLCommon.jp-RenderedMarkdown.jp-MarkdownOutput  pre {\n",
       "    /* hack: using code background colour here to allow for compatibility */\n",
       "    background-color: var(--code-background-color) !important;\n",
       "    font-family: var(--txbk-content-mono-font-family) !important;\n",
       "}\n",
       "\n",
       "body.jp-Notebook .jp-Cell-inputWrapper .jp-RenderedHTMLCommon.jp-RenderedMarkdown.jp-MarkdownOutput  p {\n",
       "    line-height: var(--txbk-content-line-height);\n",
       "    text-align: justify !important;\n",
       "}\n",
       "\n",
       "/* Monospace inline rendered markdown */\n",
       "body.jp-Notebook .jp-Cell-inputWrapper .jp-RenderedHTMLCommon.jp-RenderedMarkdown.jp-MarkdownOutput  p code {\n",
       "\n",
       "    /*Re-defining variables for Mono using Code Editor's settings*/\n",
       "    --txbk-content-mono-font-family: var(--txbk-code-font-family);\n",
       "    --txbk-content-mono-font-size: var(--txbk-code-font-size);\n",
       "\n",
       "    background-color: var(--txbk-content-mono-bgcolor) !important;\n",
       "    font-size: var(--txbk-content-mono-font-size) !important;\n",
       "    color: var(--txbk-content-mono-color);\n",
       "}\n",
       "\n",
       "body.jp-Notebook .jp-Cell-inputWrapper .jp-RenderedHTMLCommon.jp-RenderedMarkdown.jp-MarkdownOutput  p strong code {\n",
       "    font-weight: bold !important;\n",
       "    color: var(--txbk-content-mono-color);\n",
       "}\n",
       "\n",
       "body.jp-Notebook .jp-Cell-inputWrapper .jp-RenderedHTMLCommon.jp-RenderedMarkdown.jp-MarkdownOutput  p em code {\n",
       "    font-style: italic !important;\n",
       "    color: var(--txbk-content-mono-color);\n",
       "}\n",
       "\n",
       "body.jp-Notebook .jp-CodeCell .jp-RenderedHTMLCommon p.nomono {\n",
       "    font-family: var(--txbk-content-font-family);\n",
       "    font-size: 1em;\n",
       "}\n",
       "\n",
       "body.jp-Notebook .jp-Cell-inputWrapper .jp-RenderedHTMLCommon.jp-RenderedMarkdown.jp-MarkdownOutput  pre code {\n",
       "    padding: 1rem 1.5rem;\n",
       "    display: block;\n",
       "    color: var(--txbk-content-mono-color);\n",
       "    background-color: var(--txbk-content-mono-bgcolor) !important;\n",
       "    font-family: var(--txbk-content-mono-font-family);\n",
       "    font-size: var(--txbk-content-mono-font-size) !important;\n",
       "    word-wrap: break-word;\n",
       "    word-break: normal;\n",
       "}\n",
       "\n",
       "body.jp-Notebook .jp-Cell-inputWrapper .jp-RenderedHTMLCommon.jp-RenderedMarkdown.jp-MarkdownOutput  blockquote {\n",
       "    --txbk-ui-color: #6f6f6f !important;\n",
       "\n",
       "    margin: 2rem .2rem !important;\n",
       "    padding: .3rem .5rem !important;\n",
       "    border-left: .3rem solid #a7a7a7 !important;\n",
       "}\n",
       "\n",
       "body.jp-Notebook .jp-Cell-inputWrapper .jp-RenderedHTMLCommon.jp-RenderedMarkdown.jp-MarkdownOutput  blockquote p {\n",
       "    padding: .2rem 1.5rem;\n",
       "}\n",
       "\n",
       "body.jp-Notebook .jp-Cell-inputWrapper .jp-RenderedHTMLCommon.jp-RenderedMarkdown.jp-MarkdownOutput  table {\n",
       "    margin-top: 25px;\n",
       "}\n",
       "\n",
       "body.jp-Notebook .jp-Cell-inputWrapper .jp-RenderedHTMLCommon.jp-RenderedMarkdown.jp-MarkdownOutput  table {\n",
       "    font-size: var(--txbk-content-font-size) !important;\n",
       "    border-collapse: collapse;\n",
       "    border-spacing: 0;\n",
       "    width: 100%;\n",
       "    overflow: auto;\n",
       "    break-inside: auto;\n",
       "    text-align: left;\n",
       "    margin-top: 25px;\n",
       "}\n",
       "\n",
       "body.jp-Notebook .jp-Cell-inputWrapper .jp-RenderedHTMLCommon.jp-RenderedMarkdown.jp-MarkdownOutput  table thead {\n",
       "    display: table-header-group;\n",
       "    vertical-align: middle !important;\n",
       "    border-bottom: none !important;\n",
       "}\n",
       "\n",
       "body.jp-Notebook .jp-Cell-inputWrapper .jp-RenderedHTMLCommon.jp-RenderedMarkdown.jp-MarkdownOutput  table thead tr,\n",
       "body.jp-Notebook .jp-Cell-inputWrapper .jp-RenderedHTMLCommon.jp-RenderedMarkdown.jp-MarkdownOutput  table thead tr td,\n",
       "body.jp-Notebook .jp-Cell-inputWrapper .jp-RenderedHTMLCommon.jp-RenderedMarkdown.jp-MarkdownOutput  table tbody tr,\n",
       "body.jp-Notebook .jp-Cell-inputWrapper .jp-RenderedHTMLCommon.jp-RenderedMarkdown.jp-MarkdownOutput  table tbody tr th,\n",
       "body.jp-Notebook .jp-Cell-inputWrapper .jp-RenderedHTMLCommon.jp-RenderedMarkdown.jp-MarkdownOutput  table tbody tr td {\n",
       "    break-inside: avoid;\n",
       "    break-after: auto;\n",
       "    text-align: left !important;\n",
       "    vertical-align: middle !important;\n",
       "    padding: 0 !important;\n",
       "}\n",
       "\n",
       "body.jp-Notebook .jp-Cell-inputWrapper .jp-RenderedHTMLCommon.jp-RenderedMarkdown.jp-MarkdownOutput  table tr th {\n",
       "    border-bottom-width: 0;\n",
       "}\n",
       "\n",
       "body.jp-Notebook .jp-Cell-inputWrapper .jp-RenderedHTMLCommon.jp-RenderedMarkdown.jp-MarkdownOutput  ul,\n",
       "body.jp-Notebook .jp-Cell-inputWrapper .jp-RenderedHTMLCommon.jp-RenderedMarkdown.jp-MarkdownOutput  ol {\n",
       "    position: relative;\n",
       "    display: block;\n",
       "    margin-bottom: 0 !important;\n",
       "    line-height: var(--txbk-content-line-height);\n",
       "}\n",
       "\n",
       "body.jp-Notebook .jp-Cell-inputWrapper .jp-RenderedHTMLCommon.jp-RenderedMarkdown.jp-MarkdownOutput  ul {\n",
       "    list-style-type: disc;\n",
       "}\n",
       "\n",
       "body.jp-Notebook .jp-Cell-inputWrapper .jp-RenderedHTMLCommon.jp-RenderedMarkdown.jp-MarkdownOutput  ul li,\n",
       "body.jp-Notebook .jp-Cell-inputWrapper .jp-RenderedHTMLCommon.jp-RenderedMarkdown.jp-MarkdownOutput  ol li {\n",
       "    /*white-space: pre-wrap;*/\n",
       "    padding: .8rem !important;\n",
       "}\n",
       "\n",
       "body.jp-Notebook .jp-Cell-inputWrapper .jp-RenderedHTMLCommon.jp-RenderedMarkdown.jp-MarkdownOutput  ul li > code,\n",
       "body.jp-Notebook .jp-Cell-inputWrapper .jp-RenderedHTMLCommon.jp-RenderedMarkdown.jp-MarkdownOutput  ol li > code {\n",
       "    font-size: .9em !important\n",
       "}\n",
       "\n",
       "body.jp-Notebook .jp-Cell-inputWrapper .jp-RenderedHTMLCommon.jp-RenderedMarkdown.jp-MarkdownOutput  ul li a code,\n",
       "body.jp-Notebook .jp-Cell-inputWrapper .jp-RenderedHTMLCommon.jp-RenderedMarkdown.jp-MarkdownOutput  ol li a code {\n",
       "    font-size: .9em !important\n",
       "}\n",
       "\n",
       "body.jp-Notebook .jp-Cell-inputWrapper .jp-RenderedHTMLCommon.jp-RenderedMarkdown.jp-MarkdownOutput  ul ul {\n",
       "    list-style-type: circle !important;\n",
       "}\n",
       "\n",
       "body.jp-Notebook .jp-Cell-inputWrapper .jp-RenderedHTMLCommon.jp-RenderedMarkdown.jp-MarkdownOutput  ul ul,\n",
       "body.jp-Notebook .jp-Cell-inputWrapper .jp-RenderedHTMLCommon.jp-RenderedMarkdown.jp-MarkdownOutput  ul ol,\n",
       "body.jp-Notebook .jp-Cell-inputWrapper .jp-RenderedHTMLCommon.jp-RenderedMarkdown.jp-MarkdownOutput  ol ul,\n",
       "body.jp-Notebook .jp-Cell-inputWrapper .jp-RenderedHTMLCommon.jp-RenderedMarkdown.jp-MarkdownOutput  ol ol {\n",
       "    padding-top: .5rem !important;\n",
       "}\n",
       "\n",
       "body.jp-Notebook .jp-Cell-inputWrapper .jp-RenderedHTMLCommon.jp-RenderedMarkdown.jp-MarkdownOutput  ul li > ul li,\n",
       "body.jp-Notebook .jp-Cell-inputWrapper .jp-RenderedHTMLCommon.jp-RenderedMarkdown.jp-MarkdownOutput  ul li > ol li,\n",
       "body.jp-Notebook .jp-Cell-inputWrapper .jp-RenderedHTMLCommon.jp-RenderedMarkdown.jp-MarkdownOutput  ol li > ul li,\n",
       "body.jp-Notebook .jp-Cell-inputWrapper .jp-RenderedHTMLCommon.jp-RenderedMarkdown.jp-MarkdownOutput  ol li > ol li {\n",
       "    padding: .5rem !important;\n",
       "}\n",
       "\n",
       "body.jp-Notebook .jp-Cell-inputWrapper .jp-RenderedHTMLCommon.jp-RenderedMarkdown.jp-MarkdownOutput  ul li > ul li code,\n",
       "body.jp-Notebook .jp-Cell-inputWrapper .jp-RenderedHTMLCommon.jp-RenderedMarkdown.jp-MarkdownOutput  ul li > ol li code,\n",
       "body.jp-Notebook .jp-Cell-inputWrapper .jp-RenderedHTMLCommon.jp-RenderedMarkdown.jp-MarkdownOutput  ol li > ul li code,\n",
       "body.jp-Notebook .jp-Cell-inputWrapper .jp-RenderedHTMLCommon.jp-RenderedMarkdown.jp-MarkdownOutput  ol li > ol li code {\n",
       "    font-size: .9em !important;\n",
       "}\n",
       "\n",
       "body.jp-Notebook .jp-Cell-inputWrapper .jp-RenderedHTMLCommon.jp-RenderedMarkdown.jp-MarkdownOutput  ul li > ul li a code,\n",
       "body.jp-Notebook .jp-Cell-inputWrapper .jp-RenderedHTMLCommon.jp-RenderedMarkdown.jp-MarkdownOutput  ul li > ol li a code,\n",
       "body.jp-Notebook .jp-Cell-inputWrapper .jp-RenderedHTMLCommon.jp-RenderedMarkdown.jp-MarkdownOutput  ol li > ul li a code,\n",
       "body.jp-Notebook .jp-Cell-inputWrapper .jp-RenderedHTMLCommon.jp-RenderedMarkdown.jp-MarkdownOutput  ol li > ol li a code {\n",
       "    font-size: .9em !important;\n",
       "    color: var(--link-color);\n",
       "}\n",
       "\n",
       "body.jp-Notebook .jp-Cell-inputWrapper .jp-RenderedHTMLCommon.jp-RenderedMarkdown.jp-MarkdownOutput  ul ul ul {\n",
       "    list-style-type: square !important;\n",
       "}\n",
       "\n",
       "body.jp-Notebook .jp-Cell-inputWrapper .jp-RenderedHTMLCommon.jp-RenderedMarkdown.jp-MarkdownOutput  p > img:only-child,\n",
       "body.jp-Notebook .jp-Cell-inputWrapper .jp-RenderedHTMLCommon.jp-RenderedMarkdown.jp-MarkdownOutput  img:only-child {\n",
       "    display: block;\n",
       "    margin: auto;\n",
       "    max-width: 40%;\n",
       "}\n",
       "\n",
       "body.jp-Notebook .jp-Cell-inputWrapper .jp-RenderedHTMLCommon.jp-RenderedMarkdown.jp-MarkdownOutput  img {\n",
       "    max-width: 40%;\n",
       "}\n",
       "\n",
       "/* Img MaxW classes */\n",
       "body.jp-Notebook .jp-Cell-inputWrapper .jp-RenderedHTMLCommon.jp-RenderedMarkdown.jp-MarkdownOutput  img.maxw10,\n",
       "body.jp-Notebook .jp-Cell-inputWrapper .jp-RenderedHTMLCommon.jp-RenderedMarkdown.jp-MarkdownOutput  p > img.maxw10 {\n",
       "    max-width: 5% !important;\n",
       "}\n",
       "\n",
       "body.jp-Notebook .jp-Cell-inputWrapper .jp-RenderedHTMLCommon.jp-RenderedMarkdown.jp-MarkdownOutput img.maxw15,\n",
       "body.jp-Notebook .jp-Cell-inputWrapper .jp-RenderedHTMLCommon.jp-RenderedMarkdown.jp-MarkdownOutput p > img.maxw15 {\n",
       "    max-width: 5% !important;\n",
       "}\n",
       "\n",
       "body.jp-Notebook .jp-Cell-inputWrapper .jp-RenderedHTMLCommon.jp-RenderedMarkdown.jp-MarkdownOutput img.maxw20,\n",
       "body.jp-Notebook .jp-Cell-inputWrapper .jp-RenderedHTMLCommon.jp-RenderedMarkdown.jp-MarkdownOutput p > img.maxw20 {\n",
       "    max-width: 10% !important;\n",
       "}\n",
       "\n",
       "body.jp-Notebook .jp-Cell-inputWrapper .jp-RenderedHTMLCommon.jp-RenderedMarkdown.jp-MarkdownOutput img.maxw25,\n",
       "body.jp-Notebook .jp-Cell-inputWrapper .jp-RenderedHTMLCommon.jp-RenderedMarkdown.jp-MarkdownOutput p > img.maxw25 {\n",
       "    max-width: 15% !important;\n",
       "}\n",
       "\n",
       "body.jp-Notebook .jp-Cell-inputWrapper .jp-RenderedHTMLCommon.jp-RenderedMarkdown.jp-MarkdownOutput img.maxw30,\n",
       "body.jp-Notebook .jp-Cell-inputWrapper .jp-RenderedHTMLCommon.jp-RenderedMarkdown.jp-MarkdownOutput p > img.maxw30 {\n",
       "    max-width: 20% !important;\n",
       "}\n",
       "\n",
       "body.jp-Notebook .jp-Cell-inputWrapper .jp-RenderedHTMLCommon.jp-RenderedMarkdown.jp-MarkdownOutput img.maxw35,\n",
       "body.jp-Notebook .jp-Cell-inputWrapper .jp-RenderedHTMLCommon.jp-RenderedMarkdown.jp-MarkdownOutput p > img.maxw35 {\n",
       "    max-width: 25% !important;\n",
       "}\n",
       "\n",
       "body.jp-Notebook .jp-Cell-inputWrapper .jp-RenderedHTMLCommon.jp-RenderedMarkdown.jp-MarkdownOutput img.maxw40,\n",
       "body.jp-Notebook .jp-Cell-inputWrapper .jp-RenderedHTMLCommon.jp-RenderedMarkdown.jp-MarkdownOutput p > img.maxw40 {\n",
       "    max-width: 30% !important;\n",
       "}\n",
       "\n",
       "body.jp-Notebook .jp-Cell-inputWrapper .jp-RenderedHTMLCommon.jp-RenderedMarkdown.jp-MarkdownOutput img.maxw45,\n",
       "body.jp-Notebook .jp-Cell-inputWrapper .jp-RenderedHTMLCommon.jp-RenderedMarkdown.jp-MarkdownOutput p > img.maxw45 {\n",
       "    max-width: 35% !important;\n",
       "}\n",
       "\n",
       "body.jp-Notebook .jp-Cell-inputWrapper .jp-RenderedHTMLCommon.jp-RenderedMarkdown.jp-MarkdownOutput img.maxw50,\n",
       "body.jp-Notebook .jp-Cell-inputWrapper .jp-RenderedHTMLCommon.jp-RenderedMarkdown.jp-MarkdownOutput p > img.maxw50 {\n",
       "    max-width: 40% !important;\n",
       "}\n",
       "\n",
       "body.jp-Notebook .jp-Cell-inputWrapper .jp-RenderedHTMLCommon.jp-RenderedMarkdown.jp-MarkdownOutput img.maxw55,\n",
       "body.jp-Notebook .jp-Cell-inputWrapper .jp-RenderedHTMLCommon.jp-RenderedMarkdown.jp-MarkdownOutput p > img.maxw55 {\n",
       "    max-width: 45% !important;\n",
       "}\n",
       "\n",
       "body.jp-Notebook .jp-Cell-inputWrapper .jp-RenderedHTMLCommon.jp-RenderedMarkdown.jp-MarkdownOutput img.maxw60,\n",
       "body.jp-Notebook .jp-Cell-inputWrapper .jp-RenderedHTMLCommon.jp-RenderedMarkdown.jp-MarkdownOutput p > img.maxw60 {\n",
       "    max-width: 50% !important;\n",
       "}\n",
       "\n",
       "body.jp-Notebook .jp-Cell-inputWrapper .jp-RenderedHTMLCommon.jp-RenderedMarkdown.jp-MarkdownOutput img.maxw65,\n",
       "body.jp-Notebook .jp-Cell-inputWrapper .jp-RenderedHTMLCommon.jp-RenderedMarkdown.jp-MarkdownOutput p > img.maxw65 {\n",
       "    max-width: 55% !important;\n",
       "}\n",
       "\n",
       "body.jp-Notebook .jp-Cell-inputWrapper .jp-RenderedHTMLCommon.jp-RenderedMarkdown.jp-MarkdownOutput img.maxw70,\n",
       "body.jp-Notebook .jp-Cell-inputWrapper .jp-RenderedHTMLCommon.jp-RenderedMarkdown.jp-MarkdownOutput p > img.maxw70 {\n",
       "    max-width: 60% !important;\n",
       "}\n",
       "\n",
       "body.jp-Notebook .jp-Cell-inputWrapper .jp-RenderedHTMLCommon.jp-RenderedMarkdown.jp-MarkdownOutput img.maxw75,\n",
       "body.jp-Notebook .jp-Cell-inputWrapper .jp-RenderedHTMLCommon.jp-RenderedMarkdown.jp-MarkdownOutput p > img.maxw75 {\n",
       "    max-width: 65% !important;\n",
       "}\n",
       "\n",
       "body.jp-Notebook .jp-Cell-inputWrapper .jp-RenderedHTMLCommon.jp-RenderedMarkdown.jp-MarkdownOutput img.maxw80,\n",
       "body.jp-Notebook .jp-Cell-inputWrapper .jp-RenderedHTMLCommon.jp-RenderedMarkdown.jp-MarkdownOutput p > img.maxw80 {\n",
       "    max-width: 70% !important;\n",
       "}\n",
       "\n",
       "body.jp-Notebook .jp-Cell-inputWrapper .jp-RenderedHTMLCommon.jp-RenderedMarkdown.jp-MarkdownOutput img.maxw85,\n",
       "body.jp-Notebook .jp-Cell-inputWrapper .jp-RenderedHTMLCommon.jp-RenderedMarkdown.jp-MarkdownOutput p > img.maxw85 {\n",
       "    max-width: 75% !important;\n",
       "}\n",
       "\n",
       "body.jp-Notebook .jp-Cell-inputWrapper .jp-RenderedHTMLCommon.jp-RenderedMarkdown.jp-MarkdownOutput img.maxw90,\n",
       "body.jp-Notebook .jp-Cell-inputWrapper .jp-RenderedHTMLCommon.jp-RenderedMarkdown.jp-MarkdownOutput p > img.maxw90 {\n",
       "    max-width: 80% !important;\n",
       "}\n",
       "\n",
       "body.jp-Notebook .jp-Cell-inputWrapper .jp-RenderedHTMLCommon.jp-RenderedMarkdown.jp-MarkdownOutput img.maxw95,\n",
       "body.jp-Notebook .jp-Cell-inputWrapper .jp-RenderedHTMLCommon.jp-RenderedMarkdown.jp-MarkdownOutput p > img.maxw95 {\n",
       "    max-width: 85% !important;\n",
       "}\n",
       "\n",
       "body.jp-Notebook .jp-Cell-inputWrapper .jp-RenderedHTMLCommon.jp-RenderedMarkdown.jp-MarkdownOutput img.maxw100,\n",
       "body.jp-Notebook .jp-Cell-inputWrapper .jp-RenderedHTMLCommon.jp-RenderedMarkdown.jp-MarkdownOutput p > img.maxw100 {\n",
       "    max-width: 90% !important;\n",
       "}\n",
       "\n",
       "/* FIX Forcing monospace code to adhere with footnotes rules!*/\n",
       "body.jp-Notebook .jp-Cell-inputWrapper .jp-RenderedHTMLCommon.jp-RenderedMarkdown.jp-MarkdownOutput  p [id^='fn'] > code,\n",
       "body.jp-Notebook .jp-Cell-inputWrapper .jp-RenderedHTMLCommon.jp-RenderedMarkdown.jp-MarkdownOutput  p [class^='fn'] > code {\n",
       "    font-size: 1em !important;\n",
       "}\n",
       "\n",
       "\n",
       "/* ======================================================\n",
       "              GLOBALS (with vars integration)\n",
       "   ======================================================\n",
       "*/\n",
       "\n",
       "\n",
       ":root {\n",
       "    --template-txbk-content-font-size: 16px;\n",
       "    --template-txbk-content-line-height: 1.4;\n",
       "    --template-txbk-content-mono-font-family: \"CMU Typewriter Text\", \"Fira Code\", monospace;\n",
       "    --template-txbk-code-font-family: \"Fira Code\", \"Fira Code\", monospace;\n",
       "    --template-txbk-md-font-family: \"Hack\", \"Hack\", monospace;\n",
       "    --template-txbk-code-font-size: 14px;\n",
       "    --template-txbk-md-font-size: 14px;\n",
       "}\n",
       "\n",
       "/* ======================================================\n",
       "                         GLOBALS\n",
       "   ======================================================\n",
       "*/\n",
       "\n",
       ":root {\n",
       "    /* Base colors */\n",
       "    --texbook-red: #d43133;\n",
       "    --texbook-pink: #D14187;\n",
       "    --texbook-turquoise: #009489;\n",
       "    --texbook-azure: #00afde;\n",
       "    --texbook-blue: #2875d9;\n",
       "    --texbook-light-grey: #828282;\n",
       "    --texbook-dark-grey: rgb(56, 56, 56);\n",
       "    --texbook-yellow: #f9ab00;\n",
       "    --texbook-orange: #e8710a;\n",
       "\n",
       "    /* Font formatting */\n",
       "    --background-color: #ffffff;\n",
       "    --txbk-ui-font-family: \"Roboto Slab\", \"Helvetica Neue\", Helvetica, Arial, sans-serif;\n",
       "    --txbk-ui-color: rgb(51, 51, 51);\n",
       "    --txbk-ui-font-size: 14px;\n",
       "    --txbk-ui-line-height: 1;\n",
       "\n",
       "    --txbk-ui-header-font-family: \"Roboto Slab\", \"Helvetica Neue\", Helvetica, Arial, sans-serif;\n",
       "    --txbk-ui-header-color: rgb(56, 56, 56);\n",
       "\n",
       "    --txbk-ui-mono-color: #828282;\n",
       "    --txbk-ui-mono-font-size: 15px;\n",
       "    --txbk-ui-mono-line-height: 1.4;\n",
       "\n",
       "    /* Cells */\n",
       "    --txbk-cell-selected-border-left-color: lightgrey;\n",
       "    --txbk-cell-border-color: var(--background-color);\n",
       "    --txbk-multiselect-bgcolor: var(--background-color);\n",
       "    --txbk-cell-display-border-color: #009489;\n",
       "    --txbk-cell-edit-border-color: #d43133;\n",
       "\n",
       "    /* Content Formatting */\n",
       "    --txbk-content-font-family: \"CMU Serif\", \"Times New Roman\", serif;\n",
       "    --txbk-content-font-size: var(--template-txbk-content-font-size);\n",
       "    --txbk-content-color: rgb(51, 51, 51);\n",
       "    --txbk-content-line-height: var(--template-txbk-content-line-height);\n",
       "\n",
       "    --txbk-content-mono-font-family: var(--template-txbk-content-mono-font-family);\n",
       "    --txbk-content-mono-font-size: var(--txbk-content-font-size);\n",
       "    --txbk-content-mono-color: var(--texbook-dark-grey);\n",
       "    --txbk-content-mono-bgcolor: var(--code-background-color);\n",
       "\n",
       "    --txbk-code-font-family: var(--template-txbk-code-font-family);\n",
       "    --txbk-code-font-size: var(--template-txbk-code-font-size);\n",
       "    --txbk-md-font-family: var(--template-txbk-md-font-family);\n",
       "    --txbk-md-font-size: var(--template-txbk-md-font-size);\n",
       "    --txbk-code-line-height: 1.6;\n",
       "    --txbk-code-color: var(--code-text-color);\n",
       "    --txbk-code-bgcolor: var(--code-background-color);\n",
       "\n",
       "    --link-color: var(--texbook-blue);\n",
       "    --del-color: var(--texbook-red);\n",
       "    --drop-cap-color: var(--texbook-red);;\n",
       "\n",
       "    --kernel-name-color: var(--texbook-azure);\n",
       "    --kernel-idle: var(--texbook-turquoise);\n",
       "    --kernel-busy: var(--texbook-pink);\n",
       "    --kernel-disconnected: var(--texbook-red);\n",
       "    --btn-warning: var(--texbook-pink);\n",
       "    --btn-danger: var(--texbook-red);\n",
       "    --running-notebook: var(--texbook-turquoise);\n",
       "}\n",
       "\n",
       "html {\n",
       "    font-size: 10px;\n",
       "}\n",
       "\n",
       "body {\n",
       "\n",
       "    background-color: var(--background-color) !important;\n",
       "    font-weight: 300;\n",
       "    font-family: var(--txbk-ui-font-family);\n",
       "    color: var(--txbk-ui-color);\n",
       "    overflow: inherit;\n",
       "    vertical-align: middle;\n",
       "    font-size: var(--txbk-ui-font-size);\n",
       "}\n",
       "\n",
       "h1, h2, h3, h4, h5, h6, label > strong {\n",
       "    font-family: var(--txbk-ui-header-font-family);\n",
       "    color: var(--txbk-ui-header-color);\n",
       "}\n",
       "\n",
       "h1 img, h2 img , h3 img, h4 img, h5 img, h6 img {\n",
       "    display: inline !important;\n",
       "}\n",
       "\n",
       "h1 {\n",
       "    font-weight: bold;\n",
       "    font-style: normal;\n",
       "}\n",
       "\n",
       "h2 {\n",
       "    font-weight: bold;\n",
       "    font-style: italic;\n",
       "}\n",
       "\n",
       "h3 {\n",
       "    font-weight: 600;\n",
       "    font-style: normal;\n",
       "}\n",
       "\n",
       "h4 {\n",
       "    font-weight: 500;\n",
       "    font-style: normal;\n",
       "}\n",
       "\n",
       "h5, h6 {\n",
       "    font-weight: 500;\n",
       "    font-style: italic;\n",
       "}\n",
       "\n",
       "code, kbd, pre, samp {\n",
       "    font-family: var(--txbk-code-font-family);\n",
       "    color: var(--txbk-ui-mono-color);\n",
       "    font-weight: 400;\n",
       "    font-size: var(--txbk-ui-mono-font-size);\n",
       "    line-height: var(--txbk-ui-mono-line-height);\n",
       "}\n",
       "\n",
       "table > thead > tr > td.info,\n",
       "table > tbody > tr > td.info,\n",
       "table > tfoot > tr > td.info,\n",
       "table > thead > tr > th.info,\n",
       "table > tbody > tr > th.info,\n",
       "table > tfoot > tr > th.info,\n",
       "table > thead > tr.info > td,\n",
       "table > tbody > tr.info > td,\n",
       "table > tfoot > tr.info > td,\n",
       "table > thead > tr.info > th,\n",
       "table > tbody > tr.info > th,\n",
       "table > tfoot > tr.info > th {\n",
       "    background-color: #d9edf7;\n",
       "}\n",
       "\n",
       "del {\n",
       "    color: var(--del-color) !important;\n",
       "}\n",
       "\n",
       "/* ======================================================\n",
       "                 Intro/Home Page Server\n",
       "   ======================================================\n",
       "*/\n",
       "\n",
       "#ipython-main-app p {\n",
       "    text-align: justify !important;\n",
       "}\n",
       "\n",
       ".toolbar_info,\n",
       ".list-container {\n",
       "    color: #828282;\n",
       "}\n",
       "\n",
       ".list_placeholder {\n",
       "    font-family: \"Roboto Slab\", serif !important;\n",
       "    font-weight: 300;\n",
       "    font-style: normal;\n",
       "}\n",
       "\n",
       "a.item_link, a:hover.item_link {\n",
       "    color: var(--link-color);\n",
       "    font-weight: 300;\n",
       "}\n",
       "\n",
       ".item_buttons .kernel-name {\n",
       "    color: var(--kernel-name-color);\n",
       "    font-weight: 400;\n",
       "}\n",
       "\n",
       ".btn-warning {\n",
       "    background-color: var(--btn-warning) !important;\n",
       "    border-color: var(--btn-warning) !important;\n",
       "}\n",
       "\n",
       ".btn-warning:focus {\n",
       "    border-color: var(--btn-warning) !important;\n",
       "}\n",
       "\n",
       ".btn-danger {\n",
       "    background-color: var(--btn-danger) !important;\n",
       "    border-color: var(--btn-danger) !important;\n",
       "}\n",
       "\n",
       ".btn-danger:focus {\n",
       "    border-color: var(--btn-danger) !important;\n",
       "}\n",
       "\n",
       ".running-indicator,\n",
       ".running_notebook_icon:before {\n",
       "    color: var(--running-notebook);\n",
       "}\n",
       "\n",
       "\n",
       "\n",
       "/* ======================================================\n",
       "                         Notebook\n",
       "   ======================================================\n",
       "*/\n",
       "\n",
       "/* Modal Dialog */\n",
       "\n",
       ".modal-header > h4 {\n",
       "    font-style: normal !important;\n",
       "    text-decoration: none !important;\n",
       "    font-family: var(--txbk-ui-font-family) !important;\n",
       "    margin: 0 !important;\n",
       "}\n",
       "\n",
       ".notebook_app {\n",
       "    background-color: var(--background-color) !important;\n",
       "    font-family: \"Helvetica Neue\", Helvetica, Arial, sans-serif !important;\n",
       "    font-weight: normal;\n",
       "}\n",
       "\n",
       "div#notebook_name {\n",
       "    font-family: var(--txbk-ui-font-family) !important;\n",
       "    font-weight: normal;\n",
       "    font-size: 24px;\n",
       "    padding: 1px 7px 1px 1px;\n",
       "}\n",
       "\n",
       "div#site {\n",
       "\toverflow: inherit;\n",
       "    top: 112px;\n",
       "    position: absolute;\n",
       "}\n",
       "\n",
       "#header {\n",
       "    display: block;\n",
       "    position: fixed !important;\n",
       "    top: 0;\n",
       "    width: 100%;\n",
       "    max-width: 100%;\n",
       "    height: fit-content;\n",
       "    background-color: var(--background-color);\n",
       "}\n",
       "\n",
       "#notebook-container {\n",
       "    /* Remove shadow so that it looks like a page of a PDF doc */\n",
       "    box-shadow: none !important;\n",
       "    -webkit-box-shadow: none !important;\n",
       "    padding: 0;\n",
       "}\n",
       "\n",
       "div#notebook {\n",
       "    border-top: none;\n",
       "    font-size: 1rem;\n",
       "    padding: 0 !important;\n",
       "    padding-top: 30px !important;\n",
       "    font-family: var(--txbk-content-font-family) !important;\n",
       "}\n",
       "\n",
       ".kernel_idle_icon:before {\n",
       "    color: var(--kernel-idle);\n",
       "}\n",
       "\n",
       ".kernel_busy_icon:before {\n",
       "    color: var(--kernel-busy);\n",
       "}\n",
       "\n",
       ".kernel_disconnected_icon:before {\n",
       "    color: var(--kernel-disconnected);\n",
       "}\n",
       "\n",
       "#notification_area {\n",
       "    font-family: var(--txbk-ui-font-family);\n",
       "}\n",
       "\n",
       "#notification_kernel {\n",
       "    color: #fff;\n",
       "    background-color: var(--kernel-idle);\n",
       "    border-color: var(--kernel-idle);\n",
       "}\n",
       "\n",
       "#notification_kernel.warning {\n",
       "    color: #fff;\n",
       "    background-color: var(--kernel-disconnected);\n",
       "    border-color: var(--kernel-disconnected);\n",
       "}\n",
       "\n",
       "#notification_trusted {\n",
       "    border-color: var(--kernel-disconnected);\n",
       "}\n",
       "\n",
       "#notification_trusted[disabled=\"disabled\"] {\n",
       "    border-color: var(--kernel-idle);\n",
       "}\n",
       "\n",
       "\n",
       "#notification_notebook {\n",
       "    border-color: var(--kernel-idle);\n",
       "}\n",
       "\n",
       "/* -----------------------------------\n",
       "    CELLS\n",
       "   -----------------------------------\n",
       "*/\n",
       "\n",
       "div.cell {\n",
       "    right: 2px;\n",
       "    border:  none;\n",
       "    margin-top: 5px;\n",
       "}\n",
       "\n",
       "div.cell.selected {\n",
       "    /* Reset all - ready for customisation */\n",
       "    border-radius: 0;\n",
       "    background: none;\n",
       "}\n",
       "\n",
       "div.cell .inner_cell {\n",
       "    border-right: 5px solid var(--txbk-cell-border-color);\n",
       "    border-left:  0.2rem dotted var(--txbk-cell-border-color);\n",
       "}\n",
       "\n",
       "div.cell.selected:not(.jupyter-soft-selected) .inner_cell {\n",
       "    border-left-color:  var(--txbk-cell-selected-border-left-color);\n",
       "}\n",
       "\n",
       ".command_mode div.cell.selected:not(.jupyter-soft-selected) .inner_cell {\n",
       "    border-right-color: var(--txbk-cell-display-border-color);\n",
       "}\n",
       "\n",
       ".edit_mode div.cell.selected:not(.jupyter-soft-selected) .inner_cell {\n",
       "    border-right-color: var(--txbk-cell-edit-border-color);\n",
       "}\n",
       "\n",
       "/* Multiple Selection */\n",
       ".command_mode div.cell.jupyter-soft-selected {\n",
       "    border: 2px dashed var(--texbook-azure);\n",
       "    background: var(--txbk-multiselect-bgcolor);\n",
       "    margin-top: 10px;\n",
       "}\n",
       "\n",
       "/*\n",
       "Overlay with Shadow for Code Cell Selected !\n",
       "*/\n",
       "div.code_cell.selected,\n",
       ".command_mode div.code_cell.jupyter-soft-selected {\n",
       "    box-shadow: 0 6px 18px #aaa;\n",
       "    z-index: 10;\n",
       "    top: -10px;\n",
       "}\n",
       "\n",
       "div.code_cell.selected {\n",
       "    border: none;\n",
       "    background: transparent;\n",
       "}\n",
       "\n",
       "div.prompt {\n",
       "    font-family: var(--txbk-code-font-family) !important;\n",
       "    font-style: normal;\n",
       "    font-size: 1rem;\n",
       "    text-align: right;\n",
       "    line-height: 1rem;\n",
       "    min-width: 9ex;\n",
       "}\n",
       "\n",
       "div.cell.selected:before,\n",
       "div.cell.jupyter-soft-selected:before {\n",
       "    /* Important Needed to Override */\n",
       "    width: 0 !important;\n",
       "    background: none !important;\n",
       "}\n",
       "\n",
       "div.cell div.input:before {\n",
       "    display: inline-block;\n",
       "    position: relative;\n",
       "    content: \"\\279E\";\n",
       "    font-size: 1.8rem;\n",
       "    top: 11px;\n",
       "    width: 10px;\n",
       "    left: 3px;\n",
       "    font-weight: bold;\n",
       "}\n",
       "\n",
       "div.cell:not(.selected) div.input:before {\n",
       "    color: var(--background-color);\n",
       "}\n",
       "\n",
       "div.cell.selected:not(.jupyter-soft-selected) div.input:before {\n",
       "    color: var(--txbk-cell-display-border-color);\n",
       "}\n",
       "\n",
       ".edit_mode div.cell.selected div.input:before,\n",
       ".edit_mode div.cell.selected.unrendered div.input:before {\n",
       "    color: var(--txbk-cell-edit-border-color);\n",
       "}\n",
       "\n",
       ".code_cell div.input_prompt:after,\n",
       ".code_cell div.output_prompt:after {\n",
       "    display: inline-block;\n",
       "    content: '';\n",
       "    font-size:  0.75rem;\n",
       "    font-style: normal !important;\n",
       "}\n",
       "\n",
       ".edit_mode div.cell.selected:before{\n",
       "    width: 0;\n",
       "    background: none;\n",
       "}\n",
       "\n",
       "/* ==========================\n",
       "    Cell Input and Rendering\n",
       "   ==========================\n",
       "*/\n",
       "\n",
       "div.input_area {\n",
       "    border-radius: 0;\n",
       "    border: none;\n",
       "    padding: 2px 5px 0 5px;\n",
       "}\n",
       "\n",
       "div.input_prompt {\n",
       "    color: #aba9a9;\n",
       "    font-style: normal;\n",
       "    font-size: 1.4rem;\n",
       "    padding-top: 14px;\n",
       "}\n",
       "\n",
       "/* FIX:\n",
       "   Fixing Empty cell output in HTML export\n",
       "*/\n",
       "div.output_prompt {\n",
       "    color: transparent !important;\n",
       "}\n",
       "\n",
       "div.input_prompt bdi,\n",
       "div.output_prompt bdi {\n",
       "    line-height: 0;\n",
       "    font-size:0;\n",
       "    color: transparent;\n",
       "    left: -10000px;\n",
       "    content: \"\\21E2\";\n",
       "\n",
       "}\n",
       "\n",
       "div.output_wrapper {\n",
       "    margin-top: 8px;\n",
       "}\n",
       "\n",
       "div.output_area div.output_text pre,\n",
       "div.output_area div.output_markdown p {\n",
       "    padding-bottom: 15px;\n",
       "    padding-top: 10px;\n",
       "}\n",
       "\n",
       "div.output_area div.output_markdown p {\n",
       "    font-size: var(--txbk-content-font-size);\n",
       "}\n",
       "\n",
       "div.output_area div.output_markdown pre code {\n",
       "    font-size: var(--txbk-content-mono-font-size);\n",
       "    font-family: var(--txbk-content-mono-font-family);\n",
       "    color: var(--txbk-content-mono-color);\n",
       "}\n",
       "\n",
       "div.output_area div.output_text pre {\n",
       "    --txbk-content-mono-font-family: var(--txbk-code-font-family);\n",
       "\n",
       "    font-weight: normal;\n",
       "    word-break: normal;\n",
       "    word-wrap: break-word;\n",
       "}\n",
       "\n",
       "/* Output Standard Error  */\n",
       "div.output_stderr {\n",
       "    background-color: #FFFFFF;\n",
       "}\n",
       "\n",
       "div.out_prompt_overlay:hover {\n",
       "    box-shadow: none;\n",
       "    background: none;\n",
       "}\n",
       "\n",
       "/* Output HTML after cell code - e.g. Pandas DataFrame */\n",
       "div.output_html {\n",
       "    color: var(--code-text-color);\n",
       "}\n",
       "\n",
       "div.output_html a, div.output_html a:hover {\n",
       "    color: var(--link-color);\n",
       "}\n",
       "\n",
       "div.output_html {\n",
       "    font-size: 1.4em;\n",
       "    font-weight: normal;\n",
       "    font-family: var(--txbk-code-font-family);\n",
       "}\n",
       "\n",
       "div.output_html .nomono {\n",
       "    font-family: var(--txbk-content-font-family);\n",
       "    margin-top: 0;\n",
       "    font-size: 1em;\n",
       "}\n",
       "\n",
       "div.output_html > iframe, div.output_area {\n",
       "    margin-left: 2rem;\n",
       "}\n",
       "\n",
       "div.output_subarea {\n",
       "    margin-left: 0;\n",
       "}\n",
       "\n",
       "div.output_svg div {\n",
       "    max-width: 98%;\n",
       "    margin-left: 0 !important;\n",
       "}\n",
       "\n",
       "/* ----------------------------\n",
       "    Override default CSS rules\n",
       "   ---------------------------- */\n",
       ".rendered_html code {\n",
       "    background-color: transparent !important;\n",
       "}\n",
       "\n",
       ".rendered_html h1:first-child,\n",
       ".rendered_html h2:first-child,\n",
       ".rendered_html h3:first-child,\n",
       ".rendered_html h4:first-child,\n",
       ".rendered_html h5:first-child,\n",
       ".rendered_html h6:first-child {\n",
       "    margin-top: 0.25em;\n",
       "}\n",
       "\n",
       ".rendered_html h1 {\n",
       "    margin-top: 0.48em;\n",
       "}\n",
       "\n",
       ".rendered_html h2 {\n",
       "    margin-top: 0.57em;\n",
       "}\n",
       "\n",
       ".rendered_html h3 {\n",
       "    margin-top: 0.85em;\n",
       "}\n",
       "\n",
       ".rendered_html h4 {\n",
       "    margin-top: 1.3em;\n",
       "}\n",
       "\n",
       ".rendered_html h5 {\n",
       "    margin-top: 1.2em;\n",
       "}\n",
       "\n",
       ".rendered_html h6 {\n",
       "    margin-top: 1.1em;\n",
       "}\n",
       "\n",
       "/* ===============\n",
       "    CELLS Render\n",
       "   =============== */\n",
       "\n",
       "/*  -------------------------\n",
       "    (1) CODE CELLS\n",
       "    Display + Edit modes\n",
       "    -------------------------\n",
       "*/\n",
       "div.code_cell pre, div.CodeMirror, div.CodeMirror-linenumber {\n",
       "    font-family: var(--txbk-code-font-family);\n",
       "    font-size: var(--txbk-code-font-size);\n",
       "    line-height: var(--txbk-code-line-height);\n",
       "}\n",
       "\n",
       "div.CodeMirror-linenumber {\n",
       "    --txbk-ui-mono-font-size: 12px !important;\n",
       "}\n",
       "\n",
       "/* -- MARKDOWN CELLS (Edit) -- */\n",
       "\n",
       "/* md cell */\n",
       "div.text_cell.unrendered pre {\n",
       "    /* general font rule */\n",
       "    font-family: var(--txbk-md-font-family);\n",
       "    font-size: var(--txbk-md-font-size);\n",
       "    line-height: var(--txbk-code-line-height);\n",
       "}\n",
       "\n",
       "/* md cell headers (edit) */\n",
       ".cm-header-1, .cm-header-2, .cm-header-3,\n",
       ".cm-header-4, .cm-header-5, .cm-header-6 {\n",
       "    /* general font rule */\n",
       "    font-family: var(--txbk-md-font-family);\n",
       "}\n",
       "\n",
       "/* ------------------------------------------------------------------\n",
       "    (2) MARKDOWN CELLS (DISPLAY MODE)\n",
       "\n",
       "    Notes: Font-families to use here:\n",
       "    computer-modern --> general text (Computer Modern Typeface, CMU)\n",
       "    md-display-monospace --> Monospace output (CMU Typewriter)\n",
       "   ------------------------------------------------------------------\n",
       " */\n",
       "\n",
       "div.text_cell_render {\n",
       "    font-family: var(--txbk-content-font-family);\n",
       "    font-size: var(--txbk-content-font-size);\n",
       "    color: var(--txbk-content-color);\n",
       "    font-kerning: auto;\n",
       "    text-align: justify;\n",
       "    display: block;\n",
       "    word-break: normal;\n",
       "    word-wrap: break-word;\n",
       "}\n",
       "\n",
       "div.text_cell_render a, div.text_cell_render a:hover {\n",
       "    color: var(--link-color);\n",
       "}\n",
       "\n",
       "div.text_cell_render h1, div.text_cell_render h2,\n",
       "div.text_cell_render h3, div.text_cell_render h4,\n",
       "div.text_cell_render h5, div.text_cell_render h6 {\n",
       "    font-family:  var(--txbk-content-font-family);\n",
       "    font-style: normal;\n",
       "}\n",
       "\n",
       "/* Font-sizes for headers */\n",
       "div.text_cell_render h1 {\n",
       "    font-size: 2.2em;\n",
       "    text-align: center;\n",
       "    padding-top:  3rem;\n",
       "    padding-bottom: 3rem;\n",
       "}\n",
       "\n",
       "div.text_cell_render h2 {\n",
       "    font-size: 1.9em;\n",
       "}\n",
       "\n",
       "div.text_cell_render h3 {\n",
       "    font-size: 1.7em;\n",
       "}\n",
       "\n",
       "div.text_cell_render h4 {\n",
       "    font-size: 1.5em;\n",
       "}\n",
       "\n",
       "div.text_cell_render h5 {\n",
       "    font-size: 1.3em;\n",
       "    border-bottom: 1px solid rgb(204, 204, 204);\n",
       "}\n",
       "\n",
       "div.text_cell_render h6 {\n",
       "    font-size: 1.1em;\n",
       "}\n",
       "\n",
       "div.text_cell_render p,\n",
       "div.text_cell_render pre,\n",
       "div.text_cell_render code {\n",
       "    font-size: 1em !important;\n",
       "}\n",
       "\n",
       "div.text_cell_render pre,\n",
       "div.text_cell_render code {\n",
       "    color: var(--txbk-content-mono-color);\n",
       "}\n",
       "\n",
       "/* Monospace Code - no code syntax highlight*/\n",
       "div.text_cell_render pre {\n",
       "    /* hack: using code background colour here to allow for compatibility */\n",
       "    background-color: var(--code-background-color);\n",
       "    font-family: var(--txbk-content-mono-font-family);\n",
       "}\n",
       "\n",
       "div.text_cell_render p {\n",
       "    line-height: var(--txbk-content-line-height);\n",
       "    text-align: justify !important;\n",
       "}\n",
       "\n",
       "div.text_cell_render code {\n",
       "    font-family: var(--txbk-content-mono-font-family);\n",
       "}\n",
       "\n",
       "/* Monospace inline rendered markdown */\n",
       "div.text_cell_render p code {\n",
       "    /*Re-defining variables for Mono using Code Editor's settings*/\n",
       "    /*--txbk-content-mono-font-family: var(--txbk-code-font-family);*/\n",
       "    /*--txbk-content-mono-font-size: var(--txbk-code-font-size);*/\n",
       "    font-size: var(--txbk-content-mono-font-size) !important;\n",
       "    color: var(--txbk-content-mono-color);\n",
       "    font-family: var(--txbk-content-mono-font-family);\n",
       "}\n",
       "\n",
       "div.text_cell_render p strong code {\n",
       "    font-weight: bold !important;\n",
       "    color: var(--txbk-content-mono-color);\n",
       "}\n",
       "\n",
       "div.text_cell_render p em code {\n",
       "    font-style: italic !important;\n",
       "    color: var(--txbk-content-mono-color);\n",
       "}\n",
       "\n",
       "div.text_cell_render pre code {\n",
       "    padding: 1rem 1.5rem;\n",
       "    display: block !important;\n",
       "    color: var(--txbk-content-mono-color);\n",
       "    background-color: var(--txbk-content-mono-bgcolor) !important;\n",
       "    font-family: var(--txbk-content-mono-font-family);\n",
       "    font-size: var(--txbk-content-mono-font-size) !important;\n",
       "    word-wrap: break-word;\n",
       "    word-break: normal;\n",
       "}\n",
       "\n",
       "div.text_cell_render blockquote {\n",
       "    --txbk-ui-color: #6f6f6f;\n",
       "    margin: .2rem .2rem;\n",
       "    padding: .3rem .5rem;\n",
       "    border-left: .3rem solid #a7a7a7;\n",
       "    background-color: var(--txbk-content-mono-bgcolor);\n",
       "}\n",
       "\n",
       "div.text_cell_render blockquote:not(:first-child) {\n",
       "    margin: 2rem .2rem;\n",
       "}\n",
       "\n",
       "div.text_cell_render blockquote p {\n",
       "    padding: .2rem 1.5rem;\n",
       "}\n",
       "\n",
       "div.text_cell_render table {\n",
       "    font-size: var(--txbk-content-font-size) !important;\n",
       "    border-collapse: collapse;\n",
       "    border-spacing: 0;\n",
       "    overflow: auto;\n",
       "    break-inside: auto;\n",
       "    margin-top: 25px;\n",
       "    margin-bottom: 15px;\n",
       "}\n",
       "\n",
       "div.text_cell_render table thead {\n",
       "    display: table-header-group;\n",
       "    vertical-align: middle;\n",
       "    border-bottom: none;\n",
       "}\n",
       "\n",
       "div.text_cell_render table thead tr,\n",
       "div.text_cell_render table thead tr th,\n",
       "div.text_cell_render table thead tr td,\n",
       "div.text_cell_render table tbody tr,\n",
       "div.text_cell_render table tbody tr th,\n",
       "div.text_cell_render table tbody tr td {\n",
       "    break-inside: avoid;\n",
       "    break-after: auto;\n",
       "    vertical-align: middle;\n",
       "    padding: 5px 5px;\n",
       "}\n",
       "\n",
       "div.text_cell_render table tr th {\n",
       "    border-bottom-width: 0;\n",
       "}\n",
       "\n",
       "div.text_cell_render ul, div.text_cell_render ol {\n",
       "    position: relative;\n",
       "    display: block;\n",
       "    margin-bottom: 0 !important;\n",
       "    line-height: var(--txbk-content-line-height);\n",
       "}\n",
       "\n",
       "div.text_cell_render ul {\n",
       "    list-style-type: disc;\n",
       "}\n",
       "\n",
       "div.text_cell_render ul li, div.text_cell_render ol li {\n",
       "    padding: .25em;\n",
       "}\n",
       "\n",
       "div.text_cell_render ul ul {\n",
       "    list-style-type: circle !important;\n",
       "}\n",
       "\n",
       "div.text_cell_render ul li > ul li a code,\n",
       "div.text_cell_render ul li > ol li a code,\n",
       "div.text_cell_render ol li > ul li a code,\n",
       "div.text_cell_render ol li > ol li a code {\n",
       "    color: var(--link-color);\n",
       "}\n",
       "\n",
       "div.text_cell_render ul ul ul {\n",
       "    list-style-type: square !important;\n",
       "}\n",
       "\n",
       "div.text_cell_render p > img:only-child {\n",
       "    display: block;\n",
       "    margin: auto;\n",
       "    max-width: 70% !important;\n",
       "}\n",
       "\n",
       "div.text_cell_render img {\n",
       "    max-width: 70%;\n",
       "}\n",
       "\n",
       "/*\n",
       "    ===================================\n",
       "    New CSS Classes and Styles\n",
       "    ===================================\n",
       "\n",
       "    --------------\n",
       "    1. Footnotes\n",
       "    --------------\n",
       "*/\n",
       "[id^='fn'], [class^='fn'] {\n",
       "    font-size: small !important;\n",
       "    font-weight: normal !important;\n",
       "    font-style: normal !important;\n",
       "    border-top: 1px solid var(--txbk-ui-mono-color);\n",
       "    padding-top: .8rem;\n",
       "    display: block;\n",
       "}\n",
       "\n",
       "p > [id^='fn']:not(:first-child),\n",
       "p > [class^='fn']:not(:first-child) {\n",
       "    border-top: 0 !important;\n",
       "}\n",
       "\n",
       "[id^='fn'] i, [class^='fn'] i,\n",
       "[id^='fn'] b, [class^='fn'] b,\n",
       "[id^='fn'] strong, [class^='fn'] strong,\n",
       "p > strong > strong {\n",
       "    background-color: var(--txbk-content-mono-bgcolor);\n",
       "    font-style: normal !important;\n",
       "    font-weight: bold !important;\n",
       "}\n",
       "\n",
       "/* FIX Forcing monospace code to adhere with footnotes rules!*/\n",
       "div.text_cell_render p [id^='fn'] > code,\n",
       "div.text_cell_render p [class^='fn'] > code {\n",
       "    font-size: 1em !important;\n",
       "}\n",
       "\n",
       "/* CSS Anchors link as superscript (like footnotes) */\n",
       "a[href^=\"#fn\"], a[href*=\"fn\"] {\n",
       "    font-size: 60%;\n",
       "    vertical-align: top;\n",
       "}\n",
       "/* Surround Footnotes by Square brackets */\n",
       "a[href^=\"#fn\"]:before, a[href*=\"fn\"]:before {\n",
       "    content: \"[\";\n",
       "}\n",
       "\n",
       "a[href^=\"#fn\"]:after, a[href*=\"fn\"]:after {\n",
       "    content: \"]\";\n",
       "}\n",
       "\n",
       "/* --------------\n",
       "    2. Drop cap\n",
       "   --------------\n",
       "*/\n",
       ".drop {\n",
       "    color: var(--drop-cap-color);\n",
       "    font-size: 75px;\n",
       "    line-height: 60px;\n",
       "    padding-top: 4px;\n",
       "    margin-top: 0.2rem;\n",
       "}\n",
       "\n",
       "/* -----------------------------\n",
       "    3. noTeXbook Text colours\n",
       "   -----------------------------\n",
       "*/\n",
       ".texbook-red {\n",
       "    color: var(--texbook-red);\n",
       "}\n",
       "\n",
       ".texbook-pink {\n",
       "    color: var(--texbook-pink);\n",
       "}\n",
       "\n",
       ".texbook-turquoise {\n",
       "    color: var(--texbook-turquoise);\n",
       "}\n",
       "\n",
       ".texbook-azure {\n",
       "    color: var(--texbook-azure);\n",
       "}\n",
       "\n",
       ".texbook-blue {\n",
       "    color: var(--texbook-blue);\n",
       "}\n",
       "\n",
       ".texbook-light-grey {\n",
       "    color: var(--texbook-light-grey);\n",
       "}\n",
       "\n",
       ".texbook-dark-grey {\n",
       "    color: var(--texbook-dark-grey);\n",
       "}\n",
       "\n",
       ".texbook-orange {\n",
       "    color: var(--texbook-orange);\n",
       "}\n",
       "\n",
       ".texbook-yellow {\n",
       "    color: var(--texbook-yellow);\n",
       "}\n",
       "\n",
       "/* ---------------------------------------------------------\n",
       "    4. IMG MaxWidthXX\n",
       "\n",
       "    CSS classes to control the max-width property of images\n",
       "    when the default 70% is not enough.\n",
       "    This is when images need to be enlarged or shrunk.\n",
       "   ---------------------------------------------------------\n",
       "*/\n",
       "\n",
       "div.text_cell_render img.maxw10,\n",
       "div.text_cell_render p > img.maxw10 {\n",
       "    max-width: 10% !important;\n",
       "}\n",
       "\n",
       "div.text_cell_render img.maxw15,\n",
       "div.text_cell_render p > img.maxw15 {\n",
       "    max-width: 15% !important;\n",
       "}\n",
       "\n",
       "div.text_cell_render img.maxw20,\n",
       "div.text_cell_render p > img.maxw20 {\n",
       "    max-width: 20% !important;\n",
       "}\n",
       "\n",
       "div.text_cell_render img.maxw25,\n",
       "div.text_cell_render p > img.maxw25 {\n",
       "    max-width: 25% !important;\n",
       "}\n",
       "\n",
       "div.text_cell_render img.maxw30,\n",
       "div.text_cell_render p > img.maxw30 {\n",
       "    max-width: 30% !important;\n",
       "}\n",
       "\n",
       "div.text_cell_render img.maxw35,\n",
       "div.text_cell_render p > img.maxw35 {\n",
       "    max-width: 35% !important;\n",
       "}\n",
       "\n",
       "div.text_cell_render img.maxw40,\n",
       "div.text_cell_render p > img.maxw40 {\n",
       "    max-width: 40% !important;\n",
       "}\n",
       "\n",
       "div.text_cell_render img.maxw45,\n",
       "div.text_cell_render p > img.maxw45 {\n",
       "    max-width: 45% !important;\n",
       "}\n",
       "\n",
       "div.text_cell_render img.maxw50,\n",
       "div.text_cell_render p > img.maxw50 {\n",
       "    max-width: 50% !important;\n",
       "}\n",
       "\n",
       "div.text_cell_render img.maxw55,\n",
       "div.text_cell_render p > img.maxw55 {\n",
       "    max-width: 55% !important;\n",
       "}\n",
       "\n",
       "div.text_cell_render img.maxw60,\n",
       "div.text_cell_render p > img.maxw60 {\n",
       "    max-width: 60% !important;\n",
       "}\n",
       "\n",
       "div.text_cell_render img.maxw65,\n",
       "div.text_cell_render p > img.maxw65 {\n",
       "    max-width: 65% !important;\n",
       "}\n",
       "\n",
       "div.text_cell_render img.maxw70,\n",
       "div.text_cell_render p > img.maxw70 {\n",
       "    max-width: 70% !important;\n",
       "}\n",
       "\n",
       "div.text_cell_render img.maxw75,\n",
       "div.text_cell_render p > img.maxw75 {\n",
       "    max-width: 75% !important;\n",
       "}\n",
       "\n",
       "div.text_cell_render img.maxw80,\n",
       "div.text_cell_render p > img.maxw80 {\n",
       "    max-width: 80% !important;\n",
       "}\n",
       "\n",
       "div.text_cell_render img.maxw85,\n",
       "div.text_cell_render p > img.maxw85 {\n",
       "    max-width: 85% !important;\n",
       "}\n",
       "\n",
       "div.text_cell_render img.maxw90,\n",
       "div.text_cell_render p > img.maxw90 {\n",
       "    max-width: 90% !important;\n",
       "}\n",
       "\n",
       "div.text_cell_render img.maxw95,\n",
       "div.text_cell_render p > img.maxw95 {\n",
       "    max-width: 95% !important;\n",
       "}\n",
       "\n",
       "div.text_cell_render img.maxw100,\n",
       "div.text_cell_render p > img.maxw100 {\n",
       "    max-width: 100% !important;\n",
       "}\n",
       "\n",
       "/*  ------------\n",
       "     4. Badges\n",
       "    ------------\n",
       "*/\n",
       ".badges img, .badges p img {\n",
       "    margin: 0 !important;  /* Override margins */\n",
       "    display: inline !important;\n",
       "    padding-right: 7px;\n",
       "}\n",
       "\n",
       ".badges p {\n",
       "    display: inline !important;\n",
       "}\n",
       "\n",
       ".badges {\n",
       "    display: block;\n",
       "    text-align: center;\n",
       "}\n",
       "\n",
       "/*  ----------------\n",
       "     5. Inline Math\n",
       "    ----------------\n",
       "*/\n",
       ".inline-math {\n",
       "    display: inline-block;\n",
       "}\n",
       "\n",
       "/*  --------------------\n",
       "     6. Inline Mono Font\n",
       "    --------------------\n",
       "*/\n",
       ".codemono code, .codemono pre, .codemono pre code {\n",
       "    font-family: var(--txbk-code-font-family) !important;\n",
       "}\n",
       "\n",
       ".mdmono code, .mdmono pre, .mdmono pre code {\n",
       "    font-family: var(--txbk-md-font-family) !important;\n",
       "}\n",
       "</style>\n",
       "\n",
       "<script type=\"text/javascript\">\n",
       "/*\n",
       "Author: Valerio Maggio (@leriomaggio)\n",
       "http://github.com/leriomaggio\n",
       "\n",
       " ==================================================\n",
       " Custom JQuery function that handles the scrolling\n",
       " to anchor links positioning the landing of the top\n",
       " pixel to the correct offset, considering that the\n",
       " header toolbar is FIXED by default.\n",
       " ==================================================\n",
       "\n",
       "*/\n",
       "\n",
       "window.onload = function() {\n",
       "    if (window.JQuery) {\n",
       "        function customise_anchor_links_click() {\n",
       "            $(\"a\").on(\"click\", function (e) {\n",
       "                const hash = this.hash;  // full hash reference, if any (e.g. #numpy.arange)\n",
       "                if (hash !== \"\") {  // check that this is an anchor link\n",
       "                    // Remove any existing handler\n",
       "                    $(this).unbind();\n",
       "                    // Get anchor (get rid of sharp symbol)\n",
       "                    // and escape any invalid character for a JQuery selector\n",
       "                    // e.g. numpy.arange ==> \"numpy\\.arange\"\n",
       "                    const anchor = $.escapeSelector(hash.substr(1));\n",
       "                    // Look for ID selector\n",
       "                    let anchor_sel = \"#\" + anchor;\n",
       "                    let t = $(anchor_sel);\n",
       "                    if ((t === undefined) || (t.length === 0)) {\n",
       "                        // if not ID, look for a link name anchor\n",
       "                        anchor_sel = \"a[name='\" + anchor + \"'\";\n",
       "                        t = $(anchor_sel);\n",
       "                    }\n",
       "                    if ((t !== undefined) && (t.length > 0)) {\n",
       "                        // Prevent default anchor click behavior\n",
       "                        e.preventDefault();\n",
       "                        const page = $(\"html, body\");\n",
       "                        // Using jQuery's animate() method to add smooth page scroll\n",
       "                        // The optional number (800) specifies the number of milliseconds\n",
       "                        // it takes to scroll to the specified area\n",
       "                        let header_height = $(\"#header\").height();\n",
       "                        let scrollTopOffset = $(t).offset().top - header_height;\n",
       "\n",
       "                        /*\n",
       "                         * FIX Scrolling Animation Freeze:\n",
       "                         * https://stackoverflow.com/questions/18445590/jquery-animate-stop-scrolling-when-user-scrolls-manually\n",
       "                         */\n",
       "                        page.on(\"scroll mousedown wheel DOMMouseScroll mousewheel keyup touchmove\", function () {\n",
       "                            page.stop(true);  // clearQueue\n",
       "                        });\n",
       "                        page.stop(true).animate({\n",
       "                            scrollTop: scrollTopOffset\n",
       "                        }, 800, function () {\n",
       "                            page.off(\"scroll mousedown wheel DOMMouseScroll mousewheel keyup touchmove\");\n",
       "                        });\n",
       "                        return false;\n",
       "                    }\n",
       "                }\n",
       "            });\n",
       "        }\n",
       "\n",
       "        // Trigger the selection when the page is ready\n",
       "        $(document).ready(function () {\n",
       "            customise_anchor_links_click();\n",
       "        });\n",
       "\n",
       "        /*\n",
       "         Trigger a new selection scan every time a\n",
       "         Markdown cell is rendered -\n",
       "         so that (possible) newly defined links can be captured.\n",
       "         */\n",
       "        $([IPython.events]).on(\"rendered.MarkdownCell\", function () {\n",
       "            customise_anchor_links_click();\n",
       "        });\n",
       "    }\n",
       "\n",
       "\n",
       "}\n",
       "</script>\n",
       "\n",
       "<div class=\"nomono\">\n",
       "   The notebook is using\n",
       "    <a href=\"https://github.com/leriomaggio/notexbook-jupyter-theme\" title=\"noTeXbook Theme\">\n",
       "        <b>no$\\TeX$book</b></a> Jupyter Theme (release <code>2.0.1</code>).\n",
       "\n",
       "</div>"
      ],
      "text/plain": [
       "<IPython.core.display.HTML object>"
      ]
     },
     "execution_count": 1,
     "metadata": {},
     "output_type": "execute_result"
    }
   ],
   "source": [
    "%load_ext notexbook\n",
    "%texify"
   ]
  },
  {
   "cell_type": "code",
   "execution_count": 2,
   "metadata": {},
   "outputs": [],
   "source": [
    "# Pandas contains data structures and data manipulation tools\n",
    "# designed to make data cleaning and analysis fast and easy in Python. \n",
    "# While pandas adopts many coding idioms from NumPy, \n",
    "# the biggest difference is that pandas is designed\n",
    "# for working with tabular or heterogeneous data.\n",
    "# NumPy, by contrast, is best suited for working with homogeneous numerical array data."
   ]
  },
  {
   "cell_type": "code",
   "execution_count": 3,
   "metadata": {},
   "outputs": [],
   "source": [
    "# Introduction to pandas Data Structures."
   ]
  },
  {
   "cell_type": "code",
   "execution_count": 4,
   "metadata": {},
   "outputs": [],
   "source": [
    "import pandas as pd\n",
    "import numpy as np"
   ]
  },
  {
   "cell_type": "code",
   "execution_count": 5,
   "metadata": {},
   "outputs": [],
   "source": [
    "# Series\n",
    "# A Series is a one-dimensional array-like object containing a sequence of values\n",
    "# (of similar types to NumPy types) and an associated array of data labels, called its index."
   ]
  },
  {
   "cell_type": "code",
   "execution_count": 6,
   "metadata": {},
   "outputs": [],
   "source": [
    "obj = pd.Series([4, 7, -5, 3])"
   ]
  },
  {
   "cell_type": "code",
   "execution_count": 7,
   "metadata": {},
   "outputs": [
    {
     "data": {
      "text/plain": [
       "0    4\n",
       "1    7\n",
       "2   -5\n",
       "3    3\n",
       "dtype: int64"
      ]
     },
     "execution_count": 7,
     "metadata": {},
     "output_type": "execute_result"
    }
   ],
   "source": [
    "obj"
   ]
  },
  {
   "cell_type": "code",
   "execution_count": 8,
   "metadata": {},
   "outputs": [
    {
     "data": {
      "text/plain": [
       "RangeIndex(start=0, stop=4, step=1)"
      ]
     },
     "execution_count": 8,
     "metadata": {},
     "output_type": "execute_result"
    }
   ],
   "source": [
    "obj.index # Get the index "
   ]
  },
  {
   "cell_type": "code",
   "execution_count": 9,
   "metadata": {},
   "outputs": [],
   "source": [
    "# Often it will be desirable to create a Series with an index identifying each data point\n",
    "# with a label:\n",
    "obj2 = pd.Series([4, 7, -5, 3], index=['a', 'b', 'c', 'd'])\n",
    "obj2.name"
   ]
  },
  {
   "cell_type": "code",
   "execution_count": 10,
   "metadata": {},
   "outputs": [
    {
     "data": {
      "text/plain": [
       "a    4\n",
       "b    7\n",
       "c   -5\n",
       "d    3\n",
       "dtype: int64"
      ]
     },
     "execution_count": 10,
     "metadata": {},
     "output_type": "execute_result"
    }
   ],
   "source": [
    "obj2"
   ]
  },
  {
   "cell_type": "code",
   "execution_count": 11,
   "metadata": {},
   "outputs": [
    {
     "data": {
      "text/plain": [
       "Index(['a', 'b', 'c', 'd'], dtype='object')"
      ]
     },
     "execution_count": 11,
     "metadata": {},
     "output_type": "execute_result"
    }
   ],
   "source": [
    "obj2.index"
   ]
  },
  {
   "cell_type": "code",
   "execution_count": 12,
   "metadata": {},
   "outputs": [
    {
     "data": {
      "text/plain": [
       "4"
      ]
     },
     "execution_count": 12,
     "metadata": {},
     "output_type": "execute_result"
    }
   ],
   "source": [
    "# Compared with NumPy arrays, you can use labels in the index when selecting\n",
    "# single values or a set of values:\n",
    "obj2['a']"
   ]
  },
  {
   "cell_type": "code",
   "execution_count": 13,
   "metadata": {},
   "outputs": [
    {
     "data": {
      "text/plain": [
       "7"
      ]
     },
     "execution_count": 13,
     "metadata": {},
     "output_type": "execute_result"
    }
   ],
   "source": [
    "obj[1]"
   ]
  },
  {
   "cell_type": "code",
   "execution_count": 14,
   "metadata": {},
   "outputs": [
    {
     "data": {
      "text/plain": [
       "c   -5\n",
       "a    4\n",
       "d    3\n",
       "dtype: int64"
      ]
     },
     "execution_count": 14,
     "metadata": {},
     "output_type": "execute_result"
    }
   ],
   "source": [
    "obj2[['c', 'a', 'd']] # Here ['c', 'a', 'd'] is interpreted as a list of indices,\n",
    "                      # even though it contains strings instead of integers."
   ]
  },
  {
   "cell_type": "code",
   "execution_count": 15,
   "metadata": {},
   "outputs": [
    {
     "data": {
      "text/plain": [
       "0     True\n",
       "1     True\n",
       "2    False\n",
       "3    False\n",
       "dtype: bool"
      ]
     },
     "execution_count": 15,
     "metadata": {},
     "output_type": "execute_result"
    }
   ],
   "source": [
    "obj > 3"
   ]
  },
  {
   "cell_type": "code",
   "execution_count": 16,
   "metadata": {},
   "outputs": [
    {
     "data": {
      "text/plain": [
       "0    4\n",
       "1    7\n",
       "dtype: int64"
      ]
     },
     "execution_count": 16,
     "metadata": {},
     "output_type": "execute_result"
    }
   ],
   "source": [
    "obj[obj > 3]"
   ]
  },
  {
   "cell_type": "code",
   "execution_count": 17,
   "metadata": {},
   "outputs": [
    {
     "data": {
      "text/plain": [
       "0     8\n",
       "1    14\n",
       "2   -10\n",
       "3     6\n",
       "dtype: int64"
      ]
     },
     "execution_count": 17,
     "metadata": {},
     "output_type": "execute_result"
    }
   ],
   "source": [
    "obj * 2"
   ]
  },
  {
   "cell_type": "code",
   "execution_count": 18,
   "metadata": {},
   "outputs": [
    {
     "data": {
      "text/plain": [
       "0      54.598150\n",
       "1    1096.633158\n",
       "2       0.006738\n",
       "3      20.085537\n",
       "dtype: float64"
      ]
     },
     "execution_count": 18,
     "metadata": {},
     "output_type": "execute_result"
    }
   ],
   "source": [
    "np.exp(obj)"
   ]
  },
  {
   "cell_type": "code",
   "execution_count": 19,
   "metadata": {},
   "outputs": [],
   "source": [
    "# you can create a Series from a python dict:\n",
    "sdata = {'Ohio': 35000, 'Texas': 71000, 'Oregon': 16000, 'Utah': 5000}\n",
    "obj3 = pd.Series(sdata)"
   ]
  },
  {
   "cell_type": "code",
   "execution_count": 20,
   "metadata": {},
   "outputs": [
    {
     "data": {
      "text/plain": [
       "Ohio      35000\n",
       "Texas     71000\n",
       "Oregon    16000\n",
       "Utah       5000\n",
       "dtype: int64"
      ]
     },
     "execution_count": 20,
     "metadata": {},
     "output_type": "execute_result"
    }
   ],
   "source": [
    "obj3"
   ]
  },
  {
   "cell_type": "code",
   "execution_count": 21,
   "metadata": {},
   "outputs": [],
   "source": [
    "states = ['California', 'Ohio', 'Oregon', 'Texas']"
   ]
  },
  {
   "cell_type": "code",
   "execution_count": 22,
   "metadata": {},
   "outputs": [],
   "source": [
    "obj4 = pd.Series(sdata, index=states)"
   ]
  },
  {
   "cell_type": "code",
   "execution_count": 23,
   "metadata": {},
   "outputs": [
    {
     "data": {
      "text/plain": [
       "California        NaN\n",
       "Ohio          35000.0\n",
       "Oregon        16000.0\n",
       "Texas         71000.0\n",
       "dtype: float64"
      ]
     },
     "execution_count": 23,
     "metadata": {},
     "output_type": "execute_result"
    }
   ],
   "source": [
    "# Here, three values found in sdata were placed in the appropriate locations,\n",
    "# but since no value for 'California' was found, it appears as NaN (not a number),\n",
    "# which is con‐ sidered in pandas to mark missing or NA values.\n",
    "# Since 'Utah' was not included in states, it is excluded from the resulting object.\n",
    "obj4"
   ]
  },
  {
   "cell_type": "code",
   "execution_count": 24,
   "metadata": {},
   "outputs": [
    {
     "data": {
      "text/plain": [
       "California     True\n",
       "Ohio          False\n",
       "Oregon        False\n",
       "Texas         False\n",
       "dtype: bool"
      ]
     },
     "execution_count": 24,
     "metadata": {},
     "output_type": "execute_result"
    }
   ],
   "source": [
    "# I will use the terms “missing” or “NA” interchangeably to refer to missing data.\n",
    "# The isnull and notnull functions in pandas should be used to detect missing data:\n",
    "pd.isnull(obj4) # or obj4.isnull()"
   ]
  },
  {
   "cell_type": "code",
   "execution_count": 25,
   "metadata": {},
   "outputs": [
    {
     "data": {
      "text/plain": [
       "California    False\n",
       "Ohio           True\n",
       "Oregon         True\n",
       "Texas          True\n",
       "dtype: bool"
      ]
     },
     "execution_count": 25,
     "metadata": {},
     "output_type": "execute_result"
    }
   ],
   "source": [
    "pd.notnull(obj4) # or obj4.notnull()"
   ]
  },
  {
   "cell_type": "code",
   "execution_count": 26,
   "metadata": {},
   "outputs": [
    {
     "data": {
      "text/plain": [
       "Ohio      35000\n",
       "Texas     71000\n",
       "Oregon    16000\n",
       "Utah       5000\n",
       "dtype: int64"
      ]
     },
     "execution_count": 26,
     "metadata": {},
     "output_type": "execute_result"
    }
   ],
   "source": [
    "# A useful Series feature for many applications is that it automatically aligns by index\n",
    "# label in arithmetic operations:\n",
    "obj3"
   ]
  },
  {
   "cell_type": "code",
   "execution_count": 27,
   "metadata": {},
   "outputs": [
    {
     "data": {
      "text/plain": [
       "California        NaN\n",
       "Ohio          35000.0\n",
       "Oregon        16000.0\n",
       "Texas         71000.0\n",
       "dtype: float64"
      ]
     },
     "execution_count": 27,
     "metadata": {},
     "output_type": "execute_result"
    }
   ],
   "source": [
    "obj4"
   ]
  },
  {
   "cell_type": "code",
   "execution_count": 28,
   "metadata": {},
   "outputs": [
    {
     "data": {
      "text/plain": [
       "California         NaN\n",
       "Ohio           70000.0\n",
       "Oregon         32000.0\n",
       "Texas         142000.0\n",
       "Utah               NaN\n",
       "dtype: float64"
      ]
     },
     "execution_count": 28,
     "metadata": {},
     "output_type": "execute_result"
    }
   ],
   "source": [
    "obj3 + obj4"
   ]
  },
  {
   "cell_type": "code",
   "execution_count": null,
   "metadata": {},
   "outputs": [],
   "source": []
  },
  {
   "cell_type": "code",
   "execution_count": 29,
   "metadata": {},
   "outputs": [],
   "source": [
    "# Both the Series object itself and its index have a name attribute,\n",
    "# which integrates with other key areas of pandas functionality:\n",
    "obj4.name = 'population'"
   ]
  },
  {
   "cell_type": "code",
   "execution_count": 30,
   "metadata": {},
   "outputs": [],
   "source": [
    "obj4.index.name = 'state'"
   ]
  },
  {
   "cell_type": "code",
   "execution_count": 31,
   "metadata": {},
   "outputs": [
    {
     "data": {
      "text/plain": [
       "state\n",
       "California        NaN\n",
       "Ohio          35000.0\n",
       "Oregon        16000.0\n",
       "Texas         71000.0\n",
       "Name: population, dtype: float64"
      ]
     },
     "execution_count": 31,
     "metadata": {},
     "output_type": "execute_result"
    }
   ],
   "source": [
    "obj4"
   ]
  },
  {
   "cell_type": "code",
   "execution_count": 32,
   "metadata": {},
   "outputs": [
    {
     "data": {
      "text/plain": [
       "0    4\n",
       "1    7\n",
       "2   -5\n",
       "3    3\n",
       "dtype: int64"
      ]
     },
     "execution_count": 32,
     "metadata": {},
     "output_type": "execute_result"
    }
   ],
   "source": [
    "# A Series’s index can be altered in-place by assignment:\n",
    "obj"
   ]
  },
  {
   "cell_type": "code",
   "execution_count": 33,
   "metadata": {},
   "outputs": [],
   "source": [
    "obj.index = ['Bob', 'Steve', 'Jeff', 'Ryan']"
   ]
  },
  {
   "cell_type": "code",
   "execution_count": 34,
   "metadata": {},
   "outputs": [
    {
     "data": {
      "text/plain": [
       "Bob      4\n",
       "Steve    7\n",
       "Jeff    -5\n",
       "Ryan     3\n",
       "dtype: int64"
      ]
     },
     "execution_count": 34,
     "metadata": {},
     "output_type": "execute_result"
    }
   ],
   "source": [
    "obj"
   ]
  },
  {
   "cell_type": "code",
   "execution_count": 35,
   "metadata": {},
   "outputs": [],
   "source": [
    "# DataFrame"
   ]
  },
  {
   "cell_type": "code",
   "execution_count": 36,
   "metadata": {},
   "outputs": [],
   "source": [
    "# A DataFrame represents a rectangular table of data and contains an ordered collection\n",
    "# of columns, each of which can be a different value type (numeric, string, boolean, etc.)."
   ]
  },
  {
   "cell_type": "code",
   "execution_count": 37,
   "metadata": {},
   "outputs": [],
   "source": [
    "# There are many ways to construct a DataFrame, though one of the most common\n",
    "# is from a dict of equal-length lists or NumPy arrays:"
   ]
  },
  {
   "cell_type": "code",
   "execution_count": 38,
   "metadata": {},
   "outputs": [],
   "source": [
    "data = {'state': ['Ohio', 'Ohio', 'Ohio', 'Nevada', 'Nevada', 'Nevada'],\n",
    "        'year': [2000, 2001, 2002, 2001, 2002, 2003],\n",
    "        'pop': [1.5, 1.7, 3.6, 2.4, 2.9, 3.2]\n",
    "       }"
   ]
  },
  {
   "cell_type": "code",
   "execution_count": 39,
   "metadata": {},
   "outputs": [],
   "source": [
    "frame = pd.DataFrame(data)"
   ]
  },
  {
   "cell_type": "code",
   "execution_count": 40,
   "metadata": {},
   "outputs": [
    {
     "data": {
      "text/html": [
       "<div>\n",
       "<style scoped>\n",
       "    .dataframe tbody tr th:only-of-type {\n",
       "        vertical-align: middle;\n",
       "    }\n",
       "\n",
       "    .dataframe tbody tr th {\n",
       "        vertical-align: top;\n",
       "    }\n",
       "\n",
       "    .dataframe thead th {\n",
       "        text-align: right;\n",
       "    }\n",
       "</style>\n",
       "<table border=\"1\" class=\"dataframe\">\n",
       "  <thead>\n",
       "    <tr style=\"text-align: right;\">\n",
       "      <th></th>\n",
       "      <th>state</th>\n",
       "      <th>year</th>\n",
       "      <th>pop</th>\n",
       "    </tr>\n",
       "  </thead>\n",
       "  <tbody>\n",
       "    <tr>\n",
       "      <th>0</th>\n",
       "      <td>Ohio</td>\n",
       "      <td>2000</td>\n",
       "      <td>1.5</td>\n",
       "    </tr>\n",
       "    <tr>\n",
       "      <th>1</th>\n",
       "      <td>Ohio</td>\n",
       "      <td>2001</td>\n",
       "      <td>1.7</td>\n",
       "    </tr>\n",
       "    <tr>\n",
       "      <th>2</th>\n",
       "      <td>Ohio</td>\n",
       "      <td>2002</td>\n",
       "      <td>3.6</td>\n",
       "    </tr>\n",
       "    <tr>\n",
       "      <th>3</th>\n",
       "      <td>Nevada</td>\n",
       "      <td>2001</td>\n",
       "      <td>2.4</td>\n",
       "    </tr>\n",
       "    <tr>\n",
       "      <th>4</th>\n",
       "      <td>Nevada</td>\n",
       "      <td>2002</td>\n",
       "      <td>2.9</td>\n",
       "    </tr>\n",
       "    <tr>\n",
       "      <th>5</th>\n",
       "      <td>Nevada</td>\n",
       "      <td>2003</td>\n",
       "      <td>3.2</td>\n",
       "    </tr>\n",
       "  </tbody>\n",
       "</table>\n",
       "</div>"
      ],
      "text/plain": [
       "    state  year  pop\n",
       "0    Ohio  2000  1.5\n",
       "1    Ohio  2001  1.7\n",
       "2    Ohio  2002  3.6\n",
       "3  Nevada  2001  2.4\n",
       "4  Nevada  2002  2.9\n",
       "5  Nevada  2003  3.2"
      ]
     },
     "execution_count": 40,
     "metadata": {},
     "output_type": "execute_result"
    }
   ],
   "source": [
    "frame"
   ]
  },
  {
   "cell_type": "code",
   "execution_count": 41,
   "metadata": {},
   "outputs": [
    {
     "data": {
      "text/html": [
       "<div>\n",
       "<style scoped>\n",
       "    .dataframe tbody tr th:only-of-type {\n",
       "        vertical-align: middle;\n",
       "    }\n",
       "\n",
       "    .dataframe tbody tr th {\n",
       "        vertical-align: top;\n",
       "    }\n",
       "\n",
       "    .dataframe thead th {\n",
       "        text-align: right;\n",
       "    }\n",
       "</style>\n",
       "<table border=\"1\" class=\"dataframe\">\n",
       "  <thead>\n",
       "    <tr style=\"text-align: right;\">\n",
       "      <th></th>\n",
       "      <th>state</th>\n",
       "      <th>year</th>\n",
       "      <th>pop</th>\n",
       "    </tr>\n",
       "  </thead>\n",
       "  <tbody>\n",
       "    <tr>\n",
       "      <th>0</th>\n",
       "      <td>Ohio</td>\n",
       "      <td>2000</td>\n",
       "      <td>1.5</td>\n",
       "    </tr>\n",
       "    <tr>\n",
       "      <th>1</th>\n",
       "      <td>Ohio</td>\n",
       "      <td>2001</td>\n",
       "      <td>1.7</td>\n",
       "    </tr>\n",
       "    <tr>\n",
       "      <th>2</th>\n",
       "      <td>Ohio</td>\n",
       "      <td>2002</td>\n",
       "      <td>3.6</td>\n",
       "    </tr>\n",
       "    <tr>\n",
       "      <th>3</th>\n",
       "      <td>Nevada</td>\n",
       "      <td>2001</td>\n",
       "      <td>2.4</td>\n",
       "    </tr>\n",
       "    <tr>\n",
       "      <th>4</th>\n",
       "      <td>Nevada</td>\n",
       "      <td>2002</td>\n",
       "      <td>2.9</td>\n",
       "    </tr>\n",
       "  </tbody>\n",
       "</table>\n",
       "</div>"
      ],
      "text/plain": [
       "    state  year  pop\n",
       "0    Ohio  2000  1.5\n",
       "1    Ohio  2001  1.7\n",
       "2    Ohio  2002  3.6\n",
       "3  Nevada  2001  2.4\n",
       "4  Nevada  2002  2.9"
      ]
     },
     "execution_count": 41,
     "metadata": {},
     "output_type": "execute_result"
    }
   ],
   "source": [
    "# For large DataFrames, the head method selects only the first five rows:\n",
    "frame.head()"
   ]
  },
  {
   "cell_type": "code",
   "execution_count": 42,
   "metadata": {},
   "outputs": [
    {
     "data": {
      "text/html": [
       "<div>\n",
       "<style scoped>\n",
       "    .dataframe tbody tr th:only-of-type {\n",
       "        vertical-align: middle;\n",
       "    }\n",
       "\n",
       "    .dataframe tbody tr th {\n",
       "        vertical-align: top;\n",
       "    }\n",
       "\n",
       "    .dataframe thead th {\n",
       "        text-align: right;\n",
       "    }\n",
       "</style>\n",
       "<table border=\"1\" class=\"dataframe\">\n",
       "  <thead>\n",
       "    <tr style=\"text-align: right;\">\n",
       "      <th></th>\n",
       "      <th>year</th>\n",
       "      <th>state</th>\n",
       "      <th>pop</th>\n",
       "    </tr>\n",
       "  </thead>\n",
       "  <tbody>\n",
       "    <tr>\n",
       "      <th>0</th>\n",
       "      <td>2000</td>\n",
       "      <td>Ohio</td>\n",
       "      <td>1.5</td>\n",
       "    </tr>\n",
       "    <tr>\n",
       "      <th>1</th>\n",
       "      <td>2001</td>\n",
       "      <td>Ohio</td>\n",
       "      <td>1.7</td>\n",
       "    </tr>\n",
       "    <tr>\n",
       "      <th>2</th>\n",
       "      <td>2002</td>\n",
       "      <td>Ohio</td>\n",
       "      <td>3.6</td>\n",
       "    </tr>\n",
       "    <tr>\n",
       "      <th>3</th>\n",
       "      <td>2001</td>\n",
       "      <td>Nevada</td>\n",
       "      <td>2.4</td>\n",
       "    </tr>\n",
       "    <tr>\n",
       "      <th>4</th>\n",
       "      <td>2002</td>\n",
       "      <td>Nevada</td>\n",
       "      <td>2.9</td>\n",
       "    </tr>\n",
       "    <tr>\n",
       "      <th>5</th>\n",
       "      <td>2003</td>\n",
       "      <td>Nevada</td>\n",
       "      <td>3.2</td>\n",
       "    </tr>\n",
       "  </tbody>\n",
       "</table>\n",
       "</div>"
      ],
      "text/plain": [
       "   year   state  pop\n",
       "0  2000    Ohio  1.5\n",
       "1  2001    Ohio  1.7\n",
       "2  2002    Ohio  3.6\n",
       "3  2001  Nevada  2.4\n",
       "4  2002  Nevada  2.9\n",
       "5  2003  Nevada  3.2"
      ]
     },
     "execution_count": 42,
     "metadata": {},
     "output_type": "execute_result"
    }
   ],
   "source": [
    "# If you specify a sequence of columns, the DataFrame’s columns will be arranged in that order:\n",
    "pd.DataFrame(data, columns=['year', 'state', 'pop'])"
   ]
  },
  {
   "cell_type": "code",
   "execution_count": 43,
   "metadata": {},
   "outputs": [
    {
     "data": {
      "text/html": [
       "<div>\n",
       "<style scoped>\n",
       "    .dataframe tbody tr th:only-of-type {\n",
       "        vertical-align: middle;\n",
       "    }\n",
       "\n",
       "    .dataframe tbody tr th {\n",
       "        vertical-align: top;\n",
       "    }\n",
       "\n",
       "    .dataframe thead th {\n",
       "        text-align: right;\n",
       "    }\n",
       "</style>\n",
       "<table border=\"1\" class=\"dataframe\">\n",
       "  <thead>\n",
       "    <tr style=\"text-align: right;\">\n",
       "      <th></th>\n",
       "      <th>pop</th>\n",
       "      <th>year</th>\n",
       "      <th>state</th>\n",
       "    </tr>\n",
       "  </thead>\n",
       "  <tbody>\n",
       "    <tr>\n",
       "      <th>0</th>\n",
       "      <td>1.5</td>\n",
       "      <td>2000</td>\n",
       "      <td>Ohio</td>\n",
       "    </tr>\n",
       "    <tr>\n",
       "      <th>1</th>\n",
       "      <td>1.7</td>\n",
       "      <td>2001</td>\n",
       "      <td>Ohio</td>\n",
       "    </tr>\n",
       "    <tr>\n",
       "      <th>2</th>\n",
       "      <td>3.6</td>\n",
       "      <td>2002</td>\n",
       "      <td>Ohio</td>\n",
       "    </tr>\n",
       "    <tr>\n",
       "      <th>3</th>\n",
       "      <td>2.4</td>\n",
       "      <td>2001</td>\n",
       "      <td>Nevada</td>\n",
       "    </tr>\n",
       "    <tr>\n",
       "      <th>4</th>\n",
       "      <td>2.9</td>\n",
       "      <td>2002</td>\n",
       "      <td>Nevada</td>\n",
       "    </tr>\n",
       "    <tr>\n",
       "      <th>5</th>\n",
       "      <td>3.2</td>\n",
       "      <td>2003</td>\n",
       "      <td>Nevada</td>\n",
       "    </tr>\n",
       "  </tbody>\n",
       "</table>\n",
       "</div>"
      ],
      "text/plain": [
       "   pop  year   state\n",
       "0  1.5  2000    Ohio\n",
       "1  1.7  2001    Ohio\n",
       "2  3.6  2002    Ohio\n",
       "3  2.4  2001  Nevada\n",
       "4  2.9  2002  Nevada\n",
       "5  3.2  2003  Nevada"
      ]
     },
     "execution_count": 43,
     "metadata": {},
     "output_type": "execute_result"
    }
   ],
   "source": [
    "pd.DataFrame(data, columns=['pop', 'year', 'state'])"
   ]
  },
  {
   "cell_type": "code",
   "execution_count": 44,
   "metadata": {},
   "outputs": [],
   "source": [
    "# If you pass a column that isn’t contained in the dict,\n",
    "# it will appear with missing values in the result:\n",
    "frame2 = pd.DataFrame(data, columns=['year', 'state', 'pop', 'debt'],\n",
    "                      index=['one', 'two', 'three', 'four','five', 'six'])"
   ]
  },
  {
   "cell_type": "code",
   "execution_count": 45,
   "metadata": {},
   "outputs": [
    {
     "data": {
      "text/html": [
       "<div>\n",
       "<style scoped>\n",
       "    .dataframe tbody tr th:only-of-type {\n",
       "        vertical-align: middle;\n",
       "    }\n",
       "\n",
       "    .dataframe tbody tr th {\n",
       "        vertical-align: top;\n",
       "    }\n",
       "\n",
       "    .dataframe thead th {\n",
       "        text-align: right;\n",
       "    }\n",
       "</style>\n",
       "<table border=\"1\" class=\"dataframe\">\n",
       "  <thead>\n",
       "    <tr style=\"text-align: right;\">\n",
       "      <th></th>\n",
       "      <th>year</th>\n",
       "      <th>state</th>\n",
       "      <th>pop</th>\n",
       "      <th>debt</th>\n",
       "    </tr>\n",
       "  </thead>\n",
       "  <tbody>\n",
       "    <tr>\n",
       "      <th>one</th>\n",
       "      <td>2000</td>\n",
       "      <td>Ohio</td>\n",
       "      <td>1.5</td>\n",
       "      <td>NaN</td>\n",
       "    </tr>\n",
       "    <tr>\n",
       "      <th>two</th>\n",
       "      <td>2001</td>\n",
       "      <td>Ohio</td>\n",
       "      <td>1.7</td>\n",
       "      <td>NaN</td>\n",
       "    </tr>\n",
       "    <tr>\n",
       "      <th>three</th>\n",
       "      <td>2002</td>\n",
       "      <td>Ohio</td>\n",
       "      <td>3.6</td>\n",
       "      <td>NaN</td>\n",
       "    </tr>\n",
       "    <tr>\n",
       "      <th>four</th>\n",
       "      <td>2001</td>\n",
       "      <td>Nevada</td>\n",
       "      <td>2.4</td>\n",
       "      <td>NaN</td>\n",
       "    </tr>\n",
       "    <tr>\n",
       "      <th>five</th>\n",
       "      <td>2002</td>\n",
       "      <td>Nevada</td>\n",
       "      <td>2.9</td>\n",
       "      <td>NaN</td>\n",
       "    </tr>\n",
       "    <tr>\n",
       "      <th>six</th>\n",
       "      <td>2003</td>\n",
       "      <td>Nevada</td>\n",
       "      <td>3.2</td>\n",
       "      <td>NaN</td>\n",
       "    </tr>\n",
       "  </tbody>\n",
       "</table>\n",
       "</div>"
      ],
      "text/plain": [
       "       year   state  pop debt\n",
       "one    2000    Ohio  1.5  NaN\n",
       "two    2001    Ohio  1.7  NaN\n",
       "three  2002    Ohio  3.6  NaN\n",
       "four   2001  Nevada  2.4  NaN\n",
       "five   2002  Nevada  2.9  NaN\n",
       "six    2003  Nevada  3.2  NaN"
      ]
     },
     "execution_count": 45,
     "metadata": {},
     "output_type": "execute_result"
    }
   ],
   "source": [
    "frame2"
   ]
  },
  {
   "cell_type": "code",
   "execution_count": 46,
   "metadata": {},
   "outputs": [
    {
     "data": {
      "text/plain": [
       "one        Ohio\n",
       "two        Ohio\n",
       "three      Ohio\n",
       "four     Nevada\n",
       "five     Nevada\n",
       "six      Nevada\n",
       "Name: state, dtype: object"
      ]
     },
     "execution_count": 46,
     "metadata": {},
     "output_type": "execute_result"
    }
   ],
   "source": [
    "# A column in a DataFrame can be retrieved as a Series \n",
    "# either by dict-like notation or by attribute:\n",
    "frame2['state']"
   ]
  },
  {
   "cell_type": "code",
   "execution_count": 47,
   "metadata": {},
   "outputs": [
    {
     "data": {
      "text/plain": [
       "one      2000\n",
       "two      2001\n",
       "three    2002\n",
       "four     2001\n",
       "five     2002\n",
       "six      2003\n",
       "Name: year, dtype: int64"
      ]
     },
     "execution_count": 47,
     "metadata": {},
     "output_type": "execute_result"
    }
   ],
   "source": [
    "frame2.year"
   ]
  },
  {
   "cell_type": "code",
   "execution_count": 48,
   "metadata": {},
   "outputs": [
    {
     "data": {
      "text/plain": [
       "Index(['year', 'state', 'pop', 'debt'], dtype='object')"
      ]
     },
     "execution_count": 48,
     "metadata": {},
     "output_type": "execute_result"
    }
   ],
   "source": [
    "# retrieving the whole columns\n",
    "frame2.columns"
   ]
  },
  {
   "cell_type": "code",
   "execution_count": 49,
   "metadata": {},
   "outputs": [
    {
     "data": {
      "text/plain": [
       "year     2002\n",
       "state    Ohio\n",
       "pop       3.6\n",
       "debt      NaN\n",
       "Name: three, dtype: object"
      ]
     },
     "execution_count": 49,
     "metadata": {},
     "output_type": "execute_result"
    }
   ],
   "source": [
    "# Rows can also be retrieved by position or name with the special loc attribute\n",
    "frame2.loc['three']"
   ]
  },
  {
   "cell_type": "code",
   "execution_count": 50,
   "metadata": {},
   "outputs": [],
   "source": [
    "# Columns can be modified by assignment.\n",
    "# For example, the empty 'debt' column could be assigned a scalar value or an array of values:\n",
    "frame2['debt'] = 16.5"
   ]
  },
  {
   "cell_type": "code",
   "execution_count": 51,
   "metadata": {},
   "outputs": [],
   "source": [
    "frame2['debt'] = np.arange(6.)"
   ]
  },
  {
   "cell_type": "code",
   "execution_count": 52,
   "metadata": {},
   "outputs": [
    {
     "data": {
      "text/html": [
       "<div>\n",
       "<style scoped>\n",
       "    .dataframe tbody tr th:only-of-type {\n",
       "        vertical-align: middle;\n",
       "    }\n",
       "\n",
       "    .dataframe tbody tr th {\n",
       "        vertical-align: top;\n",
       "    }\n",
       "\n",
       "    .dataframe thead th {\n",
       "        text-align: right;\n",
       "    }\n",
       "</style>\n",
       "<table border=\"1\" class=\"dataframe\">\n",
       "  <thead>\n",
       "    <tr style=\"text-align: right;\">\n",
       "      <th></th>\n",
       "      <th>year</th>\n",
       "      <th>state</th>\n",
       "      <th>pop</th>\n",
       "      <th>debt</th>\n",
       "    </tr>\n",
       "  </thead>\n",
       "  <tbody>\n",
       "    <tr>\n",
       "      <th>one</th>\n",
       "      <td>2000</td>\n",
       "      <td>Ohio</td>\n",
       "      <td>1.5</td>\n",
       "      <td>0.0</td>\n",
       "    </tr>\n",
       "    <tr>\n",
       "      <th>two</th>\n",
       "      <td>2001</td>\n",
       "      <td>Ohio</td>\n",
       "      <td>1.7</td>\n",
       "      <td>1.0</td>\n",
       "    </tr>\n",
       "    <tr>\n",
       "      <th>three</th>\n",
       "      <td>2002</td>\n",
       "      <td>Ohio</td>\n",
       "      <td>3.6</td>\n",
       "      <td>2.0</td>\n",
       "    </tr>\n",
       "    <tr>\n",
       "      <th>four</th>\n",
       "      <td>2001</td>\n",
       "      <td>Nevada</td>\n",
       "      <td>2.4</td>\n",
       "      <td>3.0</td>\n",
       "    </tr>\n",
       "    <tr>\n",
       "      <th>five</th>\n",
       "      <td>2002</td>\n",
       "      <td>Nevada</td>\n",
       "      <td>2.9</td>\n",
       "      <td>4.0</td>\n",
       "    </tr>\n",
       "    <tr>\n",
       "      <th>six</th>\n",
       "      <td>2003</td>\n",
       "      <td>Nevada</td>\n",
       "      <td>3.2</td>\n",
       "      <td>5.0</td>\n",
       "    </tr>\n",
       "  </tbody>\n",
       "</table>\n",
       "</div>"
      ],
      "text/plain": [
       "       year   state  pop  debt\n",
       "one    2000    Ohio  1.5   0.0\n",
       "two    2001    Ohio  1.7   1.0\n",
       "three  2002    Ohio  3.6   2.0\n",
       "four   2001  Nevada  2.4   3.0\n",
       "five   2002  Nevada  2.9   4.0\n",
       "six    2003  Nevada  3.2   5.0"
      ]
     },
     "execution_count": 52,
     "metadata": {},
     "output_type": "execute_result"
    }
   ],
   "source": [
    "frame2"
   ]
  },
  {
   "cell_type": "code",
   "execution_count": 53,
   "metadata": {},
   "outputs": [],
   "source": [
    "# When you are assigning lists or arrays to a column,\n",
    "# the value’s length must match the length of the DataFrame.\n",
    "# If you assign a Series, its labels will be realigned exactly to the DataFrame’s index,\n",
    "# inserting missing values in any holes:\n",
    "val = pd.Series([-1.2, -1.5, -1.7], index=['two', 'four', 'five'])"
   ]
  },
  {
   "cell_type": "code",
   "execution_count": 54,
   "metadata": {},
   "outputs": [],
   "source": [
    "frame2['debt'] = val"
   ]
  },
  {
   "cell_type": "code",
   "execution_count": 55,
   "metadata": {},
   "outputs": [
    {
     "data": {
      "text/html": [
       "<div>\n",
       "<style scoped>\n",
       "    .dataframe tbody tr th:only-of-type {\n",
       "        vertical-align: middle;\n",
       "    }\n",
       "\n",
       "    .dataframe tbody tr th {\n",
       "        vertical-align: top;\n",
       "    }\n",
       "\n",
       "    .dataframe thead th {\n",
       "        text-align: right;\n",
       "    }\n",
       "</style>\n",
       "<table border=\"1\" class=\"dataframe\">\n",
       "  <thead>\n",
       "    <tr style=\"text-align: right;\">\n",
       "      <th></th>\n",
       "      <th>year</th>\n",
       "      <th>state</th>\n",
       "      <th>pop</th>\n",
       "      <th>debt</th>\n",
       "    </tr>\n",
       "  </thead>\n",
       "  <tbody>\n",
       "    <tr>\n",
       "      <th>one</th>\n",
       "      <td>2000</td>\n",
       "      <td>Ohio</td>\n",
       "      <td>1.5</td>\n",
       "      <td>NaN</td>\n",
       "    </tr>\n",
       "    <tr>\n",
       "      <th>two</th>\n",
       "      <td>2001</td>\n",
       "      <td>Ohio</td>\n",
       "      <td>1.7</td>\n",
       "      <td>-1.2</td>\n",
       "    </tr>\n",
       "    <tr>\n",
       "      <th>three</th>\n",
       "      <td>2002</td>\n",
       "      <td>Ohio</td>\n",
       "      <td>3.6</td>\n",
       "      <td>NaN</td>\n",
       "    </tr>\n",
       "    <tr>\n",
       "      <th>four</th>\n",
       "      <td>2001</td>\n",
       "      <td>Nevada</td>\n",
       "      <td>2.4</td>\n",
       "      <td>-1.5</td>\n",
       "    </tr>\n",
       "    <tr>\n",
       "      <th>five</th>\n",
       "      <td>2002</td>\n",
       "      <td>Nevada</td>\n",
       "      <td>2.9</td>\n",
       "      <td>-1.7</td>\n",
       "    </tr>\n",
       "    <tr>\n",
       "      <th>six</th>\n",
       "      <td>2003</td>\n",
       "      <td>Nevada</td>\n",
       "      <td>3.2</td>\n",
       "      <td>NaN</td>\n",
       "    </tr>\n",
       "  </tbody>\n",
       "</table>\n",
       "</div>"
      ],
      "text/plain": [
       "       year   state  pop  debt\n",
       "one    2000    Ohio  1.5   NaN\n",
       "two    2001    Ohio  1.7  -1.2\n",
       "three  2002    Ohio  3.6   NaN\n",
       "four   2001  Nevada  2.4  -1.5\n",
       "five   2002  Nevada  2.9  -1.7\n",
       "six    2003  Nevada  3.2   NaN"
      ]
     },
     "execution_count": 55,
     "metadata": {},
     "output_type": "execute_result"
    }
   ],
   "source": [
    "frame2"
   ]
  },
  {
   "cell_type": "code",
   "execution_count": 56,
   "metadata": {},
   "outputs": [],
   "source": [
    "# Assigning a column that doesn’t exist will create a new column.\n",
    "# The del keyword will delete columns as with a dict.\n",
    "# As an example of del, I first add a new column of boolean values\n",
    "# where the state column equals 'Ohio':\n",
    "frame2['eastern'] = frame2.state == 'Ohio'"
   ]
  },
  {
   "cell_type": "code",
   "execution_count": 57,
   "metadata": {},
   "outputs": [
    {
     "data": {
      "text/html": [
       "<div>\n",
       "<style scoped>\n",
       "    .dataframe tbody tr th:only-of-type {\n",
       "        vertical-align: middle;\n",
       "    }\n",
       "\n",
       "    .dataframe tbody tr th {\n",
       "        vertical-align: top;\n",
       "    }\n",
       "\n",
       "    .dataframe thead th {\n",
       "        text-align: right;\n",
       "    }\n",
       "</style>\n",
       "<table border=\"1\" class=\"dataframe\">\n",
       "  <thead>\n",
       "    <tr style=\"text-align: right;\">\n",
       "      <th></th>\n",
       "      <th>year</th>\n",
       "      <th>state</th>\n",
       "      <th>pop</th>\n",
       "      <th>debt</th>\n",
       "      <th>eastern</th>\n",
       "    </tr>\n",
       "  </thead>\n",
       "  <tbody>\n",
       "    <tr>\n",
       "      <th>one</th>\n",
       "      <td>2000</td>\n",
       "      <td>Ohio</td>\n",
       "      <td>1.5</td>\n",
       "      <td>NaN</td>\n",
       "      <td>True</td>\n",
       "    </tr>\n",
       "    <tr>\n",
       "      <th>two</th>\n",
       "      <td>2001</td>\n",
       "      <td>Ohio</td>\n",
       "      <td>1.7</td>\n",
       "      <td>-1.2</td>\n",
       "      <td>True</td>\n",
       "    </tr>\n",
       "    <tr>\n",
       "      <th>three</th>\n",
       "      <td>2002</td>\n",
       "      <td>Ohio</td>\n",
       "      <td>3.6</td>\n",
       "      <td>NaN</td>\n",
       "      <td>True</td>\n",
       "    </tr>\n",
       "    <tr>\n",
       "      <th>four</th>\n",
       "      <td>2001</td>\n",
       "      <td>Nevada</td>\n",
       "      <td>2.4</td>\n",
       "      <td>-1.5</td>\n",
       "      <td>False</td>\n",
       "    </tr>\n",
       "    <tr>\n",
       "      <th>five</th>\n",
       "      <td>2002</td>\n",
       "      <td>Nevada</td>\n",
       "      <td>2.9</td>\n",
       "      <td>-1.7</td>\n",
       "      <td>False</td>\n",
       "    </tr>\n",
       "    <tr>\n",
       "      <th>six</th>\n",
       "      <td>2003</td>\n",
       "      <td>Nevada</td>\n",
       "      <td>3.2</td>\n",
       "      <td>NaN</td>\n",
       "      <td>False</td>\n",
       "    </tr>\n",
       "  </tbody>\n",
       "</table>\n",
       "</div>"
      ],
      "text/plain": [
       "       year   state  pop  debt  eastern\n",
       "one    2000    Ohio  1.5   NaN     True\n",
       "two    2001    Ohio  1.7  -1.2     True\n",
       "three  2002    Ohio  3.6   NaN     True\n",
       "four   2001  Nevada  2.4  -1.5    False\n",
       "five   2002  Nevada  2.9  -1.7    False\n",
       "six    2003  Nevada  3.2   NaN    False"
      ]
     },
     "execution_count": 57,
     "metadata": {},
     "output_type": "execute_result"
    }
   ],
   "source": [
    "frame2"
   ]
  },
  {
   "cell_type": "code",
   "execution_count": 58,
   "metadata": {},
   "outputs": [],
   "source": [
    "# NOTE: New columns cannot be created with the frame2.eastern syntax."
   ]
  },
  {
   "cell_type": "code",
   "execution_count": 59,
   "metadata": {},
   "outputs": [],
   "source": [
    "# The del method can then be used to remove this column:\n",
    "del frame2['eastern']"
   ]
  },
  {
   "cell_type": "code",
   "execution_count": 60,
   "metadata": {},
   "outputs": [
    {
     "data": {
      "text/html": [
       "<div>\n",
       "<style scoped>\n",
       "    .dataframe tbody tr th:only-of-type {\n",
       "        vertical-align: middle;\n",
       "    }\n",
       "\n",
       "    .dataframe tbody tr th {\n",
       "        vertical-align: top;\n",
       "    }\n",
       "\n",
       "    .dataframe thead th {\n",
       "        text-align: right;\n",
       "    }\n",
       "</style>\n",
       "<table border=\"1\" class=\"dataframe\">\n",
       "  <thead>\n",
       "    <tr style=\"text-align: right;\">\n",
       "      <th></th>\n",
       "      <th>year</th>\n",
       "      <th>state</th>\n",
       "      <th>pop</th>\n",
       "      <th>debt</th>\n",
       "    </tr>\n",
       "  </thead>\n",
       "  <tbody>\n",
       "    <tr>\n",
       "      <th>one</th>\n",
       "      <td>2000</td>\n",
       "      <td>Ohio</td>\n",
       "      <td>1.5</td>\n",
       "      <td>NaN</td>\n",
       "    </tr>\n",
       "    <tr>\n",
       "      <th>two</th>\n",
       "      <td>2001</td>\n",
       "      <td>Ohio</td>\n",
       "      <td>1.7</td>\n",
       "      <td>-1.2</td>\n",
       "    </tr>\n",
       "    <tr>\n",
       "      <th>three</th>\n",
       "      <td>2002</td>\n",
       "      <td>Ohio</td>\n",
       "      <td>3.6</td>\n",
       "      <td>NaN</td>\n",
       "    </tr>\n",
       "    <tr>\n",
       "      <th>four</th>\n",
       "      <td>2001</td>\n",
       "      <td>Nevada</td>\n",
       "      <td>2.4</td>\n",
       "      <td>-1.5</td>\n",
       "    </tr>\n",
       "    <tr>\n",
       "      <th>five</th>\n",
       "      <td>2002</td>\n",
       "      <td>Nevada</td>\n",
       "      <td>2.9</td>\n",
       "      <td>-1.7</td>\n",
       "    </tr>\n",
       "    <tr>\n",
       "      <th>six</th>\n",
       "      <td>2003</td>\n",
       "      <td>Nevada</td>\n",
       "      <td>3.2</td>\n",
       "      <td>NaN</td>\n",
       "    </tr>\n",
       "  </tbody>\n",
       "</table>\n",
       "</div>"
      ],
      "text/plain": [
       "       year   state  pop  debt\n",
       "one    2000    Ohio  1.5   NaN\n",
       "two    2001    Ohio  1.7  -1.2\n",
       "three  2002    Ohio  3.6   NaN\n",
       "four   2001  Nevada  2.4  -1.5\n",
       "five   2002  Nevada  2.9  -1.7\n",
       "six    2003  Nevada  3.2   NaN"
      ]
     },
     "execution_count": 60,
     "metadata": {},
     "output_type": "execute_result"
    }
   ],
   "source": [
    "frame2"
   ]
  },
  {
   "cell_type": "code",
   "execution_count": 61,
   "metadata": {},
   "outputs": [],
   "source": [
    "# Another common form of data is a nested dict of dicts:\n",
    "pop = {\n",
    "    'Nevada': { 2001: 2.4, 2002: 2.9 },\n",
    "    'Ohio': { 2000: 1.5, 2001: 1.7, 2002: 3.6 }\n",
    "}\n",
    "# If the nested dict is passed to the DataFrame,\n",
    "# pandas will interpret the outer dict keys as the columns\n",
    "# and the inner keys as the row indices:\n",
    "frame3 = pd.DataFrame(pop)"
   ]
  },
  {
   "cell_type": "code",
   "execution_count": 62,
   "metadata": {},
   "outputs": [
    {
     "data": {
      "text/html": [
       "<div>\n",
       "<style scoped>\n",
       "    .dataframe tbody tr th:only-of-type {\n",
       "        vertical-align: middle;\n",
       "    }\n",
       "\n",
       "    .dataframe tbody tr th {\n",
       "        vertical-align: top;\n",
       "    }\n",
       "\n",
       "    .dataframe thead th {\n",
       "        text-align: right;\n",
       "    }\n",
       "</style>\n",
       "<table border=\"1\" class=\"dataframe\">\n",
       "  <thead>\n",
       "    <tr style=\"text-align: right;\">\n",
       "      <th></th>\n",
       "      <th>Nevada</th>\n",
       "      <th>Ohio</th>\n",
       "    </tr>\n",
       "  </thead>\n",
       "  <tbody>\n",
       "    <tr>\n",
       "      <th>2001</th>\n",
       "      <td>2.4</td>\n",
       "      <td>1.7</td>\n",
       "    </tr>\n",
       "    <tr>\n",
       "      <th>2002</th>\n",
       "      <td>2.9</td>\n",
       "      <td>3.6</td>\n",
       "    </tr>\n",
       "    <tr>\n",
       "      <th>2000</th>\n",
       "      <td>NaN</td>\n",
       "      <td>1.5</td>\n",
       "    </tr>\n",
       "  </tbody>\n",
       "</table>\n",
       "</div>"
      ],
      "text/plain": [
       "      Nevada  Ohio\n",
       "2001     2.4   1.7\n",
       "2002     2.9   3.6\n",
       "2000     NaN   1.5"
      ]
     },
     "execution_count": 62,
     "metadata": {},
     "output_type": "execute_result"
    }
   ],
   "source": [
    "frame3"
   ]
  },
  {
   "cell_type": "code",
   "execution_count": 63,
   "metadata": {},
   "outputs": [
    {
     "data": {
      "text/html": [
       "<div>\n",
       "<style scoped>\n",
       "    .dataframe tbody tr th:only-of-type {\n",
       "        vertical-align: middle;\n",
       "    }\n",
       "\n",
       "    .dataframe tbody tr th {\n",
       "        vertical-align: top;\n",
       "    }\n",
       "\n",
       "    .dataframe thead th {\n",
       "        text-align: right;\n",
       "    }\n",
       "</style>\n",
       "<table border=\"1\" class=\"dataframe\">\n",
       "  <thead>\n",
       "    <tr style=\"text-align: right;\">\n",
       "      <th></th>\n",
       "      <th>2001</th>\n",
       "      <th>2002</th>\n",
       "      <th>2000</th>\n",
       "    </tr>\n",
       "  </thead>\n",
       "  <tbody>\n",
       "    <tr>\n",
       "      <th>Nevada</th>\n",
       "      <td>2.4</td>\n",
       "      <td>2.9</td>\n",
       "      <td>NaN</td>\n",
       "    </tr>\n",
       "    <tr>\n",
       "      <th>Ohio</th>\n",
       "      <td>1.7</td>\n",
       "      <td>3.6</td>\n",
       "      <td>1.5</td>\n",
       "    </tr>\n",
       "  </tbody>\n",
       "</table>\n",
       "</div>"
      ],
      "text/plain": [
       "        2001  2002  2000\n",
       "Nevada   2.4   2.9   NaN\n",
       "Ohio     1.7   3.6   1.5"
      ]
     },
     "execution_count": 63,
     "metadata": {},
     "output_type": "execute_result"
    }
   ],
   "source": [
    "# You can transpose the DataFrame (swap rows and columns) with similar syntax to a NumPy array:\n",
    "frame3.T"
   ]
  },
  {
   "cell_type": "code",
   "execution_count": 64,
   "metadata": {},
   "outputs": [],
   "source": [
    "pdata = {\n",
    "    'Ohio': frame3['Ohio'][:-1],\n",
    "    'Nevada': frame3['Nevada'][:2]\n",
    "}"
   ]
  },
  {
   "cell_type": "code",
   "execution_count": 65,
   "metadata": {},
   "outputs": [
    {
     "data": {
      "text/html": [
       "<div>\n",
       "<style scoped>\n",
       "    .dataframe tbody tr th:only-of-type {\n",
       "        vertical-align: middle;\n",
       "    }\n",
       "\n",
       "    .dataframe tbody tr th {\n",
       "        vertical-align: top;\n",
       "    }\n",
       "\n",
       "    .dataframe thead th {\n",
       "        text-align: right;\n",
       "    }\n",
       "</style>\n",
       "<table border=\"1\" class=\"dataframe\">\n",
       "  <thead>\n",
       "    <tr style=\"text-align: right;\">\n",
       "      <th></th>\n",
       "      <th>Ohio</th>\n",
       "      <th>Nevada</th>\n",
       "    </tr>\n",
       "  </thead>\n",
       "  <tbody>\n",
       "    <tr>\n",
       "      <th>2001</th>\n",
       "      <td>1.7</td>\n",
       "      <td>2.4</td>\n",
       "    </tr>\n",
       "    <tr>\n",
       "      <th>2002</th>\n",
       "      <td>3.6</td>\n",
       "      <td>2.9</td>\n",
       "    </tr>\n",
       "  </tbody>\n",
       "</table>\n",
       "</div>"
      ],
      "text/plain": [
       "      Ohio  Nevada\n",
       "2001   1.7     2.4\n",
       "2002   3.6     2.9"
      ]
     },
     "execution_count": 65,
     "metadata": {},
     "output_type": "execute_result"
    }
   ],
   "source": [
    "pd.DataFrame(pdata)"
   ]
  },
  {
   "cell_type": "code",
   "execution_count": 66,
   "metadata": {},
   "outputs": [],
   "source": [
    "frame3.index.name = 'year';\n",
    "frame3.columns.name = 'state'"
   ]
  },
  {
   "cell_type": "code",
   "execution_count": 67,
   "metadata": {},
   "outputs": [
    {
     "data": {
      "text/html": [
       "<div>\n",
       "<style scoped>\n",
       "    .dataframe tbody tr th:only-of-type {\n",
       "        vertical-align: middle;\n",
       "    }\n",
       "\n",
       "    .dataframe tbody tr th {\n",
       "        vertical-align: top;\n",
       "    }\n",
       "\n",
       "    .dataframe thead th {\n",
       "        text-align: right;\n",
       "    }\n",
       "</style>\n",
       "<table border=\"1\" class=\"dataframe\">\n",
       "  <thead>\n",
       "    <tr style=\"text-align: right;\">\n",
       "      <th>state</th>\n",
       "      <th>Nevada</th>\n",
       "      <th>Ohio</th>\n",
       "    </tr>\n",
       "    <tr>\n",
       "      <th>year</th>\n",
       "      <th></th>\n",
       "      <th></th>\n",
       "    </tr>\n",
       "  </thead>\n",
       "  <tbody>\n",
       "    <tr>\n",
       "      <th>2001</th>\n",
       "      <td>2.4</td>\n",
       "      <td>1.7</td>\n",
       "    </tr>\n",
       "    <tr>\n",
       "      <th>2002</th>\n",
       "      <td>2.9</td>\n",
       "      <td>3.6</td>\n",
       "    </tr>\n",
       "    <tr>\n",
       "      <th>2000</th>\n",
       "      <td>NaN</td>\n",
       "      <td>1.5</td>\n",
       "    </tr>\n",
       "  </tbody>\n",
       "</table>\n",
       "</div>"
      ],
      "text/plain": [
       "state  Nevada  Ohio\n",
       "year               \n",
       "2001      2.4   1.7\n",
       "2002      2.9   3.6\n",
       "2000      NaN   1.5"
      ]
     },
     "execution_count": 67,
     "metadata": {},
     "output_type": "execute_result"
    }
   ],
   "source": [
    "frame3"
   ]
  },
  {
   "cell_type": "code",
   "execution_count": 68,
   "metadata": {},
   "outputs": [
    {
     "data": {
      "text/plain": [
       "array([[2.4, 1.7],\n",
       "       [2.9, 3.6],\n",
       "       [nan, 1.5]])"
      ]
     },
     "execution_count": 68,
     "metadata": {},
     "output_type": "execute_result"
    }
   ],
   "source": [
    "# As with Series, the values attribute returns the data\n",
    "# contained in the DataFrame as a two-dimensional ndarray:\n",
    "frame3.values"
   ]
  },
  {
   "cell_type": "code",
   "execution_count": 69,
   "metadata": {},
   "outputs": [
    {
     "data": {
      "text/plain": [
       "array([[2000, 'Ohio', 1.5, nan],\n",
       "       [2001, 'Ohio', 1.7, -1.2],\n",
       "       [2002, 'Ohio', 3.6, nan],\n",
       "       [2001, 'Nevada', 2.4, -1.5],\n",
       "       [2002, 'Nevada', 2.9, -1.7],\n",
       "       [2003, 'Nevada', 3.2, nan]], dtype=object)"
      ]
     },
     "execution_count": 69,
     "metadata": {},
     "output_type": "execute_result"
    }
   ],
   "source": [
    "# If the DataFrame’s columns are different dtypes,\n",
    "# the dtype of the values array will be chosen to accommodate all of the columns:\n",
    "frame2.values"
   ]
  },
  {
   "cell_type": "code",
   "execution_count": 70,
   "metadata": {},
   "outputs": [],
   "source": [
    "# Possible data inputs to DataFrame constructor"
   ]
  },
  {
   "cell_type": "code",
   "execution_count": 71,
   "metadata": {},
   "outputs": [
    {
     "data": {
      "text/html": [
       "<div>\n",
       "<style scoped>\n",
       "    .dataframe tbody tr th:only-of-type {\n",
       "        vertical-align: middle;\n",
       "    }\n",
       "\n",
       "    .dataframe tbody tr th {\n",
       "        vertical-align: top;\n",
       "    }\n",
       "\n",
       "    .dataframe thead th {\n",
       "        text-align: right;\n",
       "    }\n",
       "</style>\n",
       "<table border=\"1\" class=\"dataframe\">\n",
       "  <thead>\n",
       "    <tr style=\"text-align: right;\">\n",
       "      <th></th>\n",
       "      <th>a</th>\n",
       "      <th>b</th>\n",
       "      <th>c</th>\n",
       "    </tr>\n",
       "  </thead>\n",
       "  <tbody>\n",
       "    <tr>\n",
       "      <th>0</th>\n",
       "      <td>1</td>\n",
       "      <td>2</td>\n",
       "      <td>3</td>\n",
       "    </tr>\n",
       "    <tr>\n",
       "      <th>1</th>\n",
       "      <td>10</td>\n",
       "      <td>11</td>\n",
       "      <td>12</td>\n",
       "    </tr>\n",
       "  </tbody>\n",
       "</table>\n",
       "</div>"
      ],
      "text/plain": [
       "    a   b   c\n",
       "0   1   2   3\n",
       "1  10  11  12"
      ]
     },
     "execution_count": 71,
     "metadata": {},
     "output_type": "execute_result"
    }
   ],
   "source": [
    "# 1: 2D ndarray\n",
    "arr = np.array([[1,2,3], [10,11,12]])\n",
    "df1 = pd.DataFrame(arr, index=[0,1], columns=['a','b','c'])\n",
    "pd.DataFrame()\n",
    "df1"
   ]
  },
  {
   "cell_type": "code",
   "execution_count": 72,
   "metadata": {},
   "outputs": [],
   "source": [
    "# 2: dict of arrays, lists, or tuples"
   ]
  },
  {
   "cell_type": "code",
   "execution_count": 73,
   "metadata": {},
   "outputs": [
    {
     "data": {
      "text/html": [
       "<div>\n",
       "<style scoped>\n",
       "    .dataframe tbody tr th:only-of-type {\n",
       "        vertical-align: middle;\n",
       "    }\n",
       "\n",
       "    .dataframe tbody tr th {\n",
       "        vertical-align: top;\n",
       "    }\n",
       "\n",
       "    .dataframe thead th {\n",
       "        text-align: right;\n",
       "    }\n",
       "</style>\n",
       "<table border=\"1\" class=\"dataframe\">\n",
       "  <thead>\n",
       "    <tr style=\"text-align: right;\">\n",
       "      <th></th>\n",
       "      <th>months</th>\n",
       "      <th>wieght</th>\n",
       "    </tr>\n",
       "  </thead>\n",
       "  <tbody>\n",
       "    <tr>\n",
       "      <th>1</th>\n",
       "      <td>January</td>\n",
       "      <td>65.0</td>\n",
       "    </tr>\n",
       "    <tr>\n",
       "      <th>2</th>\n",
       "      <td>February</td>\n",
       "      <td>65.2</td>\n",
       "    </tr>\n",
       "    <tr>\n",
       "      <th>3</th>\n",
       "      <td>March</td>\n",
       "      <td>64.8</td>\n",
       "    </tr>\n",
       "    <tr>\n",
       "      <th>4</th>\n",
       "      <td>April</td>\n",
       "      <td>63.0</td>\n",
       "    </tr>\n",
       "    <tr>\n",
       "      <th>5</th>\n",
       "      <td>May</td>\n",
       "      <td>65.0</td>\n",
       "    </tr>\n",
       "    <tr>\n",
       "      <th>6</th>\n",
       "      <td>June</td>\n",
       "      <td>65.9</td>\n",
       "    </tr>\n",
       "    <tr>\n",
       "      <th>7</th>\n",
       "      <td>July</td>\n",
       "      <td>66.3</td>\n",
       "    </tr>\n",
       "    <tr>\n",
       "      <th>8</th>\n",
       "      <td>August</td>\n",
       "      <td>67.8</td>\n",
       "    </tr>\n",
       "    <tr>\n",
       "      <th>9</th>\n",
       "      <td>September</td>\n",
       "      <td>69.6</td>\n",
       "    </tr>\n",
       "    <tr>\n",
       "      <th>10</th>\n",
       "      <td>October</td>\n",
       "      <td>72.0</td>\n",
       "    </tr>\n",
       "    <tr>\n",
       "      <th>11</th>\n",
       "      <td>November</td>\n",
       "      <td>73.8</td>\n",
       "    </tr>\n",
       "    <tr>\n",
       "      <th>12</th>\n",
       "      <td>December</td>\n",
       "      <td>75.0</td>\n",
       "    </tr>\n",
       "  </tbody>\n",
       "</table>\n",
       "</div>"
      ],
      "text/plain": [
       "       months  wieght\n",
       "1     January    65.0\n",
       "2    February    65.2\n",
       "3       March    64.8\n",
       "4       April    63.0\n",
       "5         May    65.0\n",
       "6        June    65.9\n",
       "7        July    66.3\n",
       "8      August    67.8\n",
       "9   September    69.6\n",
       "10    October    72.0\n",
       "11   November    73.8\n",
       "12   December    75.0"
      ]
     },
     "execution_count": 73,
     "metadata": {},
     "output_type": "execute_result"
    }
   ],
   "source": [
    "dict = {\n",
    "    'months': ['January', 'February', 'March', 'April', 'May',  'June', 'July', 'August', 'September', 'October', 'November', 'December'],\n",
    "    'wieght': [65, 65.2, 64.8, 63., 65, 65.9, 66.3, 67.8, 69.6, 72.0, 73.8, 75]\n",
    "}\n",
    "\n",
    "df2 = pd.DataFrame(dict, index=[1, 2, 3, 4, 5, 6, 7, 8, 9, 10, 11, 12])\n",
    "df2"
   ]
  },
  {
   "cell_type": "code",
   "execution_count": 74,
   "metadata": {},
   "outputs": [
    {
     "data": {
      "text/html": [
       "<div>\n",
       "<style scoped>\n",
       "    .dataframe tbody tr th:only-of-type {\n",
       "        vertical-align: middle;\n",
       "    }\n",
       "\n",
       "    .dataframe tbody tr th {\n",
       "        vertical-align: top;\n",
       "    }\n",
       "\n",
       "    .dataframe thead th {\n",
       "        text-align: right;\n",
       "    }\n",
       "</style>\n",
       "<table border=\"1\" class=\"dataframe\">\n",
       "  <thead>\n",
       "    <tr style=\"text-align: right;\">\n",
       "      <th></th>\n",
       "      <th>0</th>\n",
       "      <th>1</th>\n",
       "      <th>2</th>\n",
       "      <th>3</th>\n",
       "      <th>4</th>\n",
       "      <th>5</th>\n",
       "      <th>6</th>\n",
       "      <th>7</th>\n",
       "      <th>8</th>\n",
       "      <th>9</th>\n",
       "      <th>10</th>\n",
       "      <th>11</th>\n",
       "    </tr>\n",
       "  </thead>\n",
       "  <tbody>\n",
       "    <tr>\n",
       "      <th>0</th>\n",
       "      <td>January</td>\n",
       "      <td>February</td>\n",
       "      <td>March</td>\n",
       "      <td>April</td>\n",
       "      <td>May</td>\n",
       "      <td>June</td>\n",
       "      <td>July</td>\n",
       "      <td>August</td>\n",
       "      <td>September</td>\n",
       "      <td>October</td>\n",
       "      <td>November</td>\n",
       "      <td>December</td>\n",
       "    </tr>\n",
       "    <tr>\n",
       "      <th>1</th>\n",
       "      <td>65</td>\n",
       "      <td>65.2</td>\n",
       "      <td>64.8</td>\n",
       "      <td>63</td>\n",
       "      <td>65</td>\n",
       "      <td>65.9</td>\n",
       "      <td>66.3</td>\n",
       "      <td>67.8</td>\n",
       "      <td>69.6</td>\n",
       "      <td>72</td>\n",
       "      <td>73.8</td>\n",
       "      <td>75</td>\n",
       "    </tr>\n",
       "  </tbody>\n",
       "</table>\n",
       "</div>"
      ],
      "text/plain": [
       "        0         1      2      3    4     5     6       7          8   \\\n",
       "0  January  February  March  April  May  June  July  August  September   \n",
       "1       65      65.2   64.8     63   65  65.9  66.3    67.8       69.6   \n",
       "\n",
       "        9         10        11  \n",
       "0  October  November  December  \n",
       "1       72      73.8        75  "
      ]
     },
     "execution_count": 74,
     "metadata": {},
     "output_type": "execute_result"
    }
   ],
   "source": [
    "# Each sequence becomes a column in the DataFrame; all sequences must be the same length\n",
    "lst = [dict['months'], dict['wieght']]\n",
    "df_from_lists = pd.DataFrame(lst)\n",
    "df_from_lists"
   ]
  },
  {
   "cell_type": "code",
   "execution_count": 75,
   "metadata": {},
   "outputs": [],
   "source": [
    "# Index Objects"
   ]
  },
  {
   "cell_type": "code",
   "execution_count": 76,
   "metadata": {},
   "outputs": [],
   "source": [
    "# pandas’s Index objects are responsible for holding the axis labels and other metadata (like the axis name or names).\n",
    "# Any array or other sequence of labels you use when constructing a Series\n",
    "# or DataFrame is internally converted to an Index:"
   ]
  },
  {
   "cell_type": "code",
   "execution_count": 77,
   "metadata": {},
   "outputs": [],
   "source": [
    "obj = pd.Series(range(3), index=['a', 'b', 'c'])"
   ]
  },
  {
   "cell_type": "code",
   "execution_count": 78,
   "metadata": {},
   "outputs": [],
   "source": [
    "index = obj.index"
   ]
  },
  {
   "cell_type": "code",
   "execution_count": 79,
   "metadata": {},
   "outputs": [
    {
     "data": {
      "text/plain": [
       "Index(['a', 'b', 'c'], dtype='object')"
      ]
     },
     "execution_count": 79,
     "metadata": {},
     "output_type": "execute_result"
    }
   ],
   "source": [
    "index"
   ]
  },
  {
   "cell_type": "code",
   "execution_count": 80,
   "metadata": {},
   "outputs": [
    {
     "data": {
      "text/plain": [
       "Index(['b', 'c'], dtype='object')"
      ]
     },
     "execution_count": 80,
     "metadata": {},
     "output_type": "execute_result"
    }
   ],
   "source": [
    "index[1:] # Index can be sliced"
   ]
  },
  {
   "cell_type": "code",
   "execution_count": 81,
   "metadata": {},
   "outputs": [
    {
     "ename": "TypeError",
     "evalue": "Index does not support mutable operations",
     "output_type": "error",
     "traceback": [
      "\u001b[0;31m---------------------------------------------------------------------------\u001b[0m",
      "\u001b[0;31mTypeError\u001b[0m                                 Traceback (most recent call last)",
      "\u001b[0;32m<ipython-input-81-3651974a42c5>\u001b[0m in \u001b[0;36m<module>\u001b[0;34m\u001b[0m\n\u001b[1;32m      1\u001b[0m \u001b[0;31m# Index objects are immutable and thus can’t be modified by the user:\u001b[0m\u001b[0;34m\u001b[0m\u001b[0;34m\u001b[0m\u001b[0;34m\u001b[0m\u001b[0m\n\u001b[0;32m----> 2\u001b[0;31m \u001b[0mindex\u001b[0m\u001b[0;34m[\u001b[0m\u001b[0;36m1\u001b[0m\u001b[0;34m]\u001b[0m \u001b[0;34m=\u001b[0m \u001b[0;34m'd'\u001b[0m \u001b[0;31m# TypeError\u001b[0m\u001b[0;34m\u001b[0m\u001b[0;34m\u001b[0m\u001b[0m\n\u001b[0m",
      "\u001b[0;32m~/opt/anaconda3/lib/python3.8/site-packages/pandas/core/indexes/base.py\u001b[0m in \u001b[0;36m__setitem__\u001b[0;34m(self, key, value)\u001b[0m\n\u001b[1;32m   4079\u001b[0m \u001b[0;34m\u001b[0m\u001b[0m\n\u001b[1;32m   4080\u001b[0m     \u001b[0;32mdef\u001b[0m \u001b[0m__setitem__\u001b[0m\u001b[0;34m(\u001b[0m\u001b[0mself\u001b[0m\u001b[0;34m,\u001b[0m \u001b[0mkey\u001b[0m\u001b[0;34m,\u001b[0m \u001b[0mvalue\u001b[0m\u001b[0;34m)\u001b[0m\u001b[0;34m:\u001b[0m\u001b[0;34m\u001b[0m\u001b[0;34m\u001b[0m\u001b[0m\n\u001b[0;32m-> 4081\u001b[0;31m         \u001b[0;32mraise\u001b[0m \u001b[0mTypeError\u001b[0m\u001b[0;34m(\u001b[0m\u001b[0;34m\"Index does not support mutable operations\"\u001b[0m\u001b[0;34m)\u001b[0m\u001b[0;34m\u001b[0m\u001b[0;34m\u001b[0m\u001b[0m\n\u001b[0m\u001b[1;32m   4082\u001b[0m \u001b[0;34m\u001b[0m\u001b[0m\n\u001b[1;32m   4083\u001b[0m     \u001b[0;32mdef\u001b[0m \u001b[0m__getitem__\u001b[0m\u001b[0;34m(\u001b[0m\u001b[0mself\u001b[0m\u001b[0;34m,\u001b[0m \u001b[0mkey\u001b[0m\u001b[0;34m)\u001b[0m\u001b[0;34m:\u001b[0m\u001b[0;34m\u001b[0m\u001b[0;34m\u001b[0m\u001b[0m\n",
      "\u001b[0;31mTypeError\u001b[0m: Index does not support mutable operations"
     ]
    }
   ],
   "source": [
    "# Index objects are immutable and thus can’t be modified by the user:\n",
    "index[1] = 'd' # TypeError"
   ]
  },
  {
   "cell_type": "code",
   "execution_count": null,
   "metadata": {},
   "outputs": [],
   "source": [
    "# Immutability makes it safer to share Index objects among data structures:\n",
    "labels = pd.Index(np.arange(3.))"
   ]
  },
  {
   "cell_type": "code",
   "execution_count": null,
   "metadata": {},
   "outputs": [],
   "source": [
    "labels"
   ]
  },
  {
   "cell_type": "code",
   "execution_count": null,
   "metadata": {},
   "outputs": [],
   "source": [
    "obj2 = pd.Series([10,20,30], index=labels)"
   ]
  },
  {
   "cell_type": "code",
   "execution_count": null,
   "metadata": {},
   "outputs": [],
   "source": [
    "obj2"
   ]
  },
  {
   "cell_type": "code",
   "execution_count": null,
   "metadata": {},
   "outputs": [],
   "source": [
    "obj2.index is labels"
   ]
  },
  {
   "cell_type": "code",
   "execution_count": null,
   "metadata": {},
   "outputs": [],
   "source": [
    "frame3"
   ]
  },
  {
   "cell_type": "code",
   "execution_count": null,
   "metadata": {},
   "outputs": [],
   "source": [
    "# In addition to being array-like, an Index also behaves like a fixed-size set:\n",
    "frame3.columns"
   ]
  },
  {
   "cell_type": "code",
   "execution_count": 82,
   "metadata": {},
   "outputs": [
    {
     "data": {
      "text/plain": [
       "True"
      ]
     },
     "execution_count": 82,
     "metadata": {},
     "output_type": "execute_result"
    }
   ],
   "source": [
    "'Ohio' in frame3.columns"
   ]
  },
  {
   "cell_type": "code",
   "execution_count": 83,
   "metadata": {},
   "outputs": [
    {
     "data": {
      "text/plain": [
       "False"
      ]
     },
     "execution_count": 83,
     "metadata": {},
     "output_type": "execute_result"
    }
   ],
   "source": [
    "'Boston' in frame3.columns"
   ]
  },
  {
   "cell_type": "code",
   "execution_count": 84,
   "metadata": {},
   "outputs": [],
   "source": [
    "# Unlike Python sets, a pandas Index can contain duplicate labels:\n",
    "dup_labels = pd.Index(['foo', 'bar', 'bar', 'foo'])"
   ]
  },
  {
   "cell_type": "code",
   "execution_count": 85,
   "metadata": {},
   "outputs": [
    {
     "data": {
      "text/plain": [
       "Index(['foo', 'bar', 'bar', 'foo'], dtype='object')"
      ]
     },
     "execution_count": 85,
     "metadata": {},
     "output_type": "execute_result"
    }
   ],
   "source": [
    "dup_labels"
   ]
  },
  {
   "cell_type": "code",
   "execution_count": 86,
   "metadata": {},
   "outputs": [],
   "source": [
    "# NOTE: Selections with duplicate labels will select all occurrences of that label."
   ]
  },
  {
   "cell_type": "code",
   "execution_count": 87,
   "metadata": {},
   "outputs": [],
   "source": [
    "# Some Index methods and properties"
   ]
  },
  {
   "cell_type": "code",
   "execution_count": 88,
   "metadata": {},
   "outputs": [
    {
     "data": {
      "text/plain": [
       "Index(['foo', 'bar', 'bar', 'foo', 'spam', 'foo'], dtype='object')"
      ]
     },
     "execution_count": 88,
     "metadata": {},
     "output_type": "execute_result"
    }
   ],
   "source": [
    "# append\n",
    "other_dups = pd.Index(['spam', 'foo'])\n",
    "newIndex = dup_labels.append(other=other_dups) # Concatenate with additional Index objects, producing a new Index\n",
    "newIndex"
   ]
  },
  {
   "cell_type": "code",
   "execution_count": 89,
   "metadata": {},
   "outputs": [
    {
     "data": {
      "text/plain": [
       "Index(['bar'], dtype='object')"
      ]
     },
     "execution_count": 89,
     "metadata": {},
     "output_type": "execute_result"
    }
   ],
   "source": [
    "# difference\n",
    "dup_labels.difference(other_dups) # Compute set difference as an Index"
   ]
  },
  {
   "cell_type": "code",
   "execution_count": 90,
   "metadata": {},
   "outputs": [
    {
     "data": {
      "text/plain": [
       "Index(['foo', 'foo'], dtype='object')"
      ]
     },
     "execution_count": 90,
     "metadata": {},
     "output_type": "execute_result"
    }
   ],
   "source": [
    "# intersection\n",
    "dup_labels.intersection(other_dups)"
   ]
  },
  {
   "cell_type": "code",
   "execution_count": 91,
   "metadata": {},
   "outputs": [],
   "source": [
    "# This section will walk you through the fundamental mechanics\n",
    "# of interacting with the data contained in a Series or DataFrame."
   ]
  },
  {
   "cell_type": "code",
   "execution_count": 92,
   "metadata": {},
   "outputs": [],
   "source": [
    "# Reindexing"
   ]
  },
  {
   "cell_type": "code",
   "execution_count": 93,
   "metadata": {},
   "outputs": [],
   "source": [
    "# An important method on pandas objects is reindex,\n",
    "# which means to create a new object with the data conformed to a new index.\n",
    "obj = pd.Series([4.5, 7.2, -5.3, 3.6], index=['d', 'b', 'a', 'c'])"
   ]
  },
  {
   "cell_type": "code",
   "execution_count": 94,
   "metadata": {},
   "outputs": [
    {
     "data": {
      "text/plain": [
       "d    4.5\n",
       "b    7.2\n",
       "a   -5.3\n",
       "c    3.6\n",
       "dtype: float64"
      ]
     },
     "execution_count": 94,
     "metadata": {},
     "output_type": "execute_result"
    }
   ],
   "source": [
    "obj"
   ]
  },
  {
   "cell_type": "code",
   "execution_count": 95,
   "metadata": {},
   "outputs": [],
   "source": [
    "obj2 = obj.reindex(['a','b','c','d','e']) # Calling reindex on this Series rearranges the data according to the new index,\n",
    "                                          # intro‐ ducing missing values if any index values were not already present."
   ]
  },
  {
   "cell_type": "code",
   "execution_count": 96,
   "metadata": {},
   "outputs": [
    {
     "data": {
      "text/plain": [
       "a   -5.3\n",
       "b    7.2\n",
       "c    3.6\n",
       "d    4.5\n",
       "e    NaN\n",
       "dtype: float64"
      ]
     },
     "execution_count": 96,
     "metadata": {},
     "output_type": "execute_result"
    }
   ],
   "source": [
    "obj2"
   ]
  },
  {
   "cell_type": "code",
   "execution_count": 97,
   "metadata": {},
   "outputs": [
    {
     "data": {
      "text/plain": [
       "0      blue\n",
       "2    purple\n",
       "4    yellow\n",
       "dtype: object"
      ]
     },
     "execution_count": 97,
     "metadata": {},
     "output_type": "execute_result"
    }
   ],
   "source": [
    "obj3 = pd.Series(['blue', 'purple', 'yellow'], index=[0, 2, 4])\n",
    "obj3"
   ]
  },
  {
   "cell_type": "code",
   "execution_count": 98,
   "metadata": {},
   "outputs": [
    {
     "data": {
      "text/plain": [
       "0      blue\n",
       "1      blue\n",
       "2    purple\n",
       "3    purple\n",
       "4    yellow\n",
       "5    yellow\n",
       "dtype: object"
      ]
     },
     "execution_count": 98,
     "metadata": {},
     "output_type": "execute_result"
    }
   ],
   "source": [
    "obj3.reindex(range(6), method='ffill')"
   ]
  },
  {
   "cell_type": "markdown",
   "metadata": {},
   "source": [
    "# Essential Functionality"
   ]
  },
  {
   "cell_type": "markdown",
   "metadata": {},
   "source": [
    "## Reindexing"
   ]
  },
  {
   "cell_type": "markdown",
   "metadata": {},
   "source": [
    "An important method on pandas objects is reindex,  \n",
    "which means to create a new object with the data conformed to a new index"
   ]
  },
  {
   "cell_type": "code",
   "execution_count": 99,
   "metadata": {},
   "outputs": [],
   "source": [
    "obj = pd.Series([4.5, 7.2, -5.3, 3.6], index=['d', 'b', 'a', 'c'])"
   ]
  },
  {
   "cell_type": "code",
   "execution_count": 100,
   "metadata": {},
   "outputs": [
    {
     "data": {
      "text/plain": [
       "d    4.5\n",
       "b    7.2\n",
       "a   -5.3\n",
       "c    3.6\n",
       "dtype: float64"
      ]
     },
     "execution_count": 100,
     "metadata": {},
     "output_type": "execute_result"
    }
   ],
   "source": [
    "obj"
   ]
  },
  {
   "cell_type": "code",
   "execution_count": 101,
   "metadata": {},
   "outputs": [],
   "source": [
    "obj2 = obj.reindex(['a', 'b', 'c', 'd', 'e'])"
   ]
  },
  {
   "cell_type": "code",
   "execution_count": 102,
   "metadata": {},
   "outputs": [
    {
     "data": {
      "text/plain": [
       "a   -5.3\n",
       "b    7.2\n",
       "c    3.6\n",
       "d    4.5\n",
       "e    NaN\n",
       "dtype: float64"
      ]
     },
     "execution_count": 102,
     "metadata": {},
     "output_type": "execute_result"
    }
   ],
   "source": [
    "obj2"
   ]
  },
  {
   "cell_type": "code",
   "execution_count": 103,
   "metadata": {},
   "outputs": [],
   "source": [
    "obj3 = pd.Series(['blue', 'purple', 'yellow'], index=[0, 2, 4])"
   ]
  },
  {
   "cell_type": "code",
   "execution_count": 104,
   "metadata": {},
   "outputs": [
    {
     "data": {
      "text/plain": [
       "0      blue\n",
       "2    purple\n",
       "4    yellow\n",
       "dtype: object"
      ]
     },
     "execution_count": 104,
     "metadata": {},
     "output_type": "execute_result"
    }
   ],
   "source": [
    "obj3"
   ]
  },
  {
   "cell_type": "code",
   "execution_count": 105,
   "metadata": {},
   "outputs": [],
   "source": [
    "obj4 = obj3.reindex(range(6), method='ffill')"
   ]
  },
  {
   "cell_type": "code",
   "execution_count": 106,
   "metadata": {},
   "outputs": [
    {
     "data": {
      "text/plain": [
       "0      blue\n",
       "1      blue\n",
       "2    purple\n",
       "3    purple\n",
       "4    yellow\n",
       "5    yellow\n",
       "dtype: object"
      ]
     },
     "execution_count": 106,
     "metadata": {},
     "output_type": "execute_result"
    }
   ],
   "source": [
    "obj4"
   ]
  },
  {
   "cell_type": "code",
   "execution_count": 107,
   "metadata": {},
   "outputs": [],
   "source": [
    "frame = pd.DataFrame(np.arange(9).reshape(3,3), index=['a', 'c', 'd'], columns=['Ohio', 'Texas', 'California'])"
   ]
  },
  {
   "cell_type": "code",
   "execution_count": 108,
   "metadata": {},
   "outputs": [
    {
     "data": {
      "text/html": [
       "<div>\n",
       "<style scoped>\n",
       "    .dataframe tbody tr th:only-of-type {\n",
       "        vertical-align: middle;\n",
       "    }\n",
       "\n",
       "    .dataframe tbody tr th {\n",
       "        vertical-align: top;\n",
       "    }\n",
       "\n",
       "    .dataframe thead th {\n",
       "        text-align: right;\n",
       "    }\n",
       "</style>\n",
       "<table border=\"1\" class=\"dataframe\">\n",
       "  <thead>\n",
       "    <tr style=\"text-align: right;\">\n",
       "      <th></th>\n",
       "      <th>Ohio</th>\n",
       "      <th>Texas</th>\n",
       "      <th>California</th>\n",
       "    </tr>\n",
       "  </thead>\n",
       "  <tbody>\n",
       "    <tr>\n",
       "      <th>a</th>\n",
       "      <td>0</td>\n",
       "      <td>1</td>\n",
       "      <td>2</td>\n",
       "    </tr>\n",
       "    <tr>\n",
       "      <th>c</th>\n",
       "      <td>3</td>\n",
       "      <td>4</td>\n",
       "      <td>5</td>\n",
       "    </tr>\n",
       "    <tr>\n",
       "      <th>d</th>\n",
       "      <td>6</td>\n",
       "      <td>7</td>\n",
       "      <td>8</td>\n",
       "    </tr>\n",
       "  </tbody>\n",
       "</table>\n",
       "</div>"
      ],
      "text/plain": [
       "   Ohio  Texas  California\n",
       "a     0      1           2\n",
       "c     3      4           5\n",
       "d     6      7           8"
      ]
     },
     "execution_count": 108,
     "metadata": {},
     "output_type": "execute_result"
    }
   ],
   "source": [
    "frame"
   ]
  },
  {
   "cell_type": "code",
   "execution_count": 109,
   "metadata": {},
   "outputs": [],
   "source": [
    "frame2 = frame.reindex(['a', 'c', 'd', 'e'])"
   ]
  },
  {
   "cell_type": "code",
   "execution_count": 110,
   "metadata": {},
   "outputs": [
    {
     "data": {
      "text/html": [
       "<div>\n",
       "<style scoped>\n",
       "    .dataframe tbody tr th:only-of-type {\n",
       "        vertical-align: middle;\n",
       "    }\n",
       "\n",
       "    .dataframe tbody tr th {\n",
       "        vertical-align: top;\n",
       "    }\n",
       "\n",
       "    .dataframe thead th {\n",
       "        text-align: right;\n",
       "    }\n",
       "</style>\n",
       "<table border=\"1\" class=\"dataframe\">\n",
       "  <thead>\n",
       "    <tr style=\"text-align: right;\">\n",
       "      <th></th>\n",
       "      <th>Ohio</th>\n",
       "      <th>Texas</th>\n",
       "      <th>California</th>\n",
       "    </tr>\n",
       "  </thead>\n",
       "  <tbody>\n",
       "    <tr>\n",
       "      <th>a</th>\n",
       "      <td>0.0</td>\n",
       "      <td>1.0</td>\n",
       "      <td>2.0</td>\n",
       "    </tr>\n",
       "    <tr>\n",
       "      <th>c</th>\n",
       "      <td>3.0</td>\n",
       "      <td>4.0</td>\n",
       "      <td>5.0</td>\n",
       "    </tr>\n",
       "    <tr>\n",
       "      <th>d</th>\n",
       "      <td>6.0</td>\n",
       "      <td>7.0</td>\n",
       "      <td>8.0</td>\n",
       "    </tr>\n",
       "    <tr>\n",
       "      <th>e</th>\n",
       "      <td>NaN</td>\n",
       "      <td>NaN</td>\n",
       "      <td>NaN</td>\n",
       "    </tr>\n",
       "  </tbody>\n",
       "</table>\n",
       "</div>"
      ],
      "text/plain": [
       "   Ohio  Texas  California\n",
       "a   0.0    1.0         2.0\n",
       "c   3.0    4.0         5.0\n",
       "d   6.0    7.0         8.0\n",
       "e   NaN    NaN         NaN"
      ]
     },
     "execution_count": 110,
     "metadata": {},
     "output_type": "execute_result"
    }
   ],
   "source": [
    "frame2"
   ]
  },
  {
   "cell_type": "markdown",
   "metadata": {},
   "source": [
    "The columns can be reindexed with the columns keyword:"
   ]
  },
  {
   "cell_type": "code",
   "execution_count": 111,
   "metadata": {},
   "outputs": [
    {
     "data": {
      "text/html": [
       "<div>\n",
       "<style scoped>\n",
       "    .dataframe tbody tr th:only-of-type {\n",
       "        vertical-align: middle;\n",
       "    }\n",
       "\n",
       "    .dataframe tbody tr th {\n",
       "        vertical-align: top;\n",
       "    }\n",
       "\n",
       "    .dataframe thead th {\n",
       "        text-align: right;\n",
       "    }\n",
       "</style>\n",
       "<table border=\"1\" class=\"dataframe\">\n",
       "  <thead>\n",
       "    <tr style=\"text-align: right;\">\n",
       "      <th></th>\n",
       "      <th>Texas</th>\n",
       "      <th>Utah</th>\n",
       "      <th>California</th>\n",
       "    </tr>\n",
       "  </thead>\n",
       "  <tbody>\n",
       "    <tr>\n",
       "      <th>a</th>\n",
       "      <td>1</td>\n",
       "      <td>NaN</td>\n",
       "      <td>2</td>\n",
       "    </tr>\n",
       "    <tr>\n",
       "      <th>c</th>\n",
       "      <td>4</td>\n",
       "      <td>NaN</td>\n",
       "      <td>5</td>\n",
       "    </tr>\n",
       "    <tr>\n",
       "      <th>d</th>\n",
       "      <td>7</td>\n",
       "      <td>NaN</td>\n",
       "      <td>8</td>\n",
       "    </tr>\n",
       "  </tbody>\n",
       "</table>\n",
       "</div>"
      ],
      "text/plain": [
       "   Texas  Utah  California\n",
       "a      1   NaN           2\n",
       "c      4   NaN           5\n",
       "d      7   NaN           8"
      ]
     },
     "execution_count": 111,
     "metadata": {},
     "output_type": "execute_result"
    }
   ],
   "source": [
    "states = ['Texas', 'Utah', 'California']\n",
    "frame.reindex(columns=states)"
   ]
  },
  {
   "cell_type": "markdown",
   "metadata": {},
   "source": [
    "## Dropping Entries from an Axis"
   ]
  },
  {
   "cell_type": "markdown",
   "metadata": {},
   "source": [
    "Dropping one or more entries from an axis is easy if you already have an index array or list without those entries."
   ]
  },
  {
   "cell_type": "code",
   "execution_count": 113,
   "metadata": {},
   "outputs": [],
   "source": [
    "obj = pd.Series(np.arange(5.), index=['a', 'b', 'c', 'd', 'e'])"
   ]
  },
  {
   "cell_type": "code",
   "execution_count": 114,
   "metadata": {},
   "outputs": [
    {
     "data": {
      "text/plain": [
       "a    0.0\n",
       "b    1.0\n",
       "c    2.0\n",
       "d    3.0\n",
       "e    4.0\n",
       "dtype: float64"
      ]
     },
     "execution_count": 114,
     "metadata": {},
     "output_type": "execute_result"
    }
   ],
   "source": [
    "obj"
   ]
  },
  {
   "cell_type": "code",
   "execution_count": 116,
   "metadata": {},
   "outputs": [],
   "source": [
    "obj_dropped = obj.drop('c')"
   ]
  },
  {
   "cell_type": "code",
   "execution_count": 117,
   "metadata": {},
   "outputs": [
    {
     "data": {
      "text/plain": [
       "a    0.0\n",
       "b    1.0\n",
       "d    3.0\n",
       "e    4.0\n",
       "dtype: float64"
      ]
     },
     "execution_count": 117,
     "metadata": {},
     "output_type": "execute_result"
    }
   ],
   "source": [
    "obj_dropped"
   ]
  },
  {
   "cell_type": "code",
   "execution_count": 118,
   "metadata": {},
   "outputs": [
    {
     "data": {
      "text/plain": [
       "a    0.0\n",
       "b    1.0\n",
       "e    4.0\n",
       "dtype: float64"
      ]
     },
     "execution_count": 118,
     "metadata": {},
     "output_type": "execute_result"
    }
   ],
   "source": [
    "obj.drop(['d', 'c'])"
   ]
  },
  {
   "cell_type": "markdown",
   "metadata": {},
   "source": [
    "With DataFrame, index values can be deleted from either axis. To illustrate this, we first create an example DataFrame:"
   ]
  },
  {
   "cell_type": "code",
   "execution_count": 119,
   "metadata": {},
   "outputs": [],
   "source": [
    "data = pd.DataFrame(np.arange(16).reshape((4, 4)),\n",
    "                    index=['Ohio', 'Colorado', 'Utah', 'New York'],\n",
    "                    columns=['one', 'two', 'three', 'four'])"
   ]
  },
  {
   "cell_type": "code",
   "execution_count": 120,
   "metadata": {},
   "outputs": [
    {
     "data": {
      "text/html": [
       "<div>\n",
       "<style scoped>\n",
       "    .dataframe tbody tr th:only-of-type {\n",
       "        vertical-align: middle;\n",
       "    }\n",
       "\n",
       "    .dataframe tbody tr th {\n",
       "        vertical-align: top;\n",
       "    }\n",
       "\n",
       "    .dataframe thead th {\n",
       "        text-align: right;\n",
       "    }\n",
       "</style>\n",
       "<table border=\"1\" class=\"dataframe\">\n",
       "  <thead>\n",
       "    <tr style=\"text-align: right;\">\n",
       "      <th></th>\n",
       "      <th>one</th>\n",
       "      <th>two</th>\n",
       "      <th>three</th>\n",
       "      <th>four</th>\n",
       "    </tr>\n",
       "  </thead>\n",
       "  <tbody>\n",
       "    <tr>\n",
       "      <th>Ohio</th>\n",
       "      <td>0</td>\n",
       "      <td>1</td>\n",
       "      <td>2</td>\n",
       "      <td>3</td>\n",
       "    </tr>\n",
       "    <tr>\n",
       "      <th>Colorado</th>\n",
       "      <td>4</td>\n",
       "      <td>5</td>\n",
       "      <td>6</td>\n",
       "      <td>7</td>\n",
       "    </tr>\n",
       "    <tr>\n",
       "      <th>Utah</th>\n",
       "      <td>8</td>\n",
       "      <td>9</td>\n",
       "      <td>10</td>\n",
       "      <td>11</td>\n",
       "    </tr>\n",
       "    <tr>\n",
       "      <th>New York</th>\n",
       "      <td>12</td>\n",
       "      <td>13</td>\n",
       "      <td>14</td>\n",
       "      <td>15</td>\n",
       "    </tr>\n",
       "  </tbody>\n",
       "</table>\n",
       "</div>"
      ],
      "text/plain": [
       "          one  two  three  four\n",
       "Ohio        0    1      2     3\n",
       "Colorado    4    5      6     7\n",
       "Utah        8    9     10    11\n",
       "New York   12   13     14    15"
      ]
     },
     "execution_count": 120,
     "metadata": {},
     "output_type": "execute_result"
    }
   ],
   "source": [
    "data"
   ]
  },
  {
   "cell_type": "markdown",
   "metadata": {},
   "source": [
    "Calling drop with a sequence of labels will drop values from the row labels (axis 0):"
   ]
  },
  {
   "cell_type": "code",
   "execution_count": 121,
   "metadata": {},
   "outputs": [
    {
     "data": {
      "text/html": [
       "<div>\n",
       "<style scoped>\n",
       "    .dataframe tbody tr th:only-of-type {\n",
       "        vertical-align: middle;\n",
       "    }\n",
       "\n",
       "    .dataframe tbody tr th {\n",
       "        vertical-align: top;\n",
       "    }\n",
       "\n",
       "    .dataframe thead th {\n",
       "        text-align: right;\n",
       "    }\n",
       "</style>\n",
       "<table border=\"1\" class=\"dataframe\">\n",
       "  <thead>\n",
       "    <tr style=\"text-align: right;\">\n",
       "      <th></th>\n",
       "      <th>one</th>\n",
       "      <th>two</th>\n",
       "      <th>three</th>\n",
       "      <th>four</th>\n",
       "    </tr>\n",
       "  </thead>\n",
       "  <tbody>\n",
       "    <tr>\n",
       "      <th>Utah</th>\n",
       "      <td>8</td>\n",
       "      <td>9</td>\n",
       "      <td>10</td>\n",
       "      <td>11</td>\n",
       "    </tr>\n",
       "    <tr>\n",
       "      <th>New York</th>\n",
       "      <td>12</td>\n",
       "      <td>13</td>\n",
       "      <td>14</td>\n",
       "      <td>15</td>\n",
       "    </tr>\n",
       "  </tbody>\n",
       "</table>\n",
       "</div>"
      ],
      "text/plain": [
       "          one  two  three  four\n",
       "Utah        8    9     10    11\n",
       "New York   12   13     14    15"
      ]
     },
     "execution_count": 121,
     "metadata": {},
     "output_type": "execute_result"
    }
   ],
   "source": [
    "data.drop(['Colorado', 'Ohio'])"
   ]
  },
  {
   "cell_type": "markdown",
   "metadata": {},
   "source": [
    "You can drop values from the columns by passing axis=1 or axis='columns':"
   ]
  },
  {
   "cell_type": "code",
   "execution_count": 124,
   "metadata": {},
   "outputs": [
    {
     "data": {
      "text/html": [
       "<div>\n",
       "<style scoped>\n",
       "    .dataframe tbody tr th:only-of-type {\n",
       "        vertical-align: middle;\n",
       "    }\n",
       "\n",
       "    .dataframe tbody tr th {\n",
       "        vertical-align: top;\n",
       "    }\n",
       "\n",
       "    .dataframe thead th {\n",
       "        text-align: right;\n",
       "    }\n",
       "</style>\n",
       "<table border=\"1\" class=\"dataframe\">\n",
       "  <thead>\n",
       "    <tr style=\"text-align: right;\">\n",
       "      <th></th>\n",
       "      <th>one</th>\n",
       "      <th>three</th>\n",
       "      <th>four</th>\n",
       "    </tr>\n",
       "  </thead>\n",
       "  <tbody>\n",
       "    <tr>\n",
       "      <th>Ohio</th>\n",
       "      <td>0</td>\n",
       "      <td>2</td>\n",
       "      <td>3</td>\n",
       "    </tr>\n",
       "    <tr>\n",
       "      <th>Colorado</th>\n",
       "      <td>4</td>\n",
       "      <td>6</td>\n",
       "      <td>7</td>\n",
       "    </tr>\n",
       "    <tr>\n",
       "      <th>Utah</th>\n",
       "      <td>8</td>\n",
       "      <td>10</td>\n",
       "      <td>11</td>\n",
       "    </tr>\n",
       "    <tr>\n",
       "      <th>New York</th>\n",
       "      <td>12</td>\n",
       "      <td>14</td>\n",
       "      <td>15</td>\n",
       "    </tr>\n",
       "  </tbody>\n",
       "</table>\n",
       "</div>"
      ],
      "text/plain": [
       "          one  three  four\n",
       "Ohio        0      2     3\n",
       "Colorado    4      6     7\n",
       "Utah        8     10    11\n",
       "New York   12     14    15"
      ]
     },
     "execution_count": 124,
     "metadata": {},
     "output_type": "execute_result"
    }
   ],
   "source": [
    "data.drop('two', axis=1)"
   ]
  },
  {
   "cell_type": "code",
   "execution_count": 123,
   "metadata": {},
   "outputs": [
    {
     "data": {
      "text/html": [
       "<div>\n",
       "<style scoped>\n",
       "    .dataframe tbody tr th:only-of-type {\n",
       "        vertical-align: middle;\n",
       "    }\n",
       "\n",
       "    .dataframe tbody tr th {\n",
       "        vertical-align: top;\n",
       "    }\n",
       "\n",
       "    .dataframe thead th {\n",
       "        text-align: right;\n",
       "    }\n",
       "</style>\n",
       "<table border=\"1\" class=\"dataframe\">\n",
       "  <thead>\n",
       "    <tr style=\"text-align: right;\">\n",
       "      <th></th>\n",
       "      <th>one</th>\n",
       "      <th>three</th>\n",
       "    </tr>\n",
       "  </thead>\n",
       "  <tbody>\n",
       "    <tr>\n",
       "      <th>Ohio</th>\n",
       "      <td>0</td>\n",
       "      <td>2</td>\n",
       "    </tr>\n",
       "    <tr>\n",
       "      <th>Colorado</th>\n",
       "      <td>4</td>\n",
       "      <td>6</td>\n",
       "    </tr>\n",
       "    <tr>\n",
       "      <th>Utah</th>\n",
       "      <td>8</td>\n",
       "      <td>10</td>\n",
       "    </tr>\n",
       "    <tr>\n",
       "      <th>New York</th>\n",
       "      <td>12</td>\n",
       "      <td>14</td>\n",
       "    </tr>\n",
       "  </tbody>\n",
       "</table>\n",
       "</div>"
      ],
      "text/plain": [
       "          one  three\n",
       "Ohio        0      2\n",
       "Colorado    4      6\n",
       "Utah        8     10\n",
       "New York   12     14"
      ]
     },
     "execution_count": 123,
     "metadata": {},
     "output_type": "execute_result"
    }
   ],
   "source": [
    "data.drop(['two', 'four'], axis='columns')"
   ]
  },
  {
   "cell_type": "markdown",
   "metadata": {},
   "source": [
    "Many functions, like drop, which modify the size or shape of a Series or DataFrame,  \n",
    "can manipulate an object in-place without returning a new object:"
   ]
  },
  {
   "cell_type": "code",
   "execution_count": 125,
   "metadata": {},
   "outputs": [],
   "source": [
    "obj.drop('c', inplace=True)"
   ]
  },
  {
   "cell_type": "code",
   "execution_count": 126,
   "metadata": {},
   "outputs": [
    {
     "data": {
      "text/plain": [
       "a    0.0\n",
       "b    1.0\n",
       "d    3.0\n",
       "e    4.0\n",
       "dtype: float64"
      ]
     },
     "execution_count": 126,
     "metadata": {},
     "output_type": "execute_result"
    }
   ],
   "source": [
    "obj"
   ]
  },
  {
   "cell_type": "markdown",
   "metadata": {},
   "source": [
    "# Indexing, Selection, and Filtering"
   ]
  },
  {
   "cell_type": "markdown",
   "metadata": {},
   "source": [
    "Series indexing (obj[...]) works analogously to NumPy array indexing,  \n",
    "except you can use the Series’s index values instead of only integers. "
   ]
  },
  {
   "cell_type": "code",
   "execution_count": 127,
   "metadata": {},
   "outputs": [],
   "source": [
    "obj = pd.Series(np.arange(4.), index=['a', 'b', 'c', 'd'])"
   ]
  },
  {
   "cell_type": "code",
   "execution_count": 128,
   "metadata": {},
   "outputs": [
    {
     "data": {
      "text/plain": [
       "a    0.0\n",
       "b    1.0\n",
       "c    2.0\n",
       "d    3.0\n",
       "dtype: float64"
      ]
     },
     "execution_count": 128,
     "metadata": {},
     "output_type": "execute_result"
    }
   ],
   "source": [
    "obj"
   ]
  },
  {
   "cell_type": "code",
   "execution_count": 129,
   "metadata": {},
   "outputs": [
    {
     "data": {
      "text/plain": [
       "1.0"
      ]
     },
     "execution_count": 129,
     "metadata": {},
     "output_type": "execute_result"
    }
   ],
   "source": [
    "obj['b']"
   ]
  },
  {
   "cell_type": "code",
   "execution_count": 130,
   "metadata": {},
   "outputs": [
    {
     "data": {
      "text/plain": [
       "1.0"
      ]
     },
     "execution_count": 130,
     "metadata": {},
     "output_type": "execute_result"
    }
   ],
   "source": [
    "obj[1]"
   ]
  },
  {
   "cell_type": "code",
   "execution_count": 131,
   "metadata": {},
   "outputs": [
    {
     "data": {
      "text/plain": [
       "c    2.0\n",
       "d    3.0\n",
       "dtype: float64"
      ]
     },
     "execution_count": 131,
     "metadata": {},
     "output_type": "execute_result"
    }
   ],
   "source": [
    "obj[2:4]"
   ]
  },
  {
   "cell_type": "code",
   "execution_count": 132,
   "metadata": {},
   "outputs": [
    {
     "data": {
      "text/plain": [
       "a    0.0\n",
       "d    3.0\n",
       "c    2.0\n",
       "dtype: float64"
      ]
     },
     "execution_count": 132,
     "metadata": {},
     "output_type": "execute_result"
    }
   ],
   "source": [
    "obj[['a', 'd', 'c']]"
   ]
  },
  {
   "cell_type": "code",
   "execution_count": 133,
   "metadata": {},
   "outputs": [
    {
     "data": {
      "text/plain": [
       "b    1.0\n",
       "d    3.0\n",
       "dtype: float64"
      ]
     },
     "execution_count": 133,
     "metadata": {},
     "output_type": "execute_result"
    }
   ],
   "source": [
    "obj[[1, 3]]"
   ]
  },
  {
   "cell_type": "code",
   "execution_count": 134,
   "metadata": {},
   "outputs": [
    {
     "data": {
      "text/plain": [
       "a    0.0\n",
       "b    1.0\n",
       "dtype: float64"
      ]
     },
     "execution_count": 134,
     "metadata": {},
     "output_type": "execute_result"
    }
   ],
   "source": [
    "obj[obj < 2]"
   ]
  },
  {
   "cell_type": "markdown",
   "metadata": {},
   "source": [
    "Slicing with labels behaves differently than normal Python slicing in that the end‐point is inclusive:"
   ]
  },
  {
   "cell_type": "code",
   "execution_count": 135,
   "metadata": {},
   "outputs": [
    {
     "data": {
      "text/plain": [
       "b    1.0\n",
       "c    2.0\n",
       "dtype: float64"
      ]
     },
     "execution_count": 135,
     "metadata": {},
     "output_type": "execute_result"
    }
   ],
   "source": [
    "obj['b':'c']"
   ]
  },
  {
   "cell_type": "markdown",
   "metadata": {},
   "source": [
    "Setting using these methods modifies the corresponding section of the Series:"
   ]
  },
  {
   "cell_type": "code",
   "execution_count": 136,
   "metadata": {},
   "outputs": [],
   "source": [
    "obj['b':'c'] = -1"
   ]
  },
  {
   "cell_type": "code",
   "execution_count": 137,
   "metadata": {},
   "outputs": [
    {
     "data": {
      "text/plain": [
       "a    0.0\n",
       "b   -1.0\n",
       "c   -1.0\n",
       "d    3.0\n",
       "dtype: float64"
      ]
     },
     "execution_count": 137,
     "metadata": {},
     "output_type": "execute_result"
    }
   ],
   "source": [
    "obj"
   ]
  },
  {
   "cell_type": "markdown",
   "metadata": {},
   "source": [
    "Indexing into a DataFrame is for retrieving one or more columns either with a single value or sequence:"
   ]
  },
  {
   "cell_type": "code",
   "execution_count": 138,
   "metadata": {},
   "outputs": [],
   "source": [
    "data = pd.DataFrame(np.arange(16).reshape((4, 4)),\n",
    "                    index=['Ohio', 'Colorado', 'Utah', 'New York'],\n",
    "                    columns=['one', 'two', 'three', 'four']\n",
    "                   )"
   ]
  },
  {
   "cell_type": "code",
   "execution_count": 139,
   "metadata": {},
   "outputs": [
    {
     "data": {
      "text/html": [
       "<div>\n",
       "<style scoped>\n",
       "    .dataframe tbody tr th:only-of-type {\n",
       "        vertical-align: middle;\n",
       "    }\n",
       "\n",
       "    .dataframe tbody tr th {\n",
       "        vertical-align: top;\n",
       "    }\n",
       "\n",
       "    .dataframe thead th {\n",
       "        text-align: right;\n",
       "    }\n",
       "</style>\n",
       "<table border=\"1\" class=\"dataframe\">\n",
       "  <thead>\n",
       "    <tr style=\"text-align: right;\">\n",
       "      <th></th>\n",
       "      <th>one</th>\n",
       "      <th>two</th>\n",
       "      <th>three</th>\n",
       "      <th>four</th>\n",
       "    </tr>\n",
       "  </thead>\n",
       "  <tbody>\n",
       "    <tr>\n",
       "      <th>Ohio</th>\n",
       "      <td>0</td>\n",
       "      <td>1</td>\n",
       "      <td>2</td>\n",
       "      <td>3</td>\n",
       "    </tr>\n",
       "    <tr>\n",
       "      <th>Colorado</th>\n",
       "      <td>4</td>\n",
       "      <td>5</td>\n",
       "      <td>6</td>\n",
       "      <td>7</td>\n",
       "    </tr>\n",
       "    <tr>\n",
       "      <th>Utah</th>\n",
       "      <td>8</td>\n",
       "      <td>9</td>\n",
       "      <td>10</td>\n",
       "      <td>11</td>\n",
       "    </tr>\n",
       "    <tr>\n",
       "      <th>New York</th>\n",
       "      <td>12</td>\n",
       "      <td>13</td>\n",
       "      <td>14</td>\n",
       "      <td>15</td>\n",
       "    </tr>\n",
       "  </tbody>\n",
       "</table>\n",
       "</div>"
      ],
      "text/plain": [
       "          one  two  three  four\n",
       "Ohio        0    1      2     3\n",
       "Colorado    4    5      6     7\n",
       "Utah        8    9     10    11\n",
       "New York   12   13     14    15"
      ]
     },
     "execution_count": 139,
     "metadata": {},
     "output_type": "execute_result"
    }
   ],
   "source": [
    "data"
   ]
  },
  {
   "cell_type": "code",
   "execution_count": 140,
   "metadata": {},
   "outputs": [
    {
     "data": {
      "text/plain": [
       "Ohio         1\n",
       "Colorado     5\n",
       "Utah         9\n",
       "New York    13\n",
       "Name: two, dtype: int64"
      ]
     },
     "execution_count": 140,
     "metadata": {},
     "output_type": "execute_result"
    }
   ],
   "source": [
    "data['two']"
   ]
  },
  {
   "cell_type": "code",
   "execution_count": 141,
   "metadata": {},
   "outputs": [
    {
     "data": {
      "text/html": [
       "<div>\n",
       "<style scoped>\n",
       "    .dataframe tbody tr th:only-of-type {\n",
       "        vertical-align: middle;\n",
       "    }\n",
       "\n",
       "    .dataframe tbody tr th {\n",
       "        vertical-align: top;\n",
       "    }\n",
       "\n",
       "    .dataframe thead th {\n",
       "        text-align: right;\n",
       "    }\n",
       "</style>\n",
       "<table border=\"1\" class=\"dataframe\">\n",
       "  <thead>\n",
       "    <tr style=\"text-align: right;\">\n",
       "      <th></th>\n",
       "      <th>three</th>\n",
       "      <th>one</th>\n",
       "    </tr>\n",
       "  </thead>\n",
       "  <tbody>\n",
       "    <tr>\n",
       "      <th>Ohio</th>\n",
       "      <td>2</td>\n",
       "      <td>0</td>\n",
       "    </tr>\n",
       "    <tr>\n",
       "      <th>Colorado</th>\n",
       "      <td>6</td>\n",
       "      <td>4</td>\n",
       "    </tr>\n",
       "    <tr>\n",
       "      <th>Utah</th>\n",
       "      <td>10</td>\n",
       "      <td>8</td>\n",
       "    </tr>\n",
       "    <tr>\n",
       "      <th>New York</th>\n",
       "      <td>14</td>\n",
       "      <td>12</td>\n",
       "    </tr>\n",
       "  </tbody>\n",
       "</table>\n",
       "</div>"
      ],
      "text/plain": [
       "          three  one\n",
       "Ohio          2    0\n",
       "Colorado      6    4\n",
       "Utah         10    8\n",
       "New York     14   12"
      ]
     },
     "execution_count": 141,
     "metadata": {},
     "output_type": "execute_result"
    }
   ],
   "source": [
    "data[['three', 'one']]"
   ]
  },
  {
   "cell_type": "markdown",
   "metadata": {},
   "source": [
    "Indexing like this has a few special cases. First, slicing or selecting data with a boolean array:"
   ]
  },
  {
   "cell_type": "code",
   "execution_count": 142,
   "metadata": {},
   "outputs": [
    {
     "data": {
      "text/html": [
       "<div>\n",
       "<style scoped>\n",
       "    .dataframe tbody tr th:only-of-type {\n",
       "        vertical-align: middle;\n",
       "    }\n",
       "\n",
       "    .dataframe tbody tr th {\n",
       "        vertical-align: top;\n",
       "    }\n",
       "\n",
       "    .dataframe thead th {\n",
       "        text-align: right;\n",
       "    }\n",
       "</style>\n",
       "<table border=\"1\" class=\"dataframe\">\n",
       "  <thead>\n",
       "    <tr style=\"text-align: right;\">\n",
       "      <th></th>\n",
       "      <th>one</th>\n",
       "      <th>two</th>\n",
       "      <th>three</th>\n",
       "      <th>four</th>\n",
       "    </tr>\n",
       "  </thead>\n",
       "  <tbody>\n",
       "    <tr>\n",
       "      <th>Ohio</th>\n",
       "      <td>0</td>\n",
       "      <td>1</td>\n",
       "      <td>2</td>\n",
       "      <td>3</td>\n",
       "    </tr>\n",
       "    <tr>\n",
       "      <th>Colorado</th>\n",
       "      <td>4</td>\n",
       "      <td>5</td>\n",
       "      <td>6</td>\n",
       "      <td>7</td>\n",
       "    </tr>\n",
       "  </tbody>\n",
       "</table>\n",
       "</div>"
      ],
      "text/plain": [
       "          one  two  three  four\n",
       "Ohio        0    1      2     3\n",
       "Colorado    4    5      6     7"
      ]
     },
     "execution_count": 142,
     "metadata": {},
     "output_type": "execute_result"
    }
   ],
   "source": [
    "data[:2]"
   ]
  },
  {
   "cell_type": "code",
   "execution_count": 144,
   "metadata": {},
   "outputs": [
    {
     "data": {
      "text/html": [
       "<div>\n",
       "<style scoped>\n",
       "    .dataframe tbody tr th:only-of-type {\n",
       "        vertical-align: middle;\n",
       "    }\n",
       "\n",
       "    .dataframe tbody tr th {\n",
       "        vertical-align: top;\n",
       "    }\n",
       "\n",
       "    .dataframe thead th {\n",
       "        text-align: right;\n",
       "    }\n",
       "</style>\n",
       "<table border=\"1\" class=\"dataframe\">\n",
       "  <thead>\n",
       "    <tr style=\"text-align: right;\">\n",
       "      <th></th>\n",
       "      <th>one</th>\n",
       "      <th>two</th>\n",
       "      <th>three</th>\n",
       "      <th>four</th>\n",
       "    </tr>\n",
       "  </thead>\n",
       "  <tbody>\n",
       "    <tr>\n",
       "      <th>Ohio</th>\n",
       "      <td>0</td>\n",
       "      <td>1</td>\n",
       "      <td>2</td>\n",
       "      <td>3</td>\n",
       "    </tr>\n",
       "    <tr>\n",
       "      <th>Colorado</th>\n",
       "      <td>4</td>\n",
       "      <td>5</td>\n",
       "      <td>6</td>\n",
       "      <td>7</td>\n",
       "    </tr>\n",
       "    <tr>\n",
       "      <th>Utah</th>\n",
       "      <td>8</td>\n",
       "      <td>9</td>\n",
       "      <td>10</td>\n",
       "      <td>11</td>\n",
       "    </tr>\n",
       "    <tr>\n",
       "      <th>New York</th>\n",
       "      <td>12</td>\n",
       "      <td>13</td>\n",
       "      <td>14</td>\n",
       "      <td>15</td>\n",
       "    </tr>\n",
       "  </tbody>\n",
       "</table>\n",
       "</div>"
      ],
      "text/plain": [
       "          one  two  three  four\n",
       "Ohio        0    1      2     3\n",
       "Colorado    4    5      6     7\n",
       "Utah        8    9     10    11\n",
       "New York   12   13     14    15"
      ]
     },
     "execution_count": 144,
     "metadata": {},
     "output_type": "execute_result"
    }
   ],
   "source": [
    "data"
   ]
  },
  {
   "cell_type": "code",
   "execution_count": 148,
   "metadata": {},
   "outputs": [
    {
     "data": {
      "text/html": [
       "<div>\n",
       "<style scoped>\n",
       "    .dataframe tbody tr th:only-of-type {\n",
       "        vertical-align: middle;\n",
       "    }\n",
       "\n",
       "    .dataframe tbody tr th {\n",
       "        vertical-align: top;\n",
       "    }\n",
       "\n",
       "    .dataframe thead th {\n",
       "        text-align: right;\n",
       "    }\n",
       "</style>\n",
       "<table border=\"1\" class=\"dataframe\">\n",
       "  <thead>\n",
       "    <tr style=\"text-align: right;\">\n",
       "      <th></th>\n",
       "      <th>one</th>\n",
       "      <th>two</th>\n",
       "      <th>three</th>\n",
       "      <th>four</th>\n",
       "    </tr>\n",
       "  </thead>\n",
       "  <tbody>\n",
       "    <tr>\n",
       "      <th>Colorado</th>\n",
       "      <td>4</td>\n",
       "      <td>5</td>\n",
       "      <td>6</td>\n",
       "      <td>7</td>\n",
       "    </tr>\n",
       "    <tr>\n",
       "      <th>Utah</th>\n",
       "      <td>8</td>\n",
       "      <td>9</td>\n",
       "      <td>10</td>\n",
       "      <td>11</td>\n",
       "    </tr>\n",
       "    <tr>\n",
       "      <th>New York</th>\n",
       "      <td>12</td>\n",
       "      <td>13</td>\n",
       "      <td>14</td>\n",
       "      <td>15</td>\n",
       "    </tr>\n",
       "  </tbody>\n",
       "</table>\n",
       "</div>"
      ],
      "text/plain": [
       "          one  two  three  four\n",
       "Colorado    4    5      6     7\n",
       "Utah        8    9     10    11\n",
       "New York   12   13     14    15"
      ]
     },
     "execution_count": 148,
     "metadata": {},
     "output_type": "execute_result"
    }
   ],
   "source": [
    "data[data['three'] > 5]"
   ]
  },
  {
   "cell_type": "code",
   "execution_count": 149,
   "metadata": {},
   "outputs": [
    {
     "data": {
      "text/html": [
       "<div>\n",
       "<style scoped>\n",
       "    .dataframe tbody tr th:only-of-type {\n",
       "        vertical-align: middle;\n",
       "    }\n",
       "\n",
       "    .dataframe tbody tr th {\n",
       "        vertical-align: top;\n",
       "    }\n",
       "\n",
       "    .dataframe thead th {\n",
       "        text-align: right;\n",
       "    }\n",
       "</style>\n",
       "<table border=\"1\" class=\"dataframe\">\n",
       "  <thead>\n",
       "    <tr style=\"text-align: right;\">\n",
       "      <th></th>\n",
       "      <th>one</th>\n",
       "      <th>two</th>\n",
       "      <th>three</th>\n",
       "      <th>four</th>\n",
       "    </tr>\n",
       "  </thead>\n",
       "  <tbody>\n",
       "    <tr>\n",
       "      <th>Ohio</th>\n",
       "      <td>True</td>\n",
       "      <td>True</td>\n",
       "      <td>True</td>\n",
       "      <td>True</td>\n",
       "    </tr>\n",
       "    <tr>\n",
       "      <th>Colorado</th>\n",
       "      <td>True</td>\n",
       "      <td>False</td>\n",
       "      <td>False</td>\n",
       "      <td>False</td>\n",
       "    </tr>\n",
       "    <tr>\n",
       "      <th>Utah</th>\n",
       "      <td>False</td>\n",
       "      <td>False</td>\n",
       "      <td>False</td>\n",
       "      <td>False</td>\n",
       "    </tr>\n",
       "    <tr>\n",
       "      <th>New York</th>\n",
       "      <td>False</td>\n",
       "      <td>False</td>\n",
       "      <td>False</td>\n",
       "      <td>False</td>\n",
       "    </tr>\n",
       "  </tbody>\n",
       "</table>\n",
       "</div>"
      ],
      "text/plain": [
       "            one    two  three   four\n",
       "Ohio       True   True   True   True\n",
       "Colorado   True  False  False  False\n",
       "Utah      False  False  False  False\n",
       "New York  False  False  False  False"
      ]
     },
     "execution_count": 149,
     "metadata": {},
     "output_type": "execute_result"
    }
   ],
   "source": [
    "data < 5"
   ]
  },
  {
   "cell_type": "code",
   "execution_count": 150,
   "metadata": {},
   "outputs": [],
   "source": [
    "data[data < 5] = 0"
   ]
  },
  {
   "cell_type": "code",
   "execution_count": 151,
   "metadata": {},
   "outputs": [
    {
     "data": {
      "text/html": [
       "<div>\n",
       "<style scoped>\n",
       "    .dataframe tbody tr th:only-of-type {\n",
       "        vertical-align: middle;\n",
       "    }\n",
       "\n",
       "    .dataframe tbody tr th {\n",
       "        vertical-align: top;\n",
       "    }\n",
       "\n",
       "    .dataframe thead th {\n",
       "        text-align: right;\n",
       "    }\n",
       "</style>\n",
       "<table border=\"1\" class=\"dataframe\">\n",
       "  <thead>\n",
       "    <tr style=\"text-align: right;\">\n",
       "      <th></th>\n",
       "      <th>one</th>\n",
       "      <th>two</th>\n",
       "      <th>three</th>\n",
       "      <th>four</th>\n",
       "    </tr>\n",
       "  </thead>\n",
       "  <tbody>\n",
       "    <tr>\n",
       "      <th>Ohio</th>\n",
       "      <td>0</td>\n",
       "      <td>0</td>\n",
       "      <td>0</td>\n",
       "      <td>0</td>\n",
       "    </tr>\n",
       "    <tr>\n",
       "      <th>Colorado</th>\n",
       "      <td>0</td>\n",
       "      <td>5</td>\n",
       "      <td>6</td>\n",
       "      <td>7</td>\n",
       "    </tr>\n",
       "    <tr>\n",
       "      <th>Utah</th>\n",
       "      <td>8</td>\n",
       "      <td>9</td>\n",
       "      <td>10</td>\n",
       "      <td>11</td>\n",
       "    </tr>\n",
       "    <tr>\n",
       "      <th>New York</th>\n",
       "      <td>12</td>\n",
       "      <td>13</td>\n",
       "      <td>14</td>\n",
       "      <td>15</td>\n",
       "    </tr>\n",
       "  </tbody>\n",
       "</table>\n",
       "</div>"
      ],
      "text/plain": [
       "          one  two  three  four\n",
       "Ohio        0    0      0     0\n",
       "Colorado    0    5      6     7\n",
       "Utah        8    9     10    11\n",
       "New York   12   13     14    15"
      ]
     },
     "execution_count": 151,
     "metadata": {},
     "output_type": "execute_result"
    }
   ],
   "source": [
    "data"
   ]
  },
  {
   "cell_type": "markdown",
   "metadata": {},
   "source": [
    "### Selection with loc and iloc"
   ]
  },
  {
   "cell_type": "markdown",
   "metadata": {},
   "source": [
    "For DataFrame label-indexing on the rows, I introduce the special indexing operators loc and iloc.  \n",
    "They enable you to select a subset of the rows and columns from a DataFrame with NumPy-like notation  \n",
    "using either axis labels (loc) or integers (iloc)."
   ]
  },
  {
   "cell_type": "markdown",
   "metadata": {},
   "source": [
    "As a preliminary example, let’s select a single row and multiple columns by label:"
   ]
  },
  {
   "cell_type": "code",
   "execution_count": 152,
   "metadata": {},
   "outputs": [
    {
     "data": {
      "text/plain": [
       "two      5\n",
       "three    6\n",
       "Name: Colorado, dtype: int64"
      ]
     },
     "execution_count": 152,
     "metadata": {},
     "output_type": "execute_result"
    }
   ],
   "source": [
    "data.loc['Colorado', ['two', 'three']]"
   ]
  },
  {
   "cell_type": "markdown",
   "metadata": {},
   "source": [
    "We’ll then perform some similar selections with integers using iloc:"
   ]
  },
  {
   "cell_type": "code",
   "execution_count": 153,
   "metadata": {},
   "outputs": [
    {
     "data": {
      "text/html": [
       "<div>\n",
       "<style scoped>\n",
       "    .dataframe tbody tr th:only-of-type {\n",
       "        vertical-align: middle;\n",
       "    }\n",
       "\n",
       "    .dataframe tbody tr th {\n",
       "        vertical-align: top;\n",
       "    }\n",
       "\n",
       "    .dataframe thead th {\n",
       "        text-align: right;\n",
       "    }\n",
       "</style>\n",
       "<table border=\"1\" class=\"dataframe\">\n",
       "  <thead>\n",
       "    <tr style=\"text-align: right;\">\n",
       "      <th></th>\n",
       "      <th>one</th>\n",
       "      <th>two</th>\n",
       "      <th>three</th>\n",
       "      <th>four</th>\n",
       "    </tr>\n",
       "  </thead>\n",
       "  <tbody>\n",
       "    <tr>\n",
       "      <th>Ohio</th>\n",
       "      <td>0</td>\n",
       "      <td>0</td>\n",
       "      <td>0</td>\n",
       "      <td>0</td>\n",
       "    </tr>\n",
       "    <tr>\n",
       "      <th>Colorado</th>\n",
       "      <td>0</td>\n",
       "      <td>5</td>\n",
       "      <td>6</td>\n",
       "      <td>7</td>\n",
       "    </tr>\n",
       "    <tr>\n",
       "      <th>Utah</th>\n",
       "      <td>8</td>\n",
       "      <td>9</td>\n",
       "      <td>10</td>\n",
       "      <td>11</td>\n",
       "    </tr>\n",
       "    <tr>\n",
       "      <th>New York</th>\n",
       "      <td>12</td>\n",
       "      <td>13</td>\n",
       "      <td>14</td>\n",
       "      <td>15</td>\n",
       "    </tr>\n",
       "  </tbody>\n",
       "</table>\n",
       "</div>"
      ],
      "text/plain": [
       "          one  two  three  four\n",
       "Ohio        0    0      0     0\n",
       "Colorado    0    5      6     7\n",
       "Utah        8    9     10    11\n",
       "New York   12   13     14    15"
      ]
     },
     "execution_count": 153,
     "metadata": {},
     "output_type": "execute_result"
    }
   ],
   "source": [
    "data"
   ]
  },
  {
   "cell_type": "code",
   "execution_count": 157,
   "metadata": {},
   "outputs": [
    {
     "data": {
      "text/plain": [
       "two      5\n",
       "three    6\n",
       "Name: Colorado, dtype: int64"
      ]
     },
     "execution_count": 157,
     "metadata": {},
     "output_type": "execute_result"
    }
   ],
   "source": [
    "data.iloc[1, [1,2]]"
   ]
  },
  {
   "cell_type": "code",
   "execution_count": 158,
   "metadata": {},
   "outputs": [
    {
     "data": {
      "text/html": [
       "<div>\n",
       "<style scoped>\n",
       "    .dataframe tbody tr th:only-of-type {\n",
       "        vertical-align: middle;\n",
       "    }\n",
       "\n",
       "    .dataframe tbody tr th {\n",
       "        vertical-align: top;\n",
       "    }\n",
       "\n",
       "    .dataframe thead th {\n",
       "        text-align: right;\n",
       "    }\n",
       "</style>\n",
       "<table border=\"1\" class=\"dataframe\">\n",
       "  <thead>\n",
       "    <tr style=\"text-align: right;\">\n",
       "      <th></th>\n",
       "      <th>four</th>\n",
       "      <th>one</th>\n",
       "      <th>two</th>\n",
       "    </tr>\n",
       "  </thead>\n",
       "  <tbody>\n",
       "    <tr>\n",
       "      <th>Colorado</th>\n",
       "      <td>7</td>\n",
       "      <td>0</td>\n",
       "      <td>5</td>\n",
       "    </tr>\n",
       "    <tr>\n",
       "      <th>Utah</th>\n",
       "      <td>11</td>\n",
       "      <td>8</td>\n",
       "      <td>9</td>\n",
       "    </tr>\n",
       "  </tbody>\n",
       "</table>\n",
       "</div>"
      ],
      "text/plain": [
       "          four  one  two\n",
       "Colorado     7    0    5\n",
       "Utah        11    8    9"
      ]
     },
     "execution_count": 158,
     "metadata": {},
     "output_type": "execute_result"
    }
   ],
   "source": [
    "data.iloc[[1, 2], [3, 0, 1]]"
   ]
  },
  {
   "cell_type": "markdown",
   "metadata": {},
   "source": [
    "Both indexing functions work with slices in addition to single labels or lists of labels:"
   ]
  },
  {
   "cell_type": "code",
   "execution_count": 159,
   "metadata": {},
   "outputs": [
    {
     "data": {
      "text/plain": [
       "Ohio        0\n",
       "Colorado    5\n",
       "Utah        9\n",
       "Name: two, dtype: int64"
      ]
     },
     "execution_count": 159,
     "metadata": {},
     "output_type": "execute_result"
    }
   ],
   "source": [
    "data.loc[:'Utah', 'two']"
   ]
  },
  {
   "cell_type": "code",
   "execution_count": 161,
   "metadata": {},
   "outputs": [
    {
     "data": {
      "text/html": [
       "<div>\n",
       "<style scoped>\n",
       "    .dataframe tbody tr th:only-of-type {\n",
       "        vertical-align: middle;\n",
       "    }\n",
       "\n",
       "    .dataframe tbody tr th {\n",
       "        vertical-align: top;\n",
       "    }\n",
       "\n",
       "    .dataframe thead th {\n",
       "        text-align: right;\n",
       "    }\n",
       "</style>\n",
       "<table border=\"1\" class=\"dataframe\">\n",
       "  <thead>\n",
       "    <tr style=\"text-align: right;\">\n",
       "      <th></th>\n",
       "      <th>one</th>\n",
       "      <th>two</th>\n",
       "      <th>three</th>\n",
       "    </tr>\n",
       "  </thead>\n",
       "  <tbody>\n",
       "    <tr>\n",
       "      <th>Colorado</th>\n",
       "      <td>0</td>\n",
       "      <td>5</td>\n",
       "      <td>6</td>\n",
       "    </tr>\n",
       "    <tr>\n",
       "      <th>Utah</th>\n",
       "      <td>8</td>\n",
       "      <td>9</td>\n",
       "      <td>10</td>\n",
       "    </tr>\n",
       "    <tr>\n",
       "      <th>New York</th>\n",
       "      <td>12</td>\n",
       "      <td>13</td>\n",
       "      <td>14</td>\n",
       "    </tr>\n",
       "  </tbody>\n",
       "</table>\n",
       "</div>"
      ],
      "text/plain": [
       "          one  two  three\n",
       "Colorado    0    5      6\n",
       "Utah        8    9     10\n",
       "New York   12   13     14"
      ]
     },
     "execution_count": 161,
     "metadata": {},
     "output_type": "execute_result"
    }
   ],
   "source": [
    "data.iloc[:, :3][data.three > 5]"
   ]
  },
  {
   "cell_type": "markdown",
   "metadata": {},
   "source": [
    "### Integer Indexes"
   ]
  },
  {
   "cell_type": "code",
   "execution_count": 162,
   "metadata": {},
   "outputs": [],
   "source": [
    "ser = pd.Series(np.arange(3.))"
   ]
  },
  {
   "cell_type": "code",
   "execution_count": 163,
   "metadata": {},
   "outputs": [
    {
     "data": {
      "text/plain": [
       "0    0.0\n",
       "1    1.0\n",
       "2    2.0\n",
       "dtype: float64"
      ]
     },
     "execution_count": 163,
     "metadata": {},
     "output_type": "execute_result"
    }
   ],
   "source": [
    "ser"
   ]
  },
  {
   "cell_type": "code",
   "execution_count": 164,
   "metadata": {},
   "outputs": [
    {
     "ename": "KeyError",
     "evalue": "-1",
     "output_type": "error",
     "traceback": [
      "\u001b[0;31m---------------------------------------------------------------------------\u001b[0m",
      "\u001b[0;31mValueError\u001b[0m                                Traceback (most recent call last)",
      "\u001b[0;32m~/opt/anaconda3/lib/python3.8/site-packages/pandas/core/indexes/range.py\u001b[0m in \u001b[0;36mget_loc\u001b[0;34m(self, key, method, tolerance)\u001b[0m\n\u001b[1;32m    354\u001b[0m                 \u001b[0;32mtry\u001b[0m\u001b[0;34m:\u001b[0m\u001b[0;34m\u001b[0m\u001b[0;34m\u001b[0m\u001b[0m\n\u001b[0;32m--> 355\u001b[0;31m                     \u001b[0;32mreturn\u001b[0m \u001b[0mself\u001b[0m\u001b[0;34m.\u001b[0m\u001b[0m_range\u001b[0m\u001b[0;34m.\u001b[0m\u001b[0mindex\u001b[0m\u001b[0;34m(\u001b[0m\u001b[0mnew_key\u001b[0m\u001b[0;34m)\u001b[0m\u001b[0;34m\u001b[0m\u001b[0;34m\u001b[0m\u001b[0m\n\u001b[0m\u001b[1;32m    356\u001b[0m                 \u001b[0;32mexcept\u001b[0m \u001b[0mValueError\u001b[0m \u001b[0;32mas\u001b[0m \u001b[0merr\u001b[0m\u001b[0;34m:\u001b[0m\u001b[0;34m\u001b[0m\u001b[0;34m\u001b[0m\u001b[0m\n",
      "\u001b[0;31mValueError\u001b[0m: -1 is not in range",
      "\nThe above exception was the direct cause of the following exception:\n",
      "\u001b[0;31mKeyError\u001b[0m                                  Traceback (most recent call last)",
      "\u001b[0;32m<ipython-input-164-44969a759c20>\u001b[0m in \u001b[0;36m<module>\u001b[0;34m\u001b[0m\n\u001b[0;32m----> 1\u001b[0;31m \u001b[0mser\u001b[0m\u001b[0;34m[\u001b[0m\u001b[0;34m-\u001b[0m\u001b[0;36m1\u001b[0m\u001b[0;34m]\u001b[0m\u001b[0;34m\u001b[0m\u001b[0;34m\u001b[0m\u001b[0m\n\u001b[0m",
      "\u001b[0;32m~/opt/anaconda3/lib/python3.8/site-packages/pandas/core/series.py\u001b[0m in \u001b[0;36m__getitem__\u001b[0;34m(self, key)\u001b[0m\n\u001b[1;32m    880\u001b[0m \u001b[0;34m\u001b[0m\u001b[0m\n\u001b[1;32m    881\u001b[0m         \u001b[0;32melif\u001b[0m \u001b[0mkey_is_scalar\u001b[0m\u001b[0;34m:\u001b[0m\u001b[0;34m\u001b[0m\u001b[0;34m\u001b[0m\u001b[0m\n\u001b[0;32m--> 882\u001b[0;31m             \u001b[0;32mreturn\u001b[0m \u001b[0mself\u001b[0m\u001b[0;34m.\u001b[0m\u001b[0m_get_value\u001b[0m\u001b[0;34m(\u001b[0m\u001b[0mkey\u001b[0m\u001b[0;34m)\u001b[0m\u001b[0;34m\u001b[0m\u001b[0;34m\u001b[0m\u001b[0m\n\u001b[0m\u001b[1;32m    883\u001b[0m \u001b[0;34m\u001b[0m\u001b[0m\n\u001b[1;32m    884\u001b[0m         \u001b[0;32mif\u001b[0m \u001b[0mis_hashable\u001b[0m\u001b[0;34m(\u001b[0m\u001b[0mkey\u001b[0m\u001b[0;34m)\u001b[0m\u001b[0;34m:\u001b[0m\u001b[0;34m\u001b[0m\u001b[0;34m\u001b[0m\u001b[0m\n",
      "\u001b[0;32m~/opt/anaconda3/lib/python3.8/site-packages/pandas/core/series.py\u001b[0m in \u001b[0;36m_get_value\u001b[0;34m(self, label, takeable)\u001b[0m\n\u001b[1;32m    987\u001b[0m \u001b[0;34m\u001b[0m\u001b[0m\n\u001b[1;32m    988\u001b[0m         \u001b[0;31m# Similar to Index.get_value, but we do not fall back to positional\u001b[0m\u001b[0;34m\u001b[0m\u001b[0;34m\u001b[0m\u001b[0;34m\u001b[0m\u001b[0m\n\u001b[0;32m--> 989\u001b[0;31m         \u001b[0mloc\u001b[0m \u001b[0;34m=\u001b[0m \u001b[0mself\u001b[0m\u001b[0;34m.\u001b[0m\u001b[0mindex\u001b[0m\u001b[0;34m.\u001b[0m\u001b[0mget_loc\u001b[0m\u001b[0;34m(\u001b[0m\u001b[0mlabel\u001b[0m\u001b[0;34m)\u001b[0m\u001b[0;34m\u001b[0m\u001b[0;34m\u001b[0m\u001b[0m\n\u001b[0m\u001b[1;32m    990\u001b[0m         \u001b[0;32mreturn\u001b[0m \u001b[0mself\u001b[0m\u001b[0;34m.\u001b[0m\u001b[0mindex\u001b[0m\u001b[0;34m.\u001b[0m\u001b[0m_get_values_for_loc\u001b[0m\u001b[0;34m(\u001b[0m\u001b[0mself\u001b[0m\u001b[0;34m,\u001b[0m \u001b[0mloc\u001b[0m\u001b[0;34m,\u001b[0m \u001b[0mlabel\u001b[0m\u001b[0;34m)\u001b[0m\u001b[0;34m\u001b[0m\u001b[0;34m\u001b[0m\u001b[0m\n\u001b[1;32m    991\u001b[0m \u001b[0;34m\u001b[0m\u001b[0m\n",
      "\u001b[0;32m~/opt/anaconda3/lib/python3.8/site-packages/pandas/core/indexes/range.py\u001b[0m in \u001b[0;36mget_loc\u001b[0;34m(self, key, method, tolerance)\u001b[0m\n\u001b[1;32m    355\u001b[0m                     \u001b[0;32mreturn\u001b[0m \u001b[0mself\u001b[0m\u001b[0;34m.\u001b[0m\u001b[0m_range\u001b[0m\u001b[0;34m.\u001b[0m\u001b[0mindex\u001b[0m\u001b[0;34m(\u001b[0m\u001b[0mnew_key\u001b[0m\u001b[0;34m)\u001b[0m\u001b[0;34m\u001b[0m\u001b[0;34m\u001b[0m\u001b[0m\n\u001b[1;32m    356\u001b[0m                 \u001b[0;32mexcept\u001b[0m \u001b[0mValueError\u001b[0m \u001b[0;32mas\u001b[0m \u001b[0merr\u001b[0m\u001b[0;34m:\u001b[0m\u001b[0;34m\u001b[0m\u001b[0;34m\u001b[0m\u001b[0m\n\u001b[0;32m--> 357\u001b[0;31m                     \u001b[0;32mraise\u001b[0m \u001b[0mKeyError\u001b[0m\u001b[0;34m(\u001b[0m\u001b[0mkey\u001b[0m\u001b[0;34m)\u001b[0m \u001b[0;32mfrom\u001b[0m \u001b[0merr\u001b[0m\u001b[0;34m\u001b[0m\u001b[0;34m\u001b[0m\u001b[0m\n\u001b[0m\u001b[1;32m    358\u001b[0m             \u001b[0;32mraise\u001b[0m \u001b[0mKeyError\u001b[0m\u001b[0;34m(\u001b[0m\u001b[0mkey\u001b[0m\u001b[0;34m)\u001b[0m\u001b[0;34m\u001b[0m\u001b[0;34m\u001b[0m\u001b[0m\n\u001b[1;32m    359\u001b[0m         \u001b[0;32mreturn\u001b[0m \u001b[0msuper\u001b[0m\u001b[0;34m(\u001b[0m\u001b[0;34m)\u001b[0m\u001b[0;34m.\u001b[0m\u001b[0mget_loc\u001b[0m\u001b[0;34m(\u001b[0m\u001b[0mkey\u001b[0m\u001b[0;34m,\u001b[0m \u001b[0mmethod\u001b[0m\u001b[0;34m=\u001b[0m\u001b[0mmethod\u001b[0m\u001b[0;34m,\u001b[0m \u001b[0mtolerance\u001b[0m\u001b[0;34m=\u001b[0m\u001b[0mtolerance\u001b[0m\u001b[0;34m)\u001b[0m\u001b[0;34m\u001b[0m\u001b[0;34m\u001b[0m\u001b[0m\n",
      "\u001b[0;31mKeyError\u001b[0m: -1"
     ]
    }
   ],
   "source": [
    "ser[-1]"
   ]
  },
  {
   "cell_type": "markdown",
   "metadata": {},
   "source": [
    "In this case, pandas could “fall back” on integer indexing,  \n",
    "but it’s difficult to do this in general without introducing subtle bugs.  \n",
    "Here we have an index containing 0, 1, 2, but inferring what the user wants  \n",
    "(label-based indexing or position-based) is difficult"
   ]
  },
  {
   "cell_type": "markdown",
   "metadata": {},
   "source": [
    "On the other hand, with a non-integer index, there is no potential for ambiguity:"
   ]
  },
  {
   "cell_type": "code",
   "execution_count": 165,
   "metadata": {},
   "outputs": [],
   "source": [
    "ser2 = pd.Series(np.arange(3.), index=['a', 'b', 'c'])"
   ]
  },
  {
   "cell_type": "code",
   "execution_count": 166,
   "metadata": {},
   "outputs": [
    {
     "data": {
      "text/plain": [
       "2.0"
      ]
     },
     "execution_count": 166,
     "metadata": {},
     "output_type": "execute_result"
    }
   ],
   "source": [
    "ser2[-1]"
   ]
  },
  {
   "cell_type": "markdown",
   "metadata": {},
   "source": [
    "To keep things consistent, if you have an axis index containing integers,  \n",
    "data selection will always be label-oriented.  \n",
    "For more precise handling, use loc (for labels) or iloc (for integers):  "
   ]
  },
  {
   "cell_type": "code",
   "execution_count": 167,
   "metadata": {},
   "outputs": [
    {
     "data": {
      "text/plain": [
       "0    0.0\n",
       "dtype: float64"
      ]
     },
     "execution_count": 167,
     "metadata": {},
     "output_type": "execute_result"
    }
   ],
   "source": [
    "ser[:1]"
   ]
  },
  {
   "cell_type": "code",
   "execution_count": 168,
   "metadata": {},
   "outputs": [
    {
     "data": {
      "text/plain": [
       "0    0.0\n",
       "1    1.0\n",
       "dtype: float64"
      ]
     },
     "execution_count": 168,
     "metadata": {},
     "output_type": "execute_result"
    }
   ],
   "source": [
    "ser.loc[:1]"
   ]
  },
  {
   "cell_type": "code",
   "execution_count": 169,
   "metadata": {},
   "outputs": [
    {
     "data": {
      "text/plain": [
       "0    0.0\n",
       "dtype: float64"
      ]
     },
     "execution_count": 169,
     "metadata": {},
     "output_type": "execute_result"
    }
   ],
   "source": [
    "ser.iloc[:1]"
   ]
  },
  {
   "cell_type": "markdown",
   "metadata": {},
   "source": [
    "### Arithmetic and Data Alignment"
   ]
  },
  {
   "cell_type": "code",
   "execution_count": 170,
   "metadata": {},
   "outputs": [],
   "source": [
    "s1 = pd.Series([7.3, -2.5, 3.4, 1.5], index=['a', 'c', 'd', 'e'])"
   ]
  },
  {
   "cell_type": "code",
   "execution_count": 171,
   "metadata": {},
   "outputs": [],
   "source": [
    "s2 = pd.Series([-2.1, 3.6, -1.5, 4, 3.1], index=['a', 'c', 'e', 'f', 'g'])"
   ]
  },
  {
   "cell_type": "code",
   "execution_count": 172,
   "metadata": {},
   "outputs": [
    {
     "data": {
      "text/plain": [
       "a    7.3\n",
       "c   -2.5\n",
       "d    3.4\n",
       "e    1.5\n",
       "dtype: float64"
      ]
     },
     "execution_count": 172,
     "metadata": {},
     "output_type": "execute_result"
    }
   ],
   "source": [
    "s1"
   ]
  },
  {
   "cell_type": "code",
   "execution_count": 173,
   "metadata": {},
   "outputs": [
    {
     "data": {
      "text/plain": [
       "a   -2.1\n",
       "c    3.6\n",
       "e   -1.5\n",
       "f    4.0\n",
       "g    3.1\n",
       "dtype: float64"
      ]
     },
     "execution_count": 173,
     "metadata": {},
     "output_type": "execute_result"
    }
   ],
   "source": [
    "s2"
   ]
  },
  {
   "cell_type": "code",
   "execution_count": 174,
   "metadata": {},
   "outputs": [
    {
     "data": {
      "text/plain": [
       "a    5.2\n",
       "c    1.1\n",
       "d    NaN\n",
       "e    0.0\n",
       "f    NaN\n",
       "g    NaN\n",
       "dtype: float64"
      ]
     },
     "execution_count": 174,
     "metadata": {},
     "output_type": "execute_result"
    }
   ],
   "source": [
    "s1 + s2"
   ]
  },
  {
   "cell_type": "code",
   "execution_count": 176,
   "metadata": {},
   "outputs": [],
   "source": [
    "df1 = pd.DataFrame(np.arange(9.).reshape((3, 3)), columns=list('bcd'), index=['Ohio', 'Texas', 'Colorado'])\n",
    "df2 = pd.DataFrame(np.arange(12.).reshape((4, 3)), columns=list('bde'), index=['Utah', 'Ohio', 'Texas', 'Oregon'])"
   ]
  },
  {
   "cell_type": "code",
   "execution_count": 177,
   "metadata": {},
   "outputs": [
    {
     "data": {
      "text/html": [
       "<div>\n",
       "<style scoped>\n",
       "    .dataframe tbody tr th:only-of-type {\n",
       "        vertical-align: middle;\n",
       "    }\n",
       "\n",
       "    .dataframe tbody tr th {\n",
       "        vertical-align: top;\n",
       "    }\n",
       "\n",
       "    .dataframe thead th {\n",
       "        text-align: right;\n",
       "    }\n",
       "</style>\n",
       "<table border=\"1\" class=\"dataframe\">\n",
       "  <thead>\n",
       "    <tr style=\"text-align: right;\">\n",
       "      <th></th>\n",
       "      <th>b</th>\n",
       "      <th>c</th>\n",
       "      <th>d</th>\n",
       "    </tr>\n",
       "  </thead>\n",
       "  <tbody>\n",
       "    <tr>\n",
       "      <th>Ohio</th>\n",
       "      <td>0.0</td>\n",
       "      <td>1.0</td>\n",
       "      <td>2.0</td>\n",
       "    </tr>\n",
       "    <tr>\n",
       "      <th>Texas</th>\n",
       "      <td>3.0</td>\n",
       "      <td>4.0</td>\n",
       "      <td>5.0</td>\n",
       "    </tr>\n",
       "    <tr>\n",
       "      <th>Colorado</th>\n",
       "      <td>6.0</td>\n",
       "      <td>7.0</td>\n",
       "      <td>8.0</td>\n",
       "    </tr>\n",
       "  </tbody>\n",
       "</table>\n",
       "</div>"
      ],
      "text/plain": [
       "            b    c    d\n",
       "Ohio      0.0  1.0  2.0\n",
       "Texas     3.0  4.0  5.0\n",
       "Colorado  6.0  7.0  8.0"
      ]
     },
     "execution_count": 177,
     "metadata": {},
     "output_type": "execute_result"
    }
   ],
   "source": [
    "df1"
   ]
  },
  {
   "cell_type": "code",
   "execution_count": 178,
   "metadata": {},
   "outputs": [
    {
     "data": {
      "text/html": [
       "<div>\n",
       "<style scoped>\n",
       "    .dataframe tbody tr th:only-of-type {\n",
       "        vertical-align: middle;\n",
       "    }\n",
       "\n",
       "    .dataframe tbody tr th {\n",
       "        vertical-align: top;\n",
       "    }\n",
       "\n",
       "    .dataframe thead th {\n",
       "        text-align: right;\n",
       "    }\n",
       "</style>\n",
       "<table border=\"1\" class=\"dataframe\">\n",
       "  <thead>\n",
       "    <tr style=\"text-align: right;\">\n",
       "      <th></th>\n",
       "      <th>b</th>\n",
       "      <th>d</th>\n",
       "      <th>e</th>\n",
       "    </tr>\n",
       "  </thead>\n",
       "  <tbody>\n",
       "    <tr>\n",
       "      <th>Utah</th>\n",
       "      <td>0.0</td>\n",
       "      <td>1.0</td>\n",
       "      <td>2.0</td>\n",
       "    </tr>\n",
       "    <tr>\n",
       "      <th>Ohio</th>\n",
       "      <td>3.0</td>\n",
       "      <td>4.0</td>\n",
       "      <td>5.0</td>\n",
       "    </tr>\n",
       "    <tr>\n",
       "      <th>Texas</th>\n",
       "      <td>6.0</td>\n",
       "      <td>7.0</td>\n",
       "      <td>8.0</td>\n",
       "    </tr>\n",
       "    <tr>\n",
       "      <th>Oregon</th>\n",
       "      <td>9.0</td>\n",
       "      <td>10.0</td>\n",
       "      <td>11.0</td>\n",
       "    </tr>\n",
       "  </tbody>\n",
       "</table>\n",
       "</div>"
      ],
      "text/plain": [
       "          b     d     e\n",
       "Utah    0.0   1.0   2.0\n",
       "Ohio    3.0   4.0   5.0\n",
       "Texas   6.0   7.0   8.0\n",
       "Oregon  9.0  10.0  11.0"
      ]
     },
     "execution_count": 178,
     "metadata": {},
     "output_type": "execute_result"
    }
   ],
   "source": [
    "df2"
   ]
  },
  {
   "cell_type": "code",
   "execution_count": 179,
   "metadata": {},
   "outputs": [
    {
     "data": {
      "text/html": [
       "<div>\n",
       "<style scoped>\n",
       "    .dataframe tbody tr th:only-of-type {\n",
       "        vertical-align: middle;\n",
       "    }\n",
       "\n",
       "    .dataframe tbody tr th {\n",
       "        vertical-align: top;\n",
       "    }\n",
       "\n",
       "    .dataframe thead th {\n",
       "        text-align: right;\n",
       "    }\n",
       "</style>\n",
       "<table border=\"1\" class=\"dataframe\">\n",
       "  <thead>\n",
       "    <tr style=\"text-align: right;\">\n",
       "      <th></th>\n",
       "      <th>b</th>\n",
       "      <th>c</th>\n",
       "      <th>d</th>\n",
       "      <th>e</th>\n",
       "    </tr>\n",
       "  </thead>\n",
       "  <tbody>\n",
       "    <tr>\n",
       "      <th>Colorado</th>\n",
       "      <td>NaN</td>\n",
       "      <td>NaN</td>\n",
       "      <td>NaN</td>\n",
       "      <td>NaN</td>\n",
       "    </tr>\n",
       "    <tr>\n",
       "      <th>Ohio</th>\n",
       "      <td>3.0</td>\n",
       "      <td>NaN</td>\n",
       "      <td>6.0</td>\n",
       "      <td>NaN</td>\n",
       "    </tr>\n",
       "    <tr>\n",
       "      <th>Oregon</th>\n",
       "      <td>NaN</td>\n",
       "      <td>NaN</td>\n",
       "      <td>NaN</td>\n",
       "      <td>NaN</td>\n",
       "    </tr>\n",
       "    <tr>\n",
       "      <th>Texas</th>\n",
       "      <td>9.0</td>\n",
       "      <td>NaN</td>\n",
       "      <td>12.0</td>\n",
       "      <td>NaN</td>\n",
       "    </tr>\n",
       "    <tr>\n",
       "      <th>Utah</th>\n",
       "      <td>NaN</td>\n",
       "      <td>NaN</td>\n",
       "      <td>NaN</td>\n",
       "      <td>NaN</td>\n",
       "    </tr>\n",
       "  </tbody>\n",
       "</table>\n",
       "</div>"
      ],
      "text/plain": [
       "            b   c     d   e\n",
       "Colorado  NaN NaN   NaN NaN\n",
       "Ohio      3.0 NaN   6.0 NaN\n",
       "Oregon    NaN NaN   NaN NaN\n",
       "Texas     9.0 NaN  12.0 NaN\n",
       "Utah      NaN NaN   NaN NaN"
      ]
     },
     "execution_count": 179,
     "metadata": {},
     "output_type": "execute_result"
    }
   ],
   "source": [
    "df1 + df2"
   ]
  },
  {
   "cell_type": "markdown",
   "metadata": {},
   "source": [
    "#### Arithmetic methods with fill values"
   ]
  },
  {
   "cell_type": "code",
   "execution_count": null,
   "metadata": {},
   "outputs": [],
   "source": []
  }
 ],
 "metadata": {
  "kernelspec": {
   "display_name": "Python 3",
   "language": "python",
   "name": "python3"
  },
  "language_info": {
   "codemirror_mode": {
    "name": "ipython",
    "version": 3
   },
   "file_extension": ".py",
   "mimetype": "text/x-python",
   "name": "python",
   "nbconvert_exporter": "python",
   "pygments_lexer": "ipython3",
   "version": "3.8.5"
  },
  "toc": {
   "base_numbering": 1,
   "nav_menu": {},
   "number_sections": true,
   "sideBar": true,
   "skip_h1_title": false,
   "title_cell": "Table of Contents",
   "title_sidebar": "Contents",
   "toc_cell": false,
   "toc_position": {},
   "toc_section_display": true,
   "toc_window_display": false
  }
 },
 "nbformat": 4,
 "nbformat_minor": 4
}
